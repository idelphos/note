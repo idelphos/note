{
 "cells": [
  {
   "cell_type": "code",
   "execution_count": null,
   "metadata": {},
   "outputs": [],
   "source": []
  },
  {
   "cell_type": "markdown",
   "metadata": {},
   "source": [
    "# OOP 相关定义\n",
    "**class** : 用来描述具有相同的属性和方法的对象集合. 它定义了该集合中每个对象所共有的属性和方法. 对象是类的实例.  类是创建实例的模板，而实例则是一个一个具体的对象，各个实例拥有的数据都互相独立，互不影响；\n",
    "\n",
    "**method**: 方法,  类中定义的函数,就是与实例绑定的函数，和普通函数不同，方法可以直接访问实例的数据 . 通过在实例上调用方法，我们就直接操作了对象内部的数据，但无需知道方法内部的实现细节。\n",
    "\n",
    "**object** :对象, 也称实例, 通过类定义的数据结构实例。对象包括两类数据成员（类变量和实例变量）和方法。\n",
    "\n",
    "**实例化**：创建一个类的实例，类的具体对象。\n",
    "\n",
    "**类变量**:  类变量在整个实例化的对象中是公用的,不单独分配给每个实例. 类变量定义在类中且在函数体外. 类变量通常不作为实例变量使用\n",
    "\n",
    "**实例变量**:在类的声明中，属性是用变量来表示的，这种变量就称为实例变量，实例变量就是一个用 **self** 修饰的变量。实例化后,每个实例单独拥有的变量\n",
    "\n",
    "**数据成员**:类变量或实例变量 用于处理类及其实例对象的相关数据\n",
    "\n",
    "?**局部变量**: 定义在方法中的变量,只作用于当前实例的类\n",
    "\n",
    "**继承**：即一个派生类（derived class）继承基类（base class）的字段和方法。继承也允许把一个派生类的对象作为一个基类对象对待。例如，有这样一个设计：一个Dog类型的对象派生自Animal类，这是模拟\"是一个（is-a）\"关系（例图，Dog是一个Animal）\n",
    "\n",
    "**方法重写**: 如果父类继承的方法不能满足子类的需求,可以对其改写, 这个过程叫方法的覆盖(override), 也称方法的重写\n",
    "\n"
   ]
  },
  {
   "cell_type": "code",
   "execution_count": 1,
   "metadata": {},
   "outputs": [
    {
     "name": "stdout",
     "output_type": "stream",
     "text": [
      "Tom\n"
     ]
    }
   ],
   "source": [
    "class Athele:\n",
    "    ''' \n",
    "      类定义示例 docstring \n",
    "    ''' \n",
    "    name = ''\n",
    "    age = 0\n",
    "  \n",
    "    #定义私有属性, 私有属性在类外部无法直接访问\n",
    "    __weight = 0\n",
    "    \n",
    "    \n",
    "    \n",
    "    def __init__(self, a_name, a_bob = None, a_times = []):\n",
    "    \n",
    "    # 属性 attribute 定义\n",
    "    # 类中的属性都必须有初始值\n",
    "    # 可通过类函数来访问这些数据 , 访问如 self.name 形式\n",
    "        self.name  = a_name\n",
    "        self.bob   = a_bob\n",
    "        self.times = a_times\n",
    "        self.height = 0       #设定属性默认值\n",
    "    \n",
    "\n",
    "    #与普通函数相比, 类中定义的函数只有一点不同, 就是第一个参数永远是实例变量self.\n",
    "    #类内定义的访问数据的函数, 对数据实现了封装\n",
    "    \n",
    "    def top(self):\n",
    "        return(sorted(set([sanitize(t) for t in self.times]))[0:3])\n",
    "  \n",
    "    def add_time(self, time_value):\n",
    "        self.times.append(time_value)\n",
    "  \n",
    "    def add_times(self, list_of_times):\n",
    "        self.times.extend(list_of_times)\n",
    "        \n",
    "    #关于封装\n",
    "    #数据和逻辑被封装起来,调用很容易, 不用知道内部实现细节.\n",
    "    #封装的另一个好处是,可以很容易给类增加新的方法\n",
    "\n",
    "\n",
    "inst1 = Athele('Tom','George', [23,45])        #类实例化\n",
    "print(inst1.name)                              #句点形式访问方法或属性 obj.name"
   ]
  },
  {
   "cell_type": "markdown",
   "metadata": {},
   "source": [
    "# 实例变量与类变量"
   ]
  },
  {
   "cell_type": "markdown",
   "metadata": {},
   "source": [
    "python**普通变量**: 在被赋值后即变量存在, 可读可写\n",
    "\n",
    "python **类变量**: 在类设计里,class里, def functionName外,通过变量名就能被赋值; def 里通过类名字的点运算,变量可被赋值.   在程序中, 通过类名字的点运算,类变量也能被赋值\n",
    "\n",
    "Python **实例变量**: 在类设计里, def 里通过self 点运算 ,变量可被赋值. 不一定非在\\_\\__init__()  , 其它已被调用的函数也行.  在程序里,通过实例对象的点运算, 变量可被赋值."
   ]
  },
  {
   "cell_type": "code",
   "execution_count": 2,
   "metadata": {},
   "outputs": [
    {
     "name": "stdout",
     "output_type": "stream",
     "text": [
      "23\n",
      "20 13\n",
      "14 15\n",
      "30 20\n",
      "11 12\n",
      "30 20\n"
     ]
    }
   ],
   "source": [
    "class classVarTest:\n",
    "    '''\n",
    "    理解类变量与实例变量的区别\n",
    "    '''\n",
    "    class_var = 10\n",
    "    \n",
    "    def __init__(self):\n",
    "        self.inst_var1 = 11\n",
    "        self.inst_var2 = 12\n",
    "    \n",
    "    def add(self):\n",
    "        return self.inst_var1 + self.inst_var2\n",
    "\n",
    "inst1 = classVarTest()        # 实例化\n",
    "\n",
    "print(inst1.add())            # 23 \n",
    "\n",
    "\n",
    "# inst1.class_var 是实例变量\n",
    "# 类变量用 className.classVarName形式访问\n",
    "classVarTest.class_var = 20\n",
    "inst1.class_var = 13\n",
    "\n",
    "print(classVarTest.class_var, inst1.class_var)    # 20 13\n",
    "\n",
    "# inst1.t  inst1.q 都是实例变量\n",
    "inst1.t = 14\n",
    "inst1.q = 15 \n",
    "print(inst1.t,inst1.q)                  # 14  15\n",
    "\n",
    "#classVarTest.m ,classVarTest.n 是类变量\n",
    "classVarTest.m = 30\n",
    "classVarTest.n = 20               \n",
    "print(classVarTest.m,classVarTest.n )       #30 20 \n",
    "\n",
    "\n",
    "#和静态语言不同，Python允许对实例变量绑定任何数据，也就是说，对于两个实例变量，虽然它们都是同一个类的不同实例，但拥有的变量名称都可能不同\n",
    "inst2 = classVarTest()                      #实例化\n",
    "print(inst2.inst_var1, inst2.inst_var2)     # 11 12\n",
    "# print(inst2.t, inst2.q)                     #出错, 新实现,而且classVarTest类中没有 t, q的属性\n",
    "\n",
    "#m,n 类变量\n",
    "print(inst2.m, inst2.n)                     # 30 20 \n"
   ]
  },
  {
   "cell_type": "code",
   "execution_count": null,
   "metadata": {},
   "outputs": [],
   "source": [
    "class changeAttr:\n",
    "    class_var = 'class variable for test'\n",
    "    \n",
    "    def __init__(self):\n",
    "        self.name = 'Tom'\n",
    "        self.age = 23\n",
    "        \n",
    "    def update_name(self,mi):\n",
    "        self.name = mi\n",
    "    \n",
    "    def print_class_var(self):\n",
    "        print(changeAttr.class_var)\n",
    "       \n",
    "\n",
    "        \n",
    "inst1 = changeAttr()\n",
    "print(inst1.name)\n",
    "\n",
    "inst1.print_class_var()\n",
    "\n",
    "inst1.name = 'George'\n",
    "print(inst1.name)\n",
    "\n",
    "inst1.update_name('Johnny')\n",
    "print(inst1.name)\n"
   ]
  },
  {
   "cell_type": "markdown",
   "metadata": {},
   "source": [
    "# 继承"
   ]
  },
  {
   "cell_type": "code",
   "execution_count": 18,
   "metadata": {},
   "outputs": [
    {
     "name": "stdout",
     "output_type": "stream",
     "text": [
      "ken 说: 我 10 岁了，我在读 3 年级\n"
     ]
    }
   ],
   "source": [
    "#类定义\n",
    "class people:\n",
    "    #定义基本属性\n",
    "    name = ''\n",
    "    age = 0\n",
    "    #定义私有属性,私有属性在类外部无法直接进行访问\n",
    "    __weight = 0\n",
    "    #定义构造方法\n",
    "    def __init__(self,n,a,w):\n",
    "        self.name = n\n",
    "        self.age = a\n",
    "        self.__weight = w\n",
    "    def speak(self):\n",
    "        print(\"%s 说: 我 %d 岁。\" %(self.name,self.age))\n",
    " \n",
    "#单继承示例\n",
    "class student(people):\n",
    "    grade = ''\n",
    "    def __init__(self,n,a,w,g):\n",
    "        #调用父类的构造函数\n",
    "        people.__init__(self,n,a,w)\n",
    "        self.grade = g\n",
    "    \n",
    "    #覆写父类的方法\n",
    "    def speak(self):\n",
    "        print(\"%s 说: 我 %d 岁了，我在读 %d 年级\"%(self.name,self.age,self.grade))\n",
    " \n",
    " \n",
    " \n",
    "s = student('ken',10,60,3)\n",
    "s.speak()"
   ]
  },
  {
   "cell_type": "markdown",
   "metadata": {},
   "source": [
    "# 多继承"
   ]
  },
  {
   "cell_type": "code",
   "execution_count": 19,
   "metadata": {},
   "outputs": [
    {
     "name": "stdout",
     "output_type": "stream",
     "text": [
      "我叫 Tim，我是一个演说家，我演讲的主题是 Python\n"
     ]
    }
   ],
   "source": [
    "#类定义\n",
    "class people:\n",
    "    #定义基本属性\n",
    "    name = ''\n",
    "    age = 0\n",
    "    #定义私有属性,私有属性在类外部无法直接进行访问\n",
    "    __weight = 0\n",
    "    #定义构造方法\n",
    "    def __init__(self,n,a,w):\n",
    "        self.name = n\n",
    "        self.age = a\n",
    "        self.__weight = w\n",
    "    def speak(self):\n",
    "        print(\"%s 说: 我 %d 岁。\" %(self.name,self.age))\n",
    " \n",
    "#单继承示例\n",
    "class student(people):\n",
    "    grade = ''\n",
    "    def __init__(self,n,a,w,g):\n",
    "        #调用父类的构函\n",
    "        people.__init__(self,n,a,w)\n",
    "        self.grade = g\n",
    "    #覆写父类的方法\n",
    "    def speak(self):\n",
    "        print(\"%s 说: 我 %d 岁了，我在读 %d 年级\"%(self.name,self.age,self.grade))\n",
    " \n",
    "#另一个类，多重继承之前的准备\n",
    "class speaker():\n",
    "    topic = ''\n",
    "    name = ''\n",
    "    def __init__(self,n,t):\n",
    "        self.name = n\n",
    "        self.topic = t\n",
    "    def speak(self):\n",
    "        print(\"我叫 %s，我是一个演说家，我演讲的主题是 %s\"%(self.name,self.topic))\n",
    " \n",
    "#多重继承\n",
    "class sample(speaker,student):\n",
    "    a =''\n",
    "    def __init__(self,n,a,w,g,t):\n",
    "        student.__init__(self,n,a,w,g)\n",
    "        speaker.__init__(self,n,t)\n",
    " \n",
    "test = sample(\"Tim\",25,80,4,\"Python\")\n",
    "test.speak()   #方法名同，默认调用的是在括号中排前地父类的方法"
   ]
  },
  {
   "cell_type": "code",
   "execution_count": null,
   "metadata": {},
   "outputs": [],
   "source": []
  }
 ],
 "metadata": {
  "kernelspec": {
   "display_name": "Python 3",
   "language": "python",
   "name": "python3"
  },
  "language_info": {
   "codemirror_mode": {
    "name": "ipython",
    "version": 3
   },
   "file_extension": ".py",
   "mimetype": "text/x-python",
   "name": "python",
   "nbconvert_exporter": "python",
   "pygments_lexer": "ipython3",
   "version": "3.11.5"
  }
 },
 "nbformat": 4,
 "nbformat_minor": 4
}
