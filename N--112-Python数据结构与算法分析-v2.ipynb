{
 "cells": [
  {
   "cell_type": "markdown",
   "metadata": {},
   "source": [
    "# 1. Intro\n",
    "\n",
    "### 1.3.2 \n",
    "数据结构是抽象数据类型的实现.  \n",
    "类是对数据的构成(状态) 和数据能做什么(行为)的描述.  \n",
    "数据项则被称为对象.  一个对象就是类的一个实例..  \n"
   ]
  },
  {
   "cell_type": "markdown",
   "metadata": {},
   "source": [
    "python 学生管理系统开发攻略:从零开到到架构优化"
   ]
  }
 ],
 "metadata": {
  "language_info": {
   "name": "python"
  }
 },
 "nbformat": 4,
 "nbformat_minor": 2
}
