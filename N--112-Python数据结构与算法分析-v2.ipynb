{
 "cells": [
  {
   "cell_type": "markdown",
   "metadata": {},
   "source": [
    "# 1. Intro\n",
    "\n",
    "### 1.3.2 \n",
    "数据结构是抽象数据类型的实现.  \n",
    "类是对数据的构成(状态) 和数据能做什么(行为)的描述.  \n",
    "数据项则被称为对象.  一个对象就是类的一个实例. \n",
    "\n",
    "### 1.4.6 实现Fraction类\n"
   ]
  },
  {
   "cell_type": "code",
   "execution_count": 8,
   "metadata": {},
   "outputs": [
    {
     "name": "stdout",
     "output_type": "stream",
     "text": [
      "True\n",
      "3/4\n",
      "3/2\n"
     ]
    }
   ],
   "source": [
    "\n",
    "\n",
    "\n",
    "class Fraction():\n",
    "    def __init__(self,top,bottom):\n",
    "        self.num = top\n",
    "        self.den = bottom\n",
    "    \n",
    "    def __str__(self):\n",
    "        '''print的返回值'''\n",
    "        return str(self.num) + '/' + str(self.den)\n",
    "    \n",
    "    def show(self):\n",
    "        print(self.num,'/', self.den)\n",
    "    \n",
    "    @classmethod\n",
    "    def gcd(cls,m,n):\n",
    "        if m < n:\n",
    "            m,n = n,m\n",
    "        while m % n !=0:\n",
    "            oldm = m\n",
    "            oldn = n\n",
    "\n",
    "            m = oldn\n",
    "            n = oldm % oldn\n",
    "        return n\n",
    "\n",
    "    def __add__(self,anther_faction):\n",
    "        num = self.num * anther_faction.den + self.den * anther_faction.num \n",
    "        den = self.den * anther_faction.den\n",
    "        s_num = num // Fraction.gcd(num,den)\n",
    "        s_den = den // Fraction.gcd(num,den)\n",
    "\n",
    "        return Fraction(s_num,s_den)\n",
    "\n",
    "    def __eq__(self,other):\n",
    "        firstnum = self.num * other.den\n",
    "        secondnum = self.den * other.num\n",
    "        return firstnum == secondnum\n",
    "\n",
    "\n",
    "    \n",
    "fa = Fraction(3,4)\n",
    "fb = Fraction(3,4)\n",
    "print(fa == fb)\n",
    "\n",
    "fc = fa + fb\n",
    "print(fa)\n",
    "print(fc)"
   ]
  },
  {
   "cell_type": "markdown",
   "metadata": {},
   "source": [
    "# 3. 线性数据结构\n",
    "栈,队列, 双端队列, 列表都是有序的数据集合, 其元素的顺序取决于添加或删除的顺序, 元素添加后, 它与前后元素的相对位置保持不变, 这样的数据集合称为线性数据结构.\n",
    "\n",
    "## 3.3 栈\n",
    "\n",
    "### 3.3.3 使用列表实现栈"
   ]
  },
  {
   "cell_type": "code",
   "execution_count": null,
   "metadata": {},
   "outputs": [],
   "source": [
    "\n",
    "class Stack():\n",
    "    def __init__(self):\n",
    "        self.data = []\n",
    "\n",
    "    def push(self,item):\n",
    "        '''栈顶添加元素'''\n",
    "        self.data.append(item)\n",
    "\n",
    "    def pop(self):\n",
    "        '''弹出栈顶元素'''\n",
    "        if len(self.data) == 0:\n",
    "            raise Exception('栈为空')\n",
    "        return self.data.pop()\n",
    "            \n",
    "\n",
    "    def peek(self):\n",
    "        '''返回栈顶端的元素, 并不移除该元素'''\n",
    "        if len(self.data):\n",
    "            raise Exception('栈为空')\n",
    "        return self.data[len(self.data)-1]\n",
    "    \n",
    "    def is_empty(self):\n",
    "        '''判断栈是不是为空'''\n",
    "        return len(self.data) == 0\n",
    "    \n",
    "    def size(self):\n",
    "        '''栈中元素数目'''\n",
    "        return len(self.data)\n",
    "    \n",
    "    def show(self):\n",
    "        for item in self.data:\n",
    "            print(item)\n",
    "\n",
    "st = Stack()\n",
    "st.push(5)\n",
    "\n",
    "\n",
    "\n",
    "\n",
    "        \n"
   ]
  },
  {
   "cell_type": "markdown",
   "metadata": {},
   "source": [
    "## 3.4 队列\n",
    "队列是有序集合, 添加操作发生在'尾部', 移除操作则发生在'头部'.\n"
   ]
  },
  {
   "cell_type": "code",
   "execution_count": 21,
   "metadata": {},
   "outputs": [
    {
     "name": "stdout",
     "output_type": "stream",
     "text": [
      "a\n",
      "b\n"
     ]
    }
   ],
   "source": [
    "class Queue:\n",
    "    def __init__(self):\n",
    "        self.items = []\n",
    "    \n",
    "    def enqueue(self,item):\n",
    "        '''添加元素'''\n",
    "        self.items.insert(0,item)\n",
    "    \n",
    "    def dequeue(self):\n",
    "        '''移除元素'''\n",
    "        return self.items.pop()\n",
    "\n",
    "\n",
    "    def size(self):\n",
    "        '''返回队列元素数目'''\n",
    "        return len(self.items)\n",
    "    \n",
    "    def is_empty(self):\n",
    "        '''判断队列是否为空'''\n",
    "        return self.items == []\n",
    "    \n",
    "    def show(self):\n",
    "        for item in self.items:\n",
    "            print(item)\n",
    "    \n",
    "\n",
    "q = Queue()\n",
    "q.enqueue('a')\n",
    "q.enqueue('b')\n",
    "print(q.dequeue())\n",
    "q.show()\n"
   ]
  },
  {
   "cell_type": "code",
   "execution_count": 24,
   "metadata": {},
   "outputs": [
    {
     "name": "stdout",
     "output_type": "stream",
     "text": [
      "Susan\n"
     ]
    }
   ],
   "source": [
    "# 传土豆模拟程序\n",
    "\n",
    "def hotPotato(namelist,num):\n",
    "    child_queue = Queue()\n",
    "    for name in namelist:\n",
    "        child_queue.enqueue(name)\n",
    "    \n",
    "    while child_queue.size() > 1:\n",
    "        for _ in range(num):\n",
    "            child_queue.enqueue(child_queue.dequeue())\n",
    "        child_queue.dequeue()\n",
    "    \n",
    "    return child_queue.dequeue()\n",
    "\n",
    "name = ['Bill','David','Susan','Jane','Kent','David']\n",
    "\n",
    "print(hotPotato(name,7))"
   ]
  },
  {
   "cell_type": "markdown",
   "metadata": {},
   "source": [
    "## 3.5 双端队列\n",
    "双端队列是与队列类似的有序集合,新元素可以从两端添加,也可以从任意一端移除.\n"
   ]
  },
  {
   "cell_type": "code",
   "execution_count": null,
   "metadata": {},
   "outputs": [],
   "source": [
    "## 实现双端队列类 Deque\n",
    "class Deque:\n",
    "    def __init__(self):\n",
    "        self.items = []\n",
    "    \n",
    "    def add_front(self,item):\n",
    "        self.items.append(item)\n",
    "    \n",
    "    def add_rear(self,item):\n",
    "        self.items.insert(0,item)\n",
    "    \n",
    "    def remove_front(self):\n",
    "        return self.items.pop()\n",
    "    \n",
    "    def remove_rear(self):\n",
    "        return self.items.pop(0)\n",
    "    \n",
    "    def is_empty(self):\n",
    "        return self.items == []\n",
    "    \n",
    "    def size(self):\n",
    "        return len(self.items)\n",
    "    \n"
   ]
  },
  {
   "cell_type": "code",
   "execution_count": null,
   "metadata": {},
   "outputs": [],
   "source": [
    "# 回文检测器\n",
    "\n",
    "def palchecker(astring):\n",
    "    s = Deque()\n",
    "    data \n",
    "    "
   ]
  },
  {
   "cell_type": "markdown",
   "metadata": {},
   "source": [
    "# 4. 递归\n",
    "递归将问题不断地分成更小的子问题, 直到子问题可以用普通的方法解决.\n",
    "递归三原则:\n",
    "1. 递归算法必须有一个基本结束条件\n",
    "2. 递归算法必须改变其状态并向基本结束条件演进\n",
    "3. 递归算法必须递归地调用自身\n"
   ]
  }
 ],
 "metadata": {
  "kernelspec": {
   "display_name": "Python 3",
   "language": "python",
   "name": "python3"
  },
  "language_info": {
   "codemirror_mode": {
    "name": "ipython",
    "version": 3
   },
   "file_extension": ".py",
   "mimetype": "text/x-python",
   "name": "python",
   "nbconvert_exporter": "python",
   "pygments_lexer": "ipython3",
   "version": "3.11.5"
  }
 },
 "nbformat": 4,
 "nbformat_minor": 2
}
