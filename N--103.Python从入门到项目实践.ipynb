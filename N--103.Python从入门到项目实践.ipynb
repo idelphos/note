{
 "cells": [
  {
   "cell_type": "markdown",
   "metadata": {},
   "source": [
    "# 1. 基础入门\n",
    "Python 是一种编程语言, 它有对象, 模块, 线程, 异常处理和自动内存管理. 它简洁,容易扩展, 开源.\n",
    "- Python 是一种解释型语言\n",
    "- 交互式语言\n",
    "- 支持OOP"
   ]
  },
  {
   "cell_type": "markdown",
   "metadata": {},
   "source": [
    "### 1.2.3 运行 Python 程序\n",
    "交互式 和 文件模式\n"
   ]
  },
  {
   "cell_type": "markdown",
   "metadata": {},
   "source": [
    "## 1.3 Python 多解释器与IDE\n",
    "### 1.3.1 Python解释器\n",
    "官方版本的 Python 解释器是 CPython(C语言开发的)\n",
    "除了CPython, 还有一些其它的Python 解释器:\n",
    "- IPython: 在交互上有所增强, 支持自动补全,自动缩进, 支持bash shell, 执行Python 代码的功能和CPython一样.\n",
    "- PyPy:\n",
    "\n",
    "### 1.3.2 IDE: Pycharm"
   ]
  },
  {
   "cell_type": "markdown",
   "metadata": {
    "vscode": {
     "languageId": "plaintext"
    }
   },
   "source": [
    "# 2.Python编程基础\n",
    "\n",
    "## 2.3 Python 基本语法元素\n",
    "\n",
    "### 2.3.1 程序层次结构\n",
    "缩进: Python 使用缩进来表示程序的层次结构, 同一层次的语句必须有相同的缩进.  \n",
    "\n",
    "### 2.3.2 注释\n",
    "\n"
   ]
  },
  {
   "cell_type": "code",
   "execution_count": null,
   "metadata": {},
   "outputs": [],
   "source": [
    "# 单行注释, 可以单独占一行, 也可以放在代码后.  \n",
    "\n",
    "'''\n",
    "多行注释使用三个引号\n",
    "多行注释 \n",
    "'''"
   ]
  },
  {
   "cell_type": "markdown",
   "metadata": {},
   "source": [
    "### 2.3.3 换行与并行\n",
    "\n",
    "#### 换行\n",
    "Python 一般是一行写完所有代码, 如果遇到一行写不完需要换行, 可以采用代码换行的方式将一行代码分成多行编写.  \n",
    "- 行尾加上续行符  \\\n",
    "- 语句中包含() , {} , [] 分行是不需要加换行符\n",
    "- 采用三引号\n",
    "\n",
    "#### 代码并行\n",
    "在 Python 代码缩进语句块中如果只有一条语句, 将下句代码直接写在 : 后面也可以.\n",
    "- : 后只有一条语句\n",
    "- ; 运行多条语句并行"
   ]
  },
  {
   "cell_type": "markdown",
   "metadata": {},
   "source": [
    "### 2.3.4 变量与保留字\n",
    "\n",
    "保留字 是指在程序语言中已经被定义过的字, 不允许使用者再将这些字作为变量名或常量名使用."
   ]
  },
  {
   "cell_type": "code",
   "execution_count": null,
   "metadata": {},
   "outputs": [],
   "source": [
    "import keyword\n",
    "keyword.kwlist\n",
    "['False', 'None', 'True', 'and', 'as', 'assert', 'async', 'await', 'break', 'class', 'continue', 'def', 'del', 'elif', 'else', 'except', 'finally', 'for', 'from', 'global', 'if', 'import', 'in', 'is', 'lambda', 'nonlocal', 'not', 'or', 'pass', 'raise', 'return', 'try', 'while', 'with', 'yield']"
   ]
  },
  {
   "cell_type": "markdown",
   "metadata": {},
   "source": [
    "### 2.3.8 输入与输出\n"
   ]
  },
  {
   "cell_type": "markdown",
   "metadata": {},
   "source": [
    "# 3. 数字和字符串类型\n",
    "## 3.1 数字类型\n",
    "整数, 浮点数, 复数\n",
    "\n",
    "### 3.1.1 整数类型\n",
    "正整数, 负整数, 零.  多种不同的进制方式书写\n",
    "\n",
    "|   进制方式    |   前缀    |   进制说明        |\n",
    "|--------------|----------|------------------|\n",
    "| 二进制        |0b/0B     |                  |\n",
    "| 八进制        |0O        | 数字部分范围0~7    |\n",
    "| 十进制        |无        | 数字部分范围0~9    |\n",
    "| 十六进制      |0x/0X      |0~9 和 A ~ F      |\n"
   ]
  },
  {
   "cell_type": "markdown",
   "metadata": {},
   "source": [
    "### 3.1.3 浮点数\n",
    "由整数和小数部分组成,除日常写法外, 还包括科学计数法, 如3e14 表示3 X 10^14 \n"
   ]
  },
  {
   "cell_type": "markdown",
   "metadata": {},
   "source": [
    "### 3.1.5 布尔类型\n",
    "布尔类型中存在两种值: True 和 False, 支持 &  |  not 运算.\n"
   ]
  },
  {
   "cell_type": "code",
   "execution_count": null,
   "metadata": {},
   "outputs": [],
   "source": [
    "A = True\n",
    "B = False\n",
    "A | B\n",
    "A & B\n",
    "not A \n",
    "not B\n",
    "\n",
    "# Python 中的 True和 False 同样可以和1与0进行等价常规运算\n",
    "print(A + 1)\n",
    "print(B + 1)\n",
    "print(A + B)"
   ]
  },
  {
   "cell_type": "markdown",
   "metadata": {},
   "source": [
    "## 3.2 数字类型的操作\n",
    "- 算术运算符\n",
    "- 赋值运算符\n",
    "- 逻辑运算符\n",
    "- 比较运算符\n",
    "- 内置的数值运算函数\n",
    "- 内置的数字类型转换函数\n",
    "\n",
    "|    逻辑运算符     |   描述        |   描述及等价转换  |\n",
    "|------------------|--------------|-----------------|\n",
    "|   and             | 并且         | 两个操作数均为真, 条件成立  |\n",
    "|   or              | 或者          | 若任意一操作数不为假, 条件成立|\n",
    "|   not             | 不是          | 转换对象的逻辑含义|"
   ]
  },
  {
   "cell_type": "markdown",
   "metadata": {},
   "source": [
    "## 3.3 字符串类型String\n",
    "\n",
    "单引号, 双引号定义的字符串没有区别. 三引号允许换行, 输出自动多行拼接, 但单引号和双引号不允许换行.\n",
    "\n",
    "字符串有很多内置的函数对字符串进行处理.\n"
   ]
  },
  {
   "cell_type": "code",
   "execution_count": null,
   "metadata": {},
   "outputs": [],
   "source": [
    "A = 'this is a string.'\n",
    "A = \" this is a string.\"\n",
    "A = '''this is a string.'''\n",
    "print(A)\n",
    "A = '''lkdljfslk\n",
    "lkjsdfjklkl'''\n",
    "print(A)"
   ]
  },
  {
   "cell_type": "markdown",
   "metadata": {},
   "source": [
    "# 4.Python 列表,元组与字典\n"
   ]
  },
  {
   "cell_type": "markdown",
   "metadata": {},
   "source": [
    "## 4.1 序列\n",
    "序列是一组元素的集合, Python中的 String, list 和 tuple 数据类型都是序列. 序列中的每个元素都有唯一确定的位置, 并且可以按位置编号顺序存取.  \n",
    "- list和tuple 可以同时存放不同类型的元素\n",
    "- list 存放的元素是可变动的, tuple 中的元素是不可变的\n"
   ]
  },
  {
   "cell_type": "markdown",
   "metadata": {},
   "source": [
    "## 4.2 序列通用操作\n",
    "序列有索引, 且实现了正索引和负索引. "
   ]
  },
  {
   "cell_type": "code",
   "execution_count": null,
   "metadata": {},
   "outputs": [],
   "source": [
    "list1 = [1,2,3,4,'a','b','c','d']\n",
    "\n",
    "# 索引 \n",
    "print(list1[0])\n",
    "print(list1[1])\n",
    "print(list1[-1])\n",
    "\n"
   ]
  },
  {
   "cell_type": "markdown",
   "metadata": {},
   "source": [
    "切片是提取序列中某一范围内的元素. 切片格式: 序列名[起始索引:结束索引:步长], 步长默认为1."
   ]
  },
  {
   "cell_type": "code",
   "execution_count": null,
   "metadata": {},
   "outputs": [],
   "source": [
    "# 切片\n",
    "print(list1[0:2])\n",
    "print(list1[0:4:2])\n",
    "print(list1[3:])\n",
    "print(list1[-3:-1])\n",
    "print(list1[-1:])\n",
    "print(list1[:])"
   ]
  },
  {
   "cell_type": "markdown",
   "metadata": {},
   "source": [
    "### 4.2.2 序列计算\n",
    "- '+' 实现两个序列的相加, 拼接, 相加时的序列必须是同类型的.\n",
    "- '*' 可以将序列重复, 得到一个新的序列"
   ]
  },
  {
   "cell_type": "code",
   "execution_count": null,
   "metadata": {},
   "outputs": [],
   "source": [
    "list1 = [1,2,3,4,'a','b','c','d']\n",
    "list2=[5,6,7]\n",
    "a = list1 + list2\n",
    "print(a)\n",
    "\n",
    "b = list2*2\n",
    "print(b)"
   ]
  },
  {
   "cell_type": "markdown",
   "metadata": {},
   "source": [
    "### 4.2.3 序列相关的函数\n",
    "\n",
    "|   序列相关的函数      |   说明             |\n",
    "|---------------------|-------------------|\n",
    "|   in()   not in()   | 元素是否在序列中,返回True 或 False|\n",
    "|   len()              | 序列长度           |\n",
    "|   max()               |  最大元素         |\n",
    "|   min()               |  最小元素         |\n",
    "|   sum()               | 数值序列的和      |\n"
   ]
  },
  {
   "cell_type": "code",
   "execution_count": null,
   "metadata": {},
   "outputs": [],
   "source": [
    "list1 = [1,2,3,4,5]\n",
    "a = 1\n",
    "b = 6\n",
    "print( a in list1)\n",
    "print( b in list1)\n",
    "print(len(list1))\n"
   ]
  },
  {
   "cell_type": "markdown",
   "metadata": {},
   "source": [
    "## 4.3 list\n",
    "列表是元素按顺序排列构成的有序集合. \n",
    "- 列表元素可以是各种类型: 数字,字符串,列表,元组等\n",
    "- 列表的元素是可以被修改的\n",
    "\n",
    "### 4.3.1 创建列表\n",
    "\n",
    "list() 是把目标对象转换为列表的类型,()内可放入元组对象, 列表对象或变量, list()将这些对象转化为列表的列式."
   ]
  },
  {
   "cell_type": "code",
   "execution_count": null,
   "metadata": {},
   "outputs": [],
   "source": [
    "# [] 创建列表\n",
    "list1 = []   # 创建空列表\n",
    "list2 = [1,2,'a','b',[3,1,2],(1,3,2)]\n",
    "print(list1)\n",
    "print(list2)\n",
    "\n",
    "# list() 函数创建列表\n",
    "list1 = list((1,2,'a',[5,'a'],('a',1)))\n",
    "tuple1 = (1,2,3)\n",
    "list2 = list(tuple1)\n",
    "list3 = list()    # 创建空列表\n",
    "a = 1,2,3,4\n",
    "print(a)\n",
    "list4 = list(a)\n",
    "list5=list('ABCDEFG')\n",
    "print(list1)\n",
    "print(type(list1))\n",
    "print(list2)"
   ]
  },
  {
   "cell_type": "markdown",
   "metadata": {},
   "source": [
    "### 4.3.3 列表元素提取\n",
    "提取操作参考序列, 列表元素都是有位置的, 常用的元素提取方法有索引提取和列表切片提取.  \n",
    "索引访问可得到唯一对应的元素.  \n",
    "切片则会得到一段包含对应元素的列表.\n"
   ]
  },
  {
   "cell_type": "code",
   "execution_count": null,
   "metadata": {},
   "outputs": [],
   "source": [
    "list1 = list((1,2,'a',[5,'a'],('a',1)))\n",
    "list2 = list1[0:2]\n",
    "print(list2)\n",
    "print(type(list2))\n",
    "\n",
    "list2 = list1[::-1]    # 反转列表\n",
    "print(list2)"
   ]
  },
  {
   "cell_type": "markdown",
   "metadata": {},
   "source": [
    "### 4.3.4 操作列表的常用函数\n",
    "- append()\n",
    "- exend()\n",
    "- insert()\n",
    "- pop()\n",
    "- remove()\n",
    "- del()  将列表中提取的元素删除\n",
    "- copy() 创建一个内容完全一样的新的列表\n",
    "- index() 查找某元素在该列表中的位置"
   ]
  },
  {
   "cell_type": "code",
   "execution_count": null,
   "metadata": {},
   "outputs": [],
   "source": [
    "del list1[0]\n",
    "print(list1)\n",
    "\n",
    "print(list1.index('a'))"
   ]
  },
  {
   "cell_type": "markdown",
   "metadata": {},
   "source": [
    "## 4.4 tuple\n",
    "- 元组中元素不能修改\n",
    "- 使用()来定义\n",
    "\n",
    "### 4.4.1 创建元组\n",
    "tuple() 可将其它数据结构对象转换成元组的类型."
   ]
  },
  {
   "cell_type": "code",
   "execution_count": null,
   "metadata": {},
   "outputs": [],
   "source": [
    "tuple1 = ('hi',1,(2,3),[6,7])\n",
    "tuple2 = (1,)\n",
    "tuple3 = ()      # 空元组\n",
    "tuple4 = 1,2,3\n",
    "print(tuple1)\n",
    "\n",
    "#　tuple() 创建元组\n",
    "tuple_1 = tuple(['hi',1,(2,3),[6,7]])\n",
    "tuple_2 = tuple()    # 空元组\n",
    "tuple_3 = tuple((1,2,3))\n",
    "print(tuple_1)\n",
    "print(tuple_3)"
   ]
  },
  {
   "cell_type": "markdown",
   "metadata": {},
   "source": [
    "### 4.4.3 元组元素提取\n",
    "参考序列操作, 可对元组内的元素进行索引,访问, 提取和切片.  \n",
    "元组的提取, 可以使用元组解包简化赋值操作.\n"
   ]
  },
  {
   "cell_type": "code",
   "execution_count": null,
   "metadata": {},
   "outputs": [],
   "source": [
    "\n",
    "tuple_1 = (2,1,3,5,4)\n",
    "print(tuple_1[0])\n",
    "print(tuple_1[1])\n",
    "\n",
    "#切片访问\n",
    "print(tuple_1[1:2])\n",
    "print(tuple_1[1:7])\n",
    "\n",
    "\n",
    "# 元组解包\n",
    "a,b,c,d,e = tuple_1\n",
    "print(a,b,c,d,e)\n"
   ]
  },
  {
   "cell_type": "markdown",
   "metadata": {},
   "source": [
    "### 4.4.4 元组常用操作方法\n",
    "- '+' 合并两个元组为一个元组\n",
    "- '*' 重复合并同一个元组为一个更长的元组\n",
    "- len() 获取元组长度\n",
    "- sorted() 创建对元素排序后的列表.\n",
    "- tuple.count(): 记录某个元素在元组中出现的次数\n",
    "- tuple.index(): 获取元素在元组中第一次出现的位置"
   ]
  },
  {
   "cell_type": "markdown",
   "metadata": {},
   "source": [
    "## 4.5 字典\n",
    "Python中的字典是一个无序的数据值集合.   \n",
    "- 字典由key:value对组成\n",
    "- key 必须唯一且是不可变数据类型\n",
    "- value 可以重复且可以是任何类型\n",
    "- 使用 dict()  或 { } 创建字典\n",
    "\n",
    "### 4.5.1 获取字典中的值"
   ]
  },
  {
   "cell_type": "code",
   "execution_count": null,
   "metadata": {},
   "outputs": [],
   "source": [
    "dict = {'Name':'Zara', 'Age':7, 'Class':'First'}\n",
    "\n",
    "print(\"dict['Name']:\", dict['Name'])\n",
    "print(\"dict['Age']:\", dict['Age'])"
   ]
  },
  {
   "cell_type": "code",
   "execution_count": null,
   "metadata": {},
   "outputs": [],
   "source": [
    "### 4.5.2 更新字典中的值\n",
    "dict['Age'] = 8 \n",
    "dict['School'] = 'DPS School'\n",
    "\n",
    "print(\"dict['Age']:\", dict['Age'])\n",
    "print(\"dict['School']:\", dict['School'])"
   ]
  },
  {
   "cell_type": "markdown",
   "metadata": {},
   "source": [
    "### 4.5.3 删除字典中的值"
   ]
  },
  {
   "cell_type": "code",
   "execution_count": null,
   "metadata": {},
   "outputs": [],
   "source": [
    "\n",
    "del dict['Name']   # 删除键值对\n",
    "dict.clear()       # 删除所有键值对\n",
    "del dict           # 删除整个字典"
   ]
  },
  {
   "cell_type": "markdown",
   "metadata": {},
   "source": [
    "## 4.6 字典中的方法\n",
    "### 4.6.1 遍历字典"
   ]
  },
  {
   "cell_type": "code",
   "execution_count": null,
   "metadata": {},
   "outputs": [],
   "source": [
    "b = {'a':1,'b':2}\n",
    "\n",
    "for k in b.keys():\n",
    "    print(k,':',b[k])\n",
    "ks = list(b.keys())\n",
    "print(ks)\n",
    "print(b.keys())\n",
    "\n",
    "for k in b:             # 遍历字典隐式迭代其键\n",
    "    print(k,':',b[k])\n",
    "\n",
    "list(b.values())\n",
    "list(b.items())\n",
    "\n",
    "for (k,v) in b.items():   # 遍历键值对\n",
    "    print(k,':',v)"
   ]
  },
  {
   "cell_type": "markdown",
   "metadata": {},
   "source": [
    "### 4.6.2 别名与复制\n",
    "字典是可变的, 当两个变量引用同一个对象时,对一个变量的更改也会影响另一个.  \n",
    "想要修改字典并保留原始副本, 使用copy()方法.\n"
   ]
  },
  {
   "cell_type": "code",
   "execution_count": null,
   "metadata": {},
   "outputs": [],
   "source": [
    "opposites = {'up':'down', 'right':'wrong', 'yes':'no'}\n",
    "alias = opposites\n",
    "copy = opposites.copy()    # 浅拷贝\n",
    "\n",
    "alias['right'] = 'left'\n",
    "opposites['right']"
   ]
  },
  {
   "cell_type": "markdown",
   "metadata": {},
   "source": [
    "### 4.6.3 统计字符串中字母的频率"
   ]
  },
  {
   "cell_type": "code",
   "execution_count": null,
   "metadata": {},
   "outputs": [],
   "source": [
    "letter_counts = {}\n",
    "for letter in 'Mississippi':\n",
    "    letter_counts[letter] = letter_counts.get(letter,0) + 1\n",
    "print(letter_counts)\n",
    "\n",
    "\n",
    "# 统计频率后排序\n",
    "letter_items = list(letter_counts.items())\n",
    "letter_items.sort()\n",
    "print(letter_items)"
   ]
  },
  {
   "cell_type": "markdown",
   "metadata": {},
   "source": [
    "### 4.6.4 字典排序\n",
    "字典是一个默认以 Key 的字符顺序输出的哈希表结构. 若要对值进行排序, 可以把字典转换成 list 或tuple, 把字典每一对键值转换为 list 中的子 list 或 子 tuple 再输出.\n",
    "\n"
   ]
  },
  {
   "cell_type": "code",
   "execution_count": null,
   "metadata": {},
   "outputs": [],
   "source": [
    "x = {2:1, 3:4, 4:2, 1:5, 5:3}\n",
    "import operator\n",
    "\n",
    "# 按Key排序\n",
    "# sorted_x = sorted(x.items(), key=operator.itemgetter(0))\n",
    "\n",
    "# 按值排序\n",
    "sorted_x = sorted(x.items(), key=operator.itemgetter(1))\n",
    "\n",
    "print(x)\n",
    "print(sorted_x)\n",
    "print(dict(sorted_x))"
   ]
  },
  {
   "cell_type": "markdown",
   "metadata": {},
   "source": [
    "### 4.6.5 简单的通讯录系统\n"
   ]
  },
  {
   "cell_type": "code",
   "execution_count": null,
   "metadata": {},
   "outputs": [],
   "source": [
    "print('''|---欢迎进入通讯录程序---|\n",
    "|---1. 查询联系人资料---|\n",
    "|---2. 插入新的联系人---|\n",
    "|---3. 删除已有联系人---|\n",
    "|---4. 退出通讯录程序---|\n",
    "''')\n",
    "\n",
    "addressBook = {}     # 定义通讯录\n",
    "while True:\n",
    "    temp = input('请输入指令代码:')\n",
    "    if not temp.isdigit():\n",
    "        print('输入指令错误,请按照提示输入')\n",
    "        continue\n",
    "    item = int(temp)\n",
    "    if item == 4:\n",
    "        print('|---感谢使用通讯录程序---|')\n",
    "        break\n",
    "    name = input('请输入联系人姓名:')\n",
    "    if item == 1:\n",
    "        if name in addressBook:\n",
    "            print(name, ':', addressBook[name])\n",
    "            continue\n",
    "        else:\n",
    "            print('该联系人不存在!')\n",
    "    if item == 2: \n",
    "        if name in addressBook:\n",
    "            print('联系人在通讯录中已存在-->>', name,':', addressBook[name])\n",
    "            isEdit=input('是否修改联系人(Y/N):')\n",
    "            if isEdit =='Y':\n",
    "                userphone = input('请输入联系人电话:')\n",
    "                addressBook[name] = userphone\n",
    "                print('联系人修改成功')\n",
    "                continue\n",
    "            else:\n",
    "                continue\n",
    "        else:\n",
    "            userphone = input('请输入联系人电话:')\n",
    "            addressBook[name] = userphone\n",
    "            print('联系人添加成功')\n",
    "            continue\n",
    "    if item == 3:\n",
    "        if name in addressBook:\n",
    "            del addressBook[name]\n",
    "            print('联系人删除成功')\n",
    "            continue\n",
    "        else:\n",
    "            print('联系人不存在!')\n",
    "            continue\n",
    "\n",
    "\n",
    "        \n",
    "\n"
   ]
  },
  {
   "cell_type": "markdown",
   "metadata": {},
   "source": [
    "# 5. Python字符串及运算符\n",
    "- Python 字符串基本操作\n",
    "- Python 格式化字符串\n",
    "- 算术运算符\n",
    "- 赋值运算符\n",
    "- 比较运算符\n",
    "- 逻辑运算符\n",
    "- 按位运算符\n",
    "- 成员运算符\n",
    "- 身份运算符\n",
    "- 运算符优先级\n",
    "\n",
    "**Python 对象** 包含的三个基本要素:  id(身份标识),  type(数据类型), value( 值)\n",
    "- == 比较的是值\n",
    "- is 比较的是id"
   ]
  },
  {
   "cell_type": "markdown",
   "metadata": {},
   "source": [
    "## 5.2 字符串基本操作\n",
    "替换, 截取, 复制, 连接, 比较, 查找 等.\n"
   ]
  },
  {
   "cell_type": "markdown",
   "metadata": {},
   "source": [
    "|   字符串方法      |       说明              |\n",
    "|------------------|----------------------- |\n",
    "|   strip()        | 删除字符串两边指定字符,默认删除空格 | \n",
    "|   lstrip()        |删除字符串左边指定字符,默认删除空格 |    \n",
    "|   rstrip()         |删除字符串右边指定字符,默认删除空格 |  \n",
    "|     +              |  连接两个字符串                 |\n",
    "|  len(string)       | 字符串长度                      |\n",
    "|  lower()           | |\n",
    "|   upper()            | |\n",
    "|   swapcase()           | |\n",
    "|   capitalize()           | |\n",
    "| count()             | 统计字符串中指定字符个数      |     \n",
    "| center()             | 字符串放入中心位置, 可指定长度以及两边字符|\n",
    "| sub()                 | sub(replacement,string [,count=0]) |"
   ]
  },
  {
   "cell_type": "markdown",
   "metadata": {},
   "source": [
    "# 6. 流程控制和控制语句\n",
    "程序运行有三种基本结构:\n",
    "- 顺序\n",
    "- 分支\n",
    "- 循环\n",
    "\n"
   ]
  },
  {
   "cell_type": "markdown",
   "metadata": {},
   "source": [
    "## 6.5 分支结构\n",
    "- 程序只执行一个分支\n",
    "- 多分支有多个表达式同时满足时, 则只执行第一个与之匹配的语句块. \n",
    "- 多重条件判断使用 and, or 连接多条件\n"
   ]
  },
  {
   "cell_type": "code",
   "execution_count": null,
   "metadata": {},
   "outputs": [],
   "source": [
    "''' 单分支结构\n",
    "if < condition> : \n",
    "    statement\n",
    "'''\n",
    "\n",
    "'''双分支结构\n",
    "if < condition> :\n",
    "    statement\n",
    "else:\n",
    "    statement\n",
    "'''\n",
    "\n",
    "'''多分支结构\n",
    "if < condition> :\n",
    "    statement\n",
    "elif < condition> :\n",
    "    statement\n",
    "elif < condition >:\n",
    "    statement\n",
    ".\n",
    ".\n",
    ".\n",
    "else:\n",
    "    statement\n",
    "'''"
   ]
  },
  {
   "cell_type": "markdown",
   "metadata": {},
   "source": [
    "## 6.6 循环结构\n",
    "循环可分为确定次数的循环和不确定次数的循环.  循环次数限制彩遍历结构中元素个数来体现, 在Python中称之为遍历循环(for). 不确实次数称为无限循环,在 Python 中用 while 实现\n"
   ]
  },
  {
   "cell_type": "markdown",
   "metadata": {},
   "source": [
    "### 6.6.1 while\n"
   ]
  },
  {
   "cell_type": "code",
   "execution_count": null,
   "metadata": {},
   "outputs": [],
   "source": [
    "'''\n",
    "while < condition > :\n",
    "    statement\n",
    "'''\n",
    "\n",
    "'''\n",
    "while < condition > :\n",
    "    statement\n",
    "else:\n",
    "    条件不满足时执行的语句\n",
    "    else 语句在程序正常结束时执行. 循环中断是不执行,会到 break ,return 都会中断循环\n",
    "'''"
   ]
  },
  {
   "cell_type": "markdown",
   "metadata": {},
   "source": [
    "### 6.6.2 for\n"
   ]
  },
  {
   "cell_type": "code",
   "execution_count": null,
   "metadata": {},
   "outputs": [],
   "source": [
    "''' \n",
    "for variable in <iterable>:\n",
    "    statement1\n",
    "else:\n",
    "    statement2\n",
    "    else 语句同 while 一样, 循环正常结束时才执行, else 语句也可省略\n",
    "'''"
   ]
  },
  {
   "cell_type": "markdown",
   "metadata": {},
   "source": [
    "### 6.6.3 break 和 contintue\n",
    "break, continue 通常配合 if 使用\n",
    "- break 循环过程中直接退出循环\n",
    "- continue 结束本轮循环,直接开始下一轮循环"
   ]
  },
  {
   "cell_type": "code",
   "execution_count": null,
   "metadata": {},
   "outputs": [],
   "source": [
    "username = 'a'\n",
    "password = '123'\n",
    "i = 0 \n",
    "while i < 3:\n",
    "    name = input('请输入用户名:')\n",
    "    pwd = input('请输入密码:')\n",
    "    if name == username and password == pwd:\n",
    "        print('登录成功')\n",
    "        break\n",
    "    else:\n",
    "        print('用户名或密码错误')\n",
    "        i += 1"
   ]
  },
  {
   "cell_type": "code",
   "execution_count": null,
   "metadata": {},
   "outputs": [],
   "source": [
    "list1 = ['1','2','3','4','5']\n",
    "for a in list1:\n",
    "    if a == '4':\n",
    "        print('找到数字')\n",
    "        continue\n",
    "print(a)"
   ]
  },
  {
   "cell_type": "markdown",
   "metadata": {},
   "source": [
    "## 6.7 pass\n",
    "pass 是空语句, 主要为了保持程序结构的完整性. pass 不做任何事情, 一般用作占位语句."
   ]
  },
  {
   "cell_type": "markdown",
   "metadata": {},
   "source": [
    "# 7. 函数\n",
    "函数是组织好的, 可重复使用的, 用来实现单一或相关联功能的代码段.  \n",
    "函数能提高应用的模块必和代码的重复利用率.  \n",
    "函数定义:\n",
    "- 函数的第一行语句可以选择性地使用文档字符串\n",
    "- return [expression] 结束函数, 选择性地返回一个值给调用方. 不带表达式的 return 相当于返回 None.\n",
    "\n"
   ]
  },
  {
   "cell_type": "markdown",
   "metadata": {},
   "source": [
    "## 7.1 函数的基本使用\n",
    "### 7.1.1 函数定义"
   ]
  },
  {
   "cell_type": "code",
   "execution_count": null,
   "metadata": {},
   "outputs": [],
   "source": [
    "'''\n",
    "def fun_name():               # 定义函数\n",
    "    docstring\n",
    "    \n",
    "    statement1\n",
    "    statement1\n",
    "\n",
    "'''"
   ]
  },
  {
   "cell_type": "markdown",
   "metadata": {},
   "source": [
    "### 7.1.2 lambda() \n",
    "lambda() 是指一类无须定义标识符(函数名)的函数或子程序. lambda() 可以接收任意多个参数, 且返回单个表达式的值.  \n",
    "lambda() 函数不能包含命令, 包含的表达式不能超过一个.\n"
   ]
  },
  {
   "cell_type": "code",
   "execution_count": null,
   "metadata": {},
   "outputs": [],
   "source": [
    "def sum(x,y):\n",
    "    return x+y\n",
    "\n",
    "# 用 lamba 函数表达\n",
    "p = lambda x,y:x+y\n",
    "print(p(4,6))"
   ]
  },
  {
   "cell_type": "markdown",
   "metadata": {},
   "source": [
    "## 7.2 向函数传递参数 \n",
    "\n",
    "### 7.2.1 返回值\n",
    "return 语句让函数返回一个指定的值给调用者.  return 必须是函数定义的最后一条语句.\n",
    "\n"
   ]
  },
  {
   "cell_type": "code",
   "execution_count": null,
   "metadata": {},
   "outputs": [],
   "source": [
    "'''\n",
    "def fun_name():\n",
    "    statement1\n",
    "    statement2\n",
    "    return value\n",
    "'''"
   ]
  },
  {
   "cell_type": "markdown",
   "metadata": {},
   "source": [
    "### 7.2.2 实参与形参\n",
    "函数参数的作用是传递数据给函数使用.  \n",
    "形参: 定义函数时括号里的参数.  \n",
    "实参: 调用函数时括号里的参数\n",
    "\n",
    "函数调用时, 可以混合使用位置实参, 关键字实参和默认值.\n",
    "\n",
    "### 7.2.3 位置实参\n",
    "调用函数时, Python必须将函数调用中的每个实参都关联到函数定义中的一个形参, 最简单的关联方式是基于实参的顺序, 这种关联方式称为位置实参. \n"
   ]
  },
  {
   "cell_type": "code",
   "execution_count": null,
   "metadata": {},
   "outputs": [],
   "source": [
    "# Python 以定义函数参数的位置来匹配参数值\n",
    "def student(name, sex, age, school):\n",
    "    print('学生的姓名是: ' + name)\n",
    "    print('学生的性别是: ' + sex)\n",
    "    print('学生的年龄是: ' + str(age))\n",
    "    print('学生的学校是: ' + school)\n",
    "\n",
    "# 按位置关联参数\n",
    "student('小明', '男', 12, '清华小学')"
   ]
  },
  {
   "cell_type": "markdown",
   "metadata": {},
   "source": [
    "### 7.2.4 关键字实参 \n",
    "关键字实参是指使用形参的名字来确定输入的参数值, 调用函数时传递给函数的是名称-值对, 这样就不再需要实参与形参的位置一致了."
   ]
  },
  {
   "cell_type": "code",
   "execution_count": null,
   "metadata": {},
   "outputs": [],
   "source": [
    "# 使用关键字实参来调用函数\n",
    "student(sex='男',name='小明',school='清华小学', age=8)"
   ]
  },
  {
   "cell_type": "markdown",
   "metadata": {},
   "source": [
    "### 7.2.5 默认值\n",
    "定义函数时, 可给形参指定默认值, 调用函数时若没有传入实参, 则Python 会使用指定的默认值."
   ]
  },
  {
   "cell_type": "code",
   "execution_count": null,
   "metadata": {},
   "outputs": [],
   "source": [
    "def student(name, sex, age, school='襄阳四中'):\n",
    "    print('学生的姓名是: ' + name)\n",
    "    print('学生的性别是: ' + sex)\n",
    "    print('学生的年龄是: ' + str(age))\n",
    "    print('学生的学校是: ' + school)\n",
    "\n",
    "student('李华','男',13)\n",
    "student('李华','男',13,'襄阳五中')"
   ]
  },
  {
   "cell_type": "markdown",
   "metadata": {},
   "source": [
    "## 7.3 在函数中处理变量\n",
    "- 局部变量: 函数内部创建的变量, 函数的外部, 其它代码并不识别这些变量\n",
    "- 全局变量: 在程序的任何地方都可以访问, 主程序分配给全局变量的值在函数中是可访问的, 函数可以读取全局变量, 但默认情况下,它不能改变全局变量的值."
   ]
  },
  {
   "cell_type": "code",
   "execution_count": null,
   "metadata": {},
   "outputs": [],
   "source": [
    "def areas(width,height):\n",
    "    area = width * height\n",
    "    print('在函数内部,宽的值是: ', width)\n",
    "    print('在函数内部,高的值是: ', height)\n",
    "    return area\n",
    "\n",
    "mianji = areas(10,20)\n",
    "print(mianji)\n",
    "print('在函数外部,宽的值是: ', width)   # 会提示 width 未定义的错误."
   ]
  },
  {
   "cell_type": "code",
   "execution_count": null,
   "metadata": {},
   "outputs": [],
   "source": [
    "width = 10 \n",
    "height = 20\n",
    "area = 0\n",
    "def areas():\n",
    "    area = width * height\n",
    "    print('在函数内, area 的值: ', area)\n",
    "\n",
    "areas()\n",
    "print('在函数外, area 的值: ',area)"
   ]
  },
  {
   "cell_type": "markdown",
   "metadata": {},
   "source": [
    "使用global 关键字,将函数内部的变量与主函数中的同名变量视为等同, 即函数内部能访问和修改全局变量\n"
   ]
  },
  {
   "cell_type": "code",
   "execution_count": null,
   "metadata": {},
   "outputs": [],
   "source": [
    "width = 10 \n",
    "height = 20\n",
    "area = 0\n",
    "def areas():\n",
    "    global area         # 使用 global 关键字\n",
    "    area = width * height\n",
    "    print('在函数内, area 的值: ', area)\n",
    "\n",
    "areas()\n",
    "print('在函数外, area 的值: ',area)"
   ]
  },
  {
   "cell_type": "markdown",
   "metadata": {},
   "source": [
    "## 7.4 递归函数\n",
    "一个函数可以调用其它函数, 若这个函数在内部调用它自己, 这个函数就叫作递归函数.\n",
    "因为函数在每个执行过程都在栈中有自己的形参和局部变量的拷贝, 这些拷贝和函数的其它执行过程互不影响, 所有函数可以实现递归.\n"
   ]
  },
  {
   "cell_type": "code",
   "execution_count": null,
   "metadata": {},
   "outputs": [],
   "source": [
    "# 定义阶乘函数\n",
    "def factorial(num):\n",
    "    if num == 0:\n",
    "        return 1\n",
    "    else: \n",
    "        return num * factorial(num - 1)\n",
    "\n",
    "result5 = factorial(5)\n",
    "print('5的阶乘是: ', result5)"
   ]
  },
  {
   "cell_type": "markdown",
   "metadata": {},
   "source": [
    "## 7.5 函数模块化\n",
    "Python模块可以在逻辑上组织 Python 程序,将相关程序组织到一个模块中, 使用程序结构良好, 增加程序的重用性.  \n",
    "模块可以被别的程序导入, 以调用该模块中的函数, 这也是 Python 标准库模块的方法.\n"
   ]
  },
  {
   "cell_type": "markdown",
   "metadata": {},
   "source": [
    "## 7.6 内置函数\n",
    "Python中内置的函数,可以直接调用.\n"
   ]
  },
  {
   "cell_type": "markdown",
   "metadata": {},
   "source": [
    "# 8. 文件和文件目录\n",
    "## 8.1 文件的基础操作\n",
    "\n",
    "### 8.1.1 文件的打开/关闭\n",
    "read() , readline(), readlines()"
   ]
  },
  {
   "cell_type": "code",
   "execution_count": null,
   "metadata": {},
   "outputs": [],
   "source": [
    "'''\n",
    "file_object = open(file_name[,access_mode][,buffering])\n",
    "'''\n",
    "try:\n",
    "    file = open('test.py','r')\n",
    "    print(file.read())\n",
    "finally:\n",
    "    file.close()"
   ]
  },
  {
   "cell_type": "code",
   "execution_count": null,
   "metadata": {},
   "outputs": [],
   "source": [
    "content = ''\n",
    "try:\n",
    "    file = open('test.py','r')\n",
    "    while True:\n",
    "        chunk = file.read(5)     # 每次读取5个字节, 若文件过大,读取就会占用大量的内存\n",
    "        # print(chunk)\n",
    "        if not chunk:\n",
    "            break\n",
    "        content += chunk\n",
    "    print(content)\n",
    "finally:\n",
    "    file.close()\n"
   ]
  },
  {
   "cell_type": "code",
   "execution_count": null,
   "metadata": {},
   "outputs": [],
   "source": [
    "try:\n",
    "    file = open('test.py', 'r')\n",
    "    while True:\n",
    "        chunk = file.readline()      # 每次读取一行,返回一个字符对象\n",
    "        print(chunk)\n",
    "        if not chunk:\n",
    "            break\n",
    "finally:\n",
    "    file.close()"
   ]
  },
  {
   "cell_type": "markdown",
   "metadata": {},
   "source": [
    "readlines() 读取文件所有行, 保存在一个列表变量中, 每行一个元素."
   ]
  },
  {
   "cell_type": "code",
   "execution_count": null,
   "metadata": {},
   "outputs": [],
   "source": [
    "try:\n",
    "    file = open('test.py','r')\n",
    "    lines = file.readlines()\n",
    "    print(type(lines))\n",
    "    print(lines)\n",
    "finally:\n",
    "    file.close"
   ]
  },
  {
   "cell_type": "markdown",
   "metadata": {},
   "source": [
    "### 8.1.3 文件写入 write()\n",
    "write() , writeline() , writelines()"
   ]
  },
  {
   "cell_type": "code",
   "execution_count": 32,
   "metadata": {},
   "outputs": [],
   "source": [
    "try: \n",
    "    f = open('text.txt','w')\n",
    "    f.write('Hello world!')\n",
    "finally:\n",
    "    f.close()"
   ]
  },
  {
   "cell_type": "markdown",
   "metadata": {},
   "source": [
    "### 8.1.4 用 fileinput 操作文件\n"
   ]
  },
  {
   "cell_type": "markdown",
   "metadata": {},
   "source": [
    "## 8.2 常用文件和目录操作\n"
   ]
  },
  {
   "cell_type": "code",
   "execution_count": null,
   "metadata": {},
   "outputs": [],
   "source": [
    "import os\n",
    "print(os.getcwd()) \n",
    "print(os.path.abspath('.'))\n",
    "print(os.path.abspath('test.py')) \n",
    "print(os.path.abspath('..'))    # 当前工作目录的父目录\n",
    "print(os.path.abspath(os.curdir))"
   ]
  },
  {
   "cell_type": "markdown",
   "metadata": {},
   "source": [
    "### 8.2.2 获得目录中的内容 listdir()"
   ]
  },
  {
   "cell_type": "code",
   "execution_count": null,
   "metadata": {},
   "outputs": [],
   "source": [
    "import os\n",
    "for item in os.listdir('.'):\n",
    "    print(item)"
   ]
  },
  {
   "cell_type": "code",
   "execution_count": null,
   "metadata": {},
   "outputs": [],
   "source": [
    "# glob 模块, 进行文件内容过滤\n",
    "import glob\n",
    "for item in glob.glob('*.ipynb'):\n",
    "    print(item)"
   ]
  },
  {
   "cell_type": "markdown",
   "metadata": {},
   "source": [
    "# 9. 数据格式化\n",
    "## 9.1 数据的维度\n",
    "数据的维度是一个抽象的概念, 计算机中任何数据都是以一维形式存储的, 多维是为了方便人的阅读与查看.\n",
    "维度: 一组数据的组织形式 ( 一维, 二维, 多维)\n",
    "一维数据: 由对等关系的有序或无序的数据构成, 采用线性方式组织.\n",
    "二维数据: 由多个一维数据构成,是一维数据的组合形式, 如表格.  \n",
    "Python 中数据的维度:\n",
    "- 一维数据: 列表和集合类型\n",
    "- 二维或多维: 列表\n",
    "- 高维数据: 字典, JSON, XML, YAML.\n",
    "\n",
    "## 9.2 二维数据的格式化和处理\n",
    "### 9.2.1 二维数据的存储格式\n",
    "1. Python 中使用二维列表, 使用两层 for 循环遍历列表的每一个元素.\n",
    "2. CSV也是国际通用的一种二维数据存储格式, 每行一个一维数据,采用逗号分隔,无空行.\n",
    "\n",
    "### 9.2.2 二维数据的表示和读写\n"
   ]
  },
  {
   "cell_type": "code",
   "execution_count": null,
   "metadata": {},
   "outputs": [],
   "source": [
    "# 1. 从CSV文件中读入数据\n",
    "\n",
    "fcsv = open('example.csv')\n",
    "ls = []\n",
    "for line in fcsv:\n",
    "    line = line.replace('\\n','')\n",
    "    ls.append(line.split(','))\n",
    "print(ls)\n",
    "fcsv.close()\n",
    "\n",
    "# 2. 二维数据写入处理\n",
    "fwrite = open('fwrite.csv','w')\n",
    "for item in ls:\n",
    "    print(item)\n",
    "    fwrite.write(','.join(item) + '\\n')\n",
    "fwrite.close()\n",
    "\n",
    "# 3. 二维数据的逐一处理\n",
    "ls = [[],[],[]]\n",
    "for row in ls:\n",
    "    for column in row:\n",
    "        print(ls[row][column])"
   ]
  },
  {
   "cell_type": "markdown",
   "metadata": {},
   "source": [
    "## 9.3 二维数据的直观表示\n",
    "二维数据是一维数据的组合形式, 由多个一维数据组合形成. 列表类型可以表达二维数据,使用二维列表. 二维数据的直观显示是通过CSV格式使用 HTML 文档展示的."
   ]
  },
  {
   "cell_type": "markdown",
   "metadata": {},
   "source": [
    "## 9.4 高维数据的格式化\n",
    "高维数据在 Python中使用了 JSON与XML 两种格式, 它们是用于进行网络传输的数据格式.\n",
    "\n",
    "## 9.5 数据格式的相互转换\n",
    "### 9.5.1 JSON库的使用\n",
    "### 9.5.2 CSV和JSON 格式相互转换\n"
   ]
  },
  {
   "cell_type": "markdown",
   "metadata": {},
   "source": [
    "# 10. Python类的使用\n",
    "## 10.2 Python基本类的创建\n",
    "\n",
    "__init()__ 方法通过为对象的初始属性提供默认值来初始化对象的初始属性.  \n",
    "self 是实例化时自动将对象/实例本身传给 __init__()的第一个参数.\n",
    "\n"
   ]
  },
  {
   "cell_type": "code",
   "execution_count": null,
   "metadata": {},
   "outputs": [],
   "source": [
    "class Dog():\n",
    "    '''\n",
    "    class docstring\n",
    "    '''\n",
    "    pass\n",
    "\n",
    "class Animal():\n",
    "    role = 'animal'          # 类的静态属性\n",
    "    def run(self):           # 方法,也叫类的动态属性\n",
    "        print('animal is walking...')\n",
    "\n",
    "print(Animal.role)       # 引用类的属性\n",
    "print(Animal.run)"
   ]
  },
  {
   "cell_type": "code",
   "execution_count": null,
   "metadata": {},
   "outputs": [],
   "source": [
    "class Person():\n",
    "    role = 'person'\n",
    "    def __init__(self, name):\n",
    "        self.name = name\n",
    "    \n",
    "    def walk(self):\n",
    "        print('person is walking...')\n",
    "\n",
    "print(Person.role)\n",
    "print(Person.walk)   # 引用 walk 方法,不是调用"
   ]
  },
  {
   "cell_type": "markdown",
   "metadata": {},
   "source": [
    "## 10.3 Python 类的继承 \n",
    "继承是一个类接受另一个类的属性和方法的过程, 新形成的类称为子类.  \n",
    "定义新类时, Python3 隐式使用 object作为父类.  \n",
    "继承的意义: 实现代码重用, 方便代码的管理和修改.\n",
    "子类继承父类的所有属性和方法, 同时还可以定义自己的属性和方法.\n",
    "\n",
    "方法重写:子类中定义一个与父类方法名称和参数列表相同的方法即可实现重写.\n",
    "\n"
   ]
  },
  {
   "cell_type": "code",
   "execution_count": null,
   "metadata": {},
   "outputs": [],
   "source": [
    "class people():\n",
    "    name = ''\n",
    "    sex = 0 \n",
    "    ## 定义私有属性, 私有属性在类外部无法直接访问.\n",
    "    __height = 0 \n",
    "\n",
    "    # 定义构造方法\n",
    "    def __init__(self, n,a,w):\n",
    "        self.name = n\n",
    "        self.sex = a\n",
    "        self.__height = w\n",
    "    \n",
    "    def speak(self):\n",
    "        print(f'{self.name}说:我的性别是{self.sex}')\n",
    "\n",
    "class son(people):\n",
    "    grade = ''\n",
    "    def __init__(self,n,a,w,g):\n",
    "        grade = ''\n",
    "        # 调用父类的构造方法\n",
    "        people.__init__(self,n, a, w)\n",
    "        self.grade = g\n",
    "\n",
    "    # 覆盖父类的方法, 重写\n",
    "    def speak(self):\n",
    "        print(f'{self.name}说:我的性别是{self.sex},我在{self.grade}读年级')\n",
    "        \n",
    "s = son('宋宋','男',12,6)\n",
    "s.speak()"
   ]
  },
  {
   "cell_type": "markdown",
   "metadata": {},
   "source": [
    "# 11. Python模块的使用\n",
    "模块化编程是指将大型的编程任务分解为单独的, 更小更易于管理的子任务或模块的过程. 然后拼凑模块以创建更大的应用程序.  \n",
    "模块通常定义一个单独的命名空间.  \n",
    "函数,模块和包都是 Python用于促进代码模块化的构造. "
   ]
  },
  {
   "cell_type": "code",
   "execution_count": null,
   "metadata": {},
   "outputs": [],
   "source": [
    "\n",
    "import mod\n",
    "print(mod.s)\n",
    "print(mod.a)\n",
    "mod.foo(['quux', 'corge', 'grault'])\n",
    "x = mod.Foo()\n",
    "x"
   ]
  },
  {
   "cell_type": "markdown",
   "metadata": {},
   "source": [
    "解释器执行 import语句时, 会从下面的目录列表中搜索模块文件mod.py:  \n",
    "1. 运行import 脚本的目录, 或者交互式运行解释器的当前目录\n",
    "2. PYTHONPATH 环境变量中包含的目录列表\n",
    "3. 安装Python时配置的与安装相关的目录列表  \n",
    "生成的搜索路径可以在 Python 变量 sys.path 中访问.  \n"
   ]
  },
  {
   "cell_type": "code",
   "execution_count": null,
   "metadata": {},
   "outputs": [],
   "source": [
    "import sys\n",
    "print(sys.path)\n",
    "import mod\n",
    "print(mod.__file__)   # 确定模块的路径\n"
   ]
  },
  {
   "cell_type": "markdown",
   "metadata": {},
   "source": [
    "为确保找到模块,可以有如下办法:  \n",
    "1. 模块放在 执行import 的脚本所在目录, 或 交互式python 的当前目录\n",
    "2. 修改 PYTHONPATH变量以包含模块所在的目录,或将模块放在 PYTHONPATH变量中的一个目录中\n",
    "3. 运行时修改 sys.path, 使其包含模块所在目录\n"
   ]
  },
  {
   "cell_type": "markdown",
   "metadata": {},
   "source": [
    "### 11.3.2 dir()\n",
    "dir() 内置函数返回包含模块定义的名称的字符串列表\n"
   ]
  },
  {
   "cell_type": "code",
   "execution_count": null,
   "metadata": {},
   "outputs": [],
   "source": [
    "\n",
    "import math\n",
    "print(dir(math))\n",
    "print(math.__name__)     #模块的名字\n",
    "print(math.__file__)     # 模块的路径"
   ]
  },
  {
   "cell_type": "markdown",
   "metadata": {},
   "source": [
    "### 11.3.3 globals() 和locals()\n",
    "从函数内调用locals() , 返回可从该函数本地访问的所有名称.\n",
    "从函数内调用 globals(), 返回可从该函数全局访问的所有名称.\n",
    "\n",
    "\n",
    "\n",
    "### 11.3.4 reload()\n",
    "每个解释器会话仅加载一次模块.有时模块也包含可执行语句,通常用于初始化. 这些语句仅在第一次导入模块时执行, 再次导入也不会执行.  \n",
    "如果对模块进行了更改并需要重新加载它, 则需要使用 importlib.reload(module_name)\n"
   ]
  },
  {
   "cell_type": "markdown",
   "metadata": {},
   "source": [
    "## 11.4 包\n",
    "模块多了可以采用分组的组织方法, Python允许使用点表示法对模块命名空间进行分层结构化, 与模块有助于避免全局变量名之间冲突的方式相同, 包有助于避免模块名称之间的冲突.  \n",
    "创建包非常简单, 它利用了 OS 固有的分层文件结构.  \n",
    "pkg 目录下有 mod1.py, mod2.py模块, pkg目录位于可以打到它的位置(在sys.path中包含的某个目录中), 则可以使用 pkg.mod1 , pkg.mod2 来引用这两个模块.\n"
   ]
  },
  {
   "cell_type": "markdown",
   "metadata": {},
   "source": [
    "# 13. 正则表达式\n",
    "正则表达式是由字符和特殊符号组成的字符串.  它是高级的文本模式,用于简化字符串操作, 主要功能有匹配, 切割, 替换, 获取.    \n",
    "在支持正则表达式的语言里, 正则表达式的语法一样, 区别只是不同语言实现支持的语法数据不同.  \n",
    "正则表达式用途:\n",
    "1. 测试字符串模式: 测试输入字符串是否满足特定模式, 称数据验证\n",
    "2. 替换文本: 正则表达式匹配特定的文件, 然后删除或替换该文本\n",
    "3. 基于模式匹配从字符串中提取字符串.\n",
    "\n",
    "Python 通过 re模块提供对对正则表达式的支持.  \n",
    "re 的一般步骤是先将正则表达式的字符串形成编译的 Pattern 实例, 然后使用 Pattern 实例处理文件并获得匹配结果(一个 Match 实例), 最后使用 Match 实例获得信息, 进行其它操作.\n"
   ]
  },
  {
   "cell_type": "markdown",
   "metadata": {},
   "source": [
    "# 14. Python 线程和进程\n",
    "进程相当于一个容器, 所有的线程都运行在进程中. Process是计算机的程序关于某数据集合上的一次运行活动, 是系统进行资源分配和调度的基本单位, 是操作系统结构的基础.  在早期面向进程设计的计算机结构中, 进程是程序的基本执行实体; 在梁倩面向线程设计的计算机结构中, 进程是线程的容器. 程序是指令,数据及其组织形式的描述, 进程是程序的实体. \n"
   ]
  },
  {
   "cell_type": "markdown",
   "metadata": {},
   "source": [
    "## 14.1 进程\n",
    "### 14.1.2 multiprocessing 模块\n",
    "Python 中的多线程无法利用多核优势, 在Python中大部分情况下需要使用多进程, Python使用 multiproessing 模块提供多进程支持."
   ]
  },
  {
   "cell_type": "markdown",
   "metadata": {},
   "source": [
    "# 15. Python异常处理\n",
    "异常指意外不可控的一些因素引起的程序崩溃.  \n",
    "异常是一个事件, 该事件会在程序执行的过程中发生, 影响程序的正常执行. 一般情况下, 在Python无法正常处理程序时就会发生一个异常. 异常是 Python 对象, 表示一个错误. 当Python 脚本发生异常时需要捕获处理它, 否则我程序就会终止执行. \n",
    "\n",
    "try...except 这种异常处理机制就是取代 if, 让程序在不牺牲可主动性的前提下增强健壮性和容错性\n",
    "\n",
    "\n",
    "## 15.2 异常的处理\n",
    "捕捉异常可以使用 try/except, try/except 语句用来检测 try 语句中的错误, 从而让except 语句捕获异常信息并处理.  \n",
    "异常发生之后, 异常之后的代码就不执行了  \n",
    "\n",
    "### 15.2.2 异常处理的基本语法\n"
   ]
  },
  {
   "cell_type": "code",
   "execution_count": null,
   "metadata": {},
   "outputs": [],
   "source": [
    "'''\n",
    "try:\n",
    "    statement\n",
    "except < exceptionName >:\n",
    "    statement\n",
    "except <exceptionName> ,<data>:\n",
    "    statement      # 如果引发了异常, 获得附加的数据\n",
    "else:\n",
    "    statement      # try语句块中没有发生异常,执行else 语句块\n",
    "\n",
    "'''"
   ]
  },
  {
   "cell_type": "code",
   "execution_count": null,
   "metadata": {},
   "outputs": [],
   "source": [
    "try:\n",
    "    fh = open('testfile.exception','w')\n",
    "    fh.write('this is a test file to testing exception')\n",
    "except IOError:\n",
    "    print('Error: 没有找到文件或读取文件失败')\n",
    "else:\n",
    "    print('内容写入文件成功')\n",
    "    fh.close()\n"
   ]
  },
  {
   "cell_type": "markdown",
   "metadata": {},
   "source": [
    "### 15.2.3 异常及处理\n",
    "异常是由程序的错误引起的, 但语法错误跟异常处理无关. \n",
    "\n",
    "\n",
    "## 15.3 Python 常见标准异常\n",
    "Python 为每一种异常定制了一个类型, 然后提供了一种特定的语法结构用来进行异常处理. \n",
    "\n",
    "### 15.3.1 ZeroDivisionError"
   ]
  },
  {
   "cell_type": "code",
   "execution_count": null,
   "metadata": {},
   "outputs": [],
   "source": [
    "print('Give me two numbers, and I will divide them.')\n",
    "print(\"Eneter 'q' to quit.\")\n",
    "while True:\n",
    "    first_number = input('\\nFirst number: ')\n",
    "    if first_number == 'q':\n",
    "        break\n",
    "    second_number = input('\\nSecond number: ')\n",
    "    if second_number == 'q':\n",
    "        break\n",
    "    try:\n",
    "        answer = int(first_number)/int(second_number)\n",
    "    except ZeroDivisionError:\n",
    "        print(\"You can't divide by 0 !\")\n",
    "    else:\n",
    "        print(f'The answer is {answer}')\n",
    "\n",
    "#  依赖于 try 代码块成功执行的代码都就应放到 else 代码块中"
   ]
  },
  {
   "cell_type": "markdown",
   "metadata": {},
   "source": [
    "### 15.3.3 FileNotFoundError"
   ]
  },
  {
   "cell_type": "code",
   "execution_count": null,
   "metadata": {},
   "outputs": [],
   "source": [
    "file = 'tom.txt'          # 文件不存在\n",
    "try:\n",
    "    with open(file) as file:\n",
    "        content = file.read()\n",
    "except FileNotFoundError:\n",
    "    print(f'Sorry! The file {file} can not find.')"
   ]
  },
  {
   "cell_type": "code",
   "execution_count": null,
   "metadata": {},
   "outputs": [],
   "source": [
    "csv = 'example.csv'      # 文件存在\n",
    "try: \n",
    "    with open(csv) as file:\n",
    "        contents = file.read()\n",
    "except FileNotFoundError:\n",
    "    print(f'Sorry the file {csv} is not found!')\n",
    "else:\n",
    "    words = contents.split()\n",
    "    num_words = len(words)\n",
    "    print(f'The file {csv} has about {str(num_words)} words.')"
   ]
  },
  {
   "cell_type": "code",
   "execution_count": 100,
   "metadata": {},
   "outputs": [
    {
     "name": "stdout",
     "output_type": "stream",
     "text": [
      "Sorry the file tom.txt is not found\n",
      "The file has about 13 words\n"
     ]
    }
   ],
   "source": [
    "## 函数方式\n",
    "\n",
    "def count_words(filename):\n",
    "    try:\n",
    "        with open(filename) as file:\n",
    "            conents = file.read()\n",
    "    except FileNotFoundError:\n",
    "        print(f'Sorry the file {filename} is not found')\n",
    "    else:\n",
    "        words = contents.split()\n",
    "        num_words = len(words)\n",
    "        print(f'The file has about {num_words} words')\n",
    "\n",
    "count_words('tom.txt')\n",
    "count_words('example.csv')"
   ]
  },
  {
   "cell_type": "markdown",
   "metadata": {},
   "source": [
    "### 15.3.4 万能异常 Exception\n",
    "Python 的异常中有一个万能异常: Exception, 可以捕获任意异常.  \n",
    "如果想要的效果是, 无论出现什么异常, 统一丢弃或者使用同一段代码逻辑去处理, 这时只有一个 Exception 就可以了.   \n",
    "如果想要的效果是, 对于不同的异常需要定制不同的处理逻辑, 就需要用到多分支了.\n",
    "\n",
    "\n",
    "### 15.3.5 自定义异常\n",
    "Python 异常分为两种: 一种内置异常, 另一种用户自定义异常, 使用自定义异常扩展了异常机制.   \n",
    "自定义异常必须继承Exception\n"
   ]
  },
  {
   "cell_type": "code",
   "execution_count": null,
   "metadata": {},
   "outputs": [],
   "source": [
    "# 自定义异常\n",
    "class FError(Exception):\n",
    "    pass\n",
    "\n",
    "# 抛出异常\n",
    "try:\n",
    "    raise FError('自定义异常')\n",
    "except FError as e:\n",
    "    print(e)"
   ]
  },
  {
   "cell_type": "code",
   "execution_count": null,
   "metadata": {},
   "outputs": [],
   "source": [
    "### 简单的自定义异常类模板\n",
    "\n",
    "class CustomError(Exception):\n",
    "    def __init__(self, ErrorInfo):\n",
    "        super().__init__(self)\n",
    "        self.errorinfo = ErrorInfo\n",
    "    def __str__(self):\n",
    "        return self.errorinfo\n",
    "\n",
    "if __name__ == '__main__':\n",
    "    try:\n",
    "        raise CustomError('客户异常')\n",
    "    except CustomError as e:\n",
    "        print(e)"
   ]
  },
  {
   "cell_type": "markdown",
   "metadata": {},
   "source": [
    "## 15.4 手动抛出异常\n"
   ]
  },
  {
   "cell_type": "markdown",
   "metadata": {},
   "source": [
    "# 16. 程序测试与打包\n",
    "## 16.1 Python 测试\n",
    "Python 提供了一种自动测试函数输出的高效方式.\n",
    "\n",
    "\n",
    "### 16.1.5 Python 常见的代码检查工具\n",
    "源代码检查是一种寻找代码中普遍错误或问题的方法.  PyFlakes Pylint PyChecker\n",
    "\n",
    "\n",
    "### 16.1.6 Python程序性能检测工具\n",
    "Python profile 分析模块"
   ]
  },
  {
   "cell_type": "markdown",
   "metadata": {},
   "source": [
    "## 16.2 程序打包\n",
    "Python 程序的发布方式:\n",
    "1. .py 文件: 直接发布源码, 对于开源项目和源码不重要的, 直接提供源码, 需要使用都自行安装 Python 并且安装依赖的各种库.\n",
    "2. .pyc 文件: pyc 文件是 Python解释器可以识别的二进制代码, 也是跨平台的, 需要使用都安装相应版本的Python 和依赖库.\n",
    "3. 可执行文件: 对非程序开发人员, 最简单的方式是提供一个可执行文件, 只需要说明使用方法即可. 需要针对不同平台打包不同的可执行文件.\n"
   ]
  },
  {
   "cell_type": "markdown",
   "metadata": {},
   "source": [
    "### 16.2.1 Distutils \n",
    "\n",
    "\n",
    "### 16.2.2 Setuptools\n",
    "`pip3 install setuptools`"
   ]
  },
  {
   "cell_type": "markdown",
   "metadata": {},
   "source": [
    "## 16.3 编程扩展\n",
    "Python的编写效率高, 但运行效率低. 有时我们会有C语言作为扩展来重写出现瓶颈的代码来解决性能瓶颈. 所有能被整合或导入到其它 Python脚本的代码, 都可以被称为扩展.\n",
    "Python的扩展通常指 CPython, 它是C 语言版本的 Python"
   ]
  },
  {
   "cell_type": "markdown",
   "metadata": {},
   "source": [
    "# 17. 数据结构基础\n",
    "数据结构是计算机存储, 组织数据的方式. 数据结构是指相互之间存在一种或多种特定关系的数据元素的集合.\n",
    "数据结构与算法的主要研究内容有: 数据的逻辑结构,即数据之间的逻辑关系. 数据的存储结构, 即数据的逻辑结构在计算机中的表示. 操作算法,即插入,删除,修改,查询,排序等.  \n",
    "数据逻辑结构包括以下几种:\n",
    "1. 集合 元素之前'同属一个集合',没有其它关系\n",
    "2. 线性结构: 数据结构中的元素存在一对一的相互关系\n",
    "3. 树状结构: 数据结构中的元素存在一对多的相互关系\n",
    "3. 图形结构: 数据结构中的元素存在多对多的相互关系\n",
    "\n",
    "数据的物理结构是指数据的逻辑结构在计算机存储空间的存放形式. 数据的物理结构是数据结构在计算机中的表示(映像), 它包括数据元素的机内表示和关系的机内表示. 具体实现的方法有顺序,链接,索引, 散列等. 一种数据结构可表示成一种或多种存储结构.\n"
   ]
  },
  {
   "cell_type": "markdown",
   "metadata": {},
   "source": [
    "## 17.3 Python 线性结构\n",
    "线性结构的特点是数据元素之间构成有序序列, 除头尾元素外, 其余元素都有一个前驱和一个后继. 线性结构中, 表, 栈和队列是最基本的.  \n",
    "\n"
   ]
  },
  {
   "cell_type": "markdown",
   "metadata": {},
   "source": [
    "# 18. 数据库编程\n",
    "Python 所有的数据库接口程序都在一定程序上遵守 Python DB-API规范. DB-API规范, 它定义了一系统必需的对象和数据库存取方式. 由于DB-API 为不同的数据库提供了一致的访问接口, 在不同的数据库之间移植代码变得容易. \n"
   ]
  },
  {
   "cell_type": "markdown",
   "metadata": {},
   "source": [
    "## 18.2 Python 操作 SQLite3数据库\n",
    "SQLite 是一个轻量级数据库, 多用于小型项目.\n"
   ]
  },
  {
   "cell_type": "markdown",
   "metadata": {},
   "source": [
    "# 19. 网络编程\n",
    "网络的本质在于信息的传递, 网络编程实质是在两个或两个以上设备之前传输数据以及研究如何在程序中实现两台计算机的通信.LAN , MAN, WAN\n",
    "\n",
    "## 19.2 socket\n",
    "`import socket`\n"
   ]
  },
  {
   "cell_type": "markdown",
   "metadata": {},
   "source": [
    "## 19.4 用 poplib 和 smtplib 库收发邮件\n"
   ]
  },
  {
   "cell_type": "markdown",
   "metadata": {},
   "source": [
    "# 20. Web网站编程技术\n",
    "## 20.1 Flash Web网站框架\n",
    "Flash是流行的 web 框架, 基于Python 实现, 是一种轻量级的 Web 应用框架. 简单且易于扩展. 它也被称为 microframework.  \n",
    "`pip3 install Flask`\n",
    "\n",
    "\n"
   ]
  },
  {
   "cell_type": "markdown",
   "metadata": {},
   "source": [
    "## 20.2 Django Web 网站框架\n",
    "`pip3 install Django`\n",
    "`pip3 install PyMySQL`\n",
    "Django 默认提供 SQLite数据库"
   ]
  },
  {
   "cell_type": "markdown",
   "metadata": {},
   "source": [
    "# 21. 基于 tkinter的GUI界面编程\n"
   ]
  },
  {
   "cell_type": "markdown",
   "metadata": {},
   "source": [
    "# 23. 网上购物系统\n"
   ]
  }
 ],
 "metadata": {
  "kernelspec": {
   "display_name": "Python 3",
   "language": "python",
   "name": "python3"
  },
  "language_info": {
   "codemirror_mode": {
    "name": "ipython",
    "version": 3
   },
   "file_extension": ".py",
   "mimetype": "text/x-python",
   "name": "python",
   "nbconvert_exporter": "python",
   "pygments_lexer": "ipython3",
   "version": "3.11.5"
  }
 },
 "nbformat": 4,
 "nbformat_minor": 2
}
