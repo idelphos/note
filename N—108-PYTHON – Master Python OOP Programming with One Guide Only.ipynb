{
 "cells": [
  {
   "cell_type": "markdown",
   "metadata": {},
   "source": [
    "## ..list\n",
    "\n",
    "### ...userful tips on list\n"
   ]
  },
  {
   "cell_type": "code",
   "execution_count": null,
   "metadata": {},
   "outputs": [],
   "source": [
    "num_list = [3,6,7,1,2,5,4]\n",
    "print(num_list[::-1])      # 切片方式反转列表\n",
    "new_list = num_list[:]     # 切片方式复制列表\n",
    "print(new_list)\n",
    "\n",
    "\n",
    "num_list2 = list(range(0,50))  # range() 生成列表\n",
    "print(num_list2)\n",
    "\n",
    "# .join(iterable)\n",
    "usernames = ['andy','carlos','steven','jason']\n",
    "joined_usernames = ','.join(usernames)\n",
    "print(joined_usernames)\n",
    "\n",
    "# list unpacking\n",
    "andy,carlos,steven,jason = usernames\n",
    "print(andy)\n",
    "print(carlos)\n",
    "\n",
    "andy, carlos, *rest = usernames\n",
    "print(andy)\n",
    "print(carlos)\n",
    "print(rest)"
   ]
  },
  {
   "cell_type": "code",
   "execution_count": null,
   "metadata": {},
   "outputs": [],
   "source": [
    "\n",
    "numbers_list1 = [3,6,7,1,2,5,4]\n",
    "store_sorted = sorted(numbers_list1)\n",
    "print(numbers_list1)\n",
    "print(store_sorted)\n",
    "\n",
    "numbers_list1.sort()\n",
    "print(numbers_list1)\n"
   ]
  },
  {
   "cell_type": "markdown",
   "metadata": {},
   "source": [
    "## ..None\n",
    "define absence of value, null value or  no value at all.  datatype: NoneType  \n",
    "None is not the same as 0 (zero)  \n",
    "None is not the same as False  \n",
    "None is not an empty String ‘ ‘  \n",
    "Comparing None to None will return True  \n",
    "Comparing None to anything else will always return False  "
   ]
  },
  {
   "cell_type": "code",
   "execution_count": null,
   "metadata": {},
   "outputs": [],
   "source": [
    "\n",
    "# declare a variable without any value\n",
    "no_value = None"
   ]
  },
  {
   "cell_type": "markdown",
   "metadata": {},
   "source": [
    "## ..dict\n"
   ]
  },
  {
   "cell_type": "code",
   "execution_count": null,
   "metadata": {},
   "outputs": [],
   "source": [
    "this_dictionary = {\n",
    "    'car':True,\n",
    "    'brands':['Ford','Toyota','BMW'],\n",
    "    'year': 2022\n",
    "}\n",
    "\n",
    "# print(this_dictionary.pop('year'))\n",
    "# print(this_dictionary)\n",
    "\n",
    "print(this_dictionary.popitem())\n",
    "print(this_dictionary)"
   ]
  },
  {
   "cell_type": "code",
   "execution_count": null,
   "metadata": {},
   "outputs": [],
   "source": [
    "this_dictionary = {\n",
    "    'car':True,\n",
    "    'brands':['Ford','Toyota','BMW'],\n",
    "}\n",
    "\n",
    "year = this_dictionary.setdefault('year')\n",
    "print(year)\n",
    "print(this_dictionary)"
   ]
  },
  {
   "cell_type": "markdown",
   "metadata": {},
   "source": [
    "### ...enumerate(iterable)\n",
    "返回一个枚举对象, 枚举对象相当于 参数iterable 给元素加上数字索引, 数字索引是key\n"
   ]
  },
  {
   "cell_type": "code",
   "execution_count": null,
   "metadata": {},
   "outputs": [],
   "source": [
    "# enumerate(iterable)\n",
    "x = ('first', 'second','third')\n",
    "y = enumerate(x)\n",
    "\n",
    "for _ in y:\n",
    "    print(_)\n",
    "\n",
    "for key,item in y:\n",
    "    print(key,item)"
   ]
  },
  {
   "cell_type": "markdown",
   "metadata": {},
   "source": [
    "## ..nested function\n",
    "\n",
    "内嵌函数可以访问 外层函数定义的变量或参数"
   ]
  },
  {
   "cell_type": "code",
   "execution_count": null,
   "metadata": {},
   "outputs": [],
   "source": [
    "def outer_fn(num1,num2):\n",
    "    def inner_fn(n1,n2):\n",
    "        return n1+n2\n",
    "    total = inner_fn(num1,num2)\n",
    "    return total\n",
    "\n",
    "outer_fn(5,10)"
   ]
  },
  {
   "cell_type": "markdown",
   "metadata": {},
   "source": [
    "## ..docstrings\n"
   ]
  },
  {
   "cell_type": "code",
   "execution_count": null,
   "metadata": {},
   "outputs": [],
   "source": [
    "def num_square(num):\n",
    "    '''\n",
    "    This function takes a number and returns the square of that number. \n",
    "    '''\n",
    "    return num**2\n",
    "\n",
    "help(num_square)\n",
    "print(num_square.__doc__)"
   ]
  },
  {
   "cell_type": "markdown",
   "metadata": {},
   "source": [
    "## .. *args   **kwargs\n",
    "- *args 允许传递任意数量的位置参数给函数\n",
    "- **kwargs 允许传递任意数量的关键字参数给函数\n",
    "\n",
    "参数传递后, args 是一个元组, kwargs是一个字典, 可以按照对应的数据类型来处理元素(函数参数)"
   ]
  },
  {
   "cell_type": "code",
   "execution_count": null,
   "metadata": {},
   "outputs": [],
   "source": [
    "# *args\n",
    "def addition_fn(*args):\n",
    "    print(*args)\n",
    "    print(args)\n",
    "    return sum(args)\n",
    "\n",
    "addition_fn(1,2,3,4,5,6)\n",
    "\n"
   ]
  },
  {
   "cell_type": "code",
   "execution_count": 37,
   "metadata": {},
   "outputs": [
    {
     "name": "stdout",
     "output_type": "stream",
     "text": [
      "{'n7': 7, 'n8': 8}\n",
      "21\n"
     ]
    }
   ],
   "source": [
    "# **kwargs\n",
    "def addition_fn1(*args, **kwargs):\n",
    "    print(kwargs)\n",
    "    return sum(args)\n",
    "result1 = addition_fn1(1,2,3,4,5,6,n7=7,n8=8)\n",
    "print(result1)"
   ]
  },
  {
   "cell_type": "code",
   "execution_count": 38,
   "metadata": {},
   "outputs": [
    {
     "name": "stdout",
     "output_type": "stream",
     "text": [
      "36\n"
     ]
    }
   ],
   "source": [
    "def addition_fn1(*args, **kwargs):\n",
    "    result = 0\n",
    "    for item in kwargs.values():\n",
    "        result += item\n",
    "    return sum(args) + result\n",
    "\n",
    "result1 = addition_fn1(1,2,3,4,5,6,n7=7,n8=8)\n",
    "print(result1)"
   ]
  },
  {
   "cell_type": "markdown",
   "metadata": {},
   "source": [
    "##　..scope\n"
   ]
  },
  {
   "cell_type": "code",
   "execution_count": 40,
   "metadata": {},
   "outputs": [
    {
     "name": "stdout",
     "output_type": "stream",
     "text": [
      "5\n"
     ]
    }
   ],
   "source": [
    "# global and function\n",
    "\n",
    "x = 1\n",
    "def trick_me():\n",
    "    global x       # 没有global x , function 内部并不知道 x 已经定义,会报错\n",
    "    x += 4\n",
    "    return x\n",
    "print(trick_me())"
   ]
  },
  {
   "cell_type": "code",
   "execution_count": null,
   "metadata": {},
   "outputs": [],
   "source": [
    "# global and function\n",
    "\n",
    "x = 1\n",
    "def trick_me(x):\n",
    "    x += 4\n",
    "    return x\n",
    "print(trick_me(x))     # 将 global 的变量 x 作为参数传递给函数是更好的做法."
   ]
  },
  {
   "cell_type": "markdown",
   "metadata": {},
   "source": [
    "### ...nonlocal"
   ]
  },
  {
   "cell_type": "code",
   "execution_count": 41,
   "metadata": {},
   "outputs": [
    {
     "name": "stdout",
     "output_type": "stream",
     "text": [
      "Hello\n"
     ]
    }
   ],
   "source": [
    "# nonlocal 仅用于嵌套函数定义\n",
    "# nonlocal 用于声明变量不是 local for function ,而是上层函数\n",
    "\n",
    "def outer_fn():\n",
    "    x = 'John'\n",
    "\n",
    "    def inner_fn():\n",
    "        nonlocal x   # 没有这行, outer_fn()中的 x 不会被修改.\n",
    "        x = 'Hello'\n",
    "    inner_fn()\n",
    "    return x\n",
    "\n",
    "print(outer_fn())"
   ]
  },
  {
   "cell_type": "markdown",
   "metadata": {},
   "source": [
    "# .OOP\n",
    "每个对象是类的一个实例, 类是创建对象的模板.\n",
    "抽象\n",
    "封装\n",
    "继承\n",
    "多态性"
   ]
  },
  {
   "cell_type": "code",
   "execution_count": null,
   "metadata": {},
   "outputs": [],
   "source": [
    "\n",
    "class Person:\n",
    "    # class object Attributes 类变量\n",
    "    is_person = True\n",
    "    \n",
    "    # constructor\n",
    "    def __init__(self, name, lastname, age):\n",
    "        if age >=18:                       # 给初始化附加了条件\n",
    "            self.name = name\n",
    "            self.lastname = lastname\n",
    "            self.age = age\n",
    "    \n",
    "    # method \n",
    "\n",
    "person_obj1 = Person('Jason', 'Brooks', 17)\n",
    "print(person_obj1.age)       # person_obj1 未被初始化, 会报错"
   ]
  },
  {
   "cell_type": "code",
   "execution_count": null,
   "metadata": {},
   "outputs": [],
   "source": [
    "class Person:\n",
    "    # class object Attributes 类变量\n",
    "    is_person = True\n",
    "    \n",
    "    # constructor\n",
    "    # 初始化函数整数默认参数\n",
    "    def __init__(self, name='John' , lastname='Ali', age=18):\n",
    "        if age >=18:                      \n",
    "            self.name = name\n",
    "            self.lastname = lastname\n",
    "            self.age = age\n",
    "    \n",
    "    # method "
   ]
  },
  {
   "cell_type": "code",
   "execution_count": null,
   "metadata": {},
   "outputs": [],
   "source": [
    "\n",
    "def Person():\n",
    "    def __init__(self,name, dob, id_number):\n",
    "        self.name = name\n",
    "        self.dob = dob\n",
    "        self.id_number = id_number\n",
    "\n",
    "    def info(self):\n",
    "        print(' ')\n",
    "\n",
    "\n",
    "\n",
    "def Employee(Person):\n",
    "    def __init__(self,name,dob,id_number,salary=None,position=None):\n",
    "        Person.__init__(self,name, dob, id_number)\n",
    "    \n",
    "    def info(self):\n",
    "        pass\n",
    "    \n"
   ]
  }
 ],
 "metadata": {
  "kernelspec": {
   "display_name": "Python 3",
   "language": "python",
   "name": "python3"
  },
  "language_info": {
   "codemirror_mode": {
    "name": "ipython",
    "version": 3
   },
   "file_extension": ".py",
   "mimetype": "text/x-python",
   "name": "python",
   "nbconvert_exporter": "python",
   "pygments_lexer": "ipython3",
   "version": "3.11.5"
  }
 },
 "nbformat": 4,
 "nbformat_minor": 2
}
