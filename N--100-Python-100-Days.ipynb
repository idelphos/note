{
 "cells": [
  {
   "cell_type": "markdown",
   "metadata": {},
   "source": [
    "# 1. Intro\n",
    "[Python-100-Days](https://github.com/jackfrued/Python-100-Days)  \n",
    "支持两种主流的编程范式: 面对对象编程和面向函数编程\n",
    "\n",
    "## 1.1 IPython \n",
    "`pip3 install ipython`\n",
    "IPyhon 是基于 Python 的交互式解释器, 它比原生解释器提供了更强大的编辑和交互功能.\n",
    "\n"
   ]
  },
  {
   "cell_type": "markdown",
   "metadata": {},
   "source": [
    "# 2. 语言元素\n"
   ]
  },
  {
   "cell_type": "markdown",
   "metadata": {},
   "source": [
    "# 5. 构造程序逻辑\n",
    "\n",
    "## 5.1 寻找水仙花数\n",
    "它是一个三位数,该数字字个位上的数字的立方之后正好等于它本身.\n"
   ]
  },
  {
   "cell_type": "code",
   "execution_count": null,
   "metadata": {},
   "outputs": [],
   "source": [
    "\n",
    "def search_daff_num(input_num):\n",
    "    '''find the daffodil number for lowner than 3-digit number.'''\n",
    "    daf_num = []\n",
    "    for num in range(100,input_num):\n",
    "        if num == (num // 100) ** 3 + (num % 100 // 10) ** 3 + (num % 10) **3:\n",
    "            daf_num.append(num)\n",
    "    return daf_num\n",
    "\n",
    "if __name__ =='__main__':\n",
    "    check_num = int(input('请输入一个三位整数:'))\n",
    "    result = search_daff_num(check_num)\n",
    "    print(f'the daffodil number are {result}.')\n",
    "    \n",
    "        "
   ]
  },
  {
   "cell_type": "markdown",
   "metadata": {},
   "source": [
    "## 5.2 反转正整数\n"
   ]
  },
  {
   "cell_type": "code",
   "execution_count": null,
   "metadata": {},
   "outputs": [],
   "source": [
    "def reverse_num(input_num):\n",
    "    reverse_num = 0\n",
    "    while input_num // 10:\n",
    "        reverse_num =reverse_num * 10 + input_num % 10 \n",
    "        input_num //= 10\n",
    "    else:\n",
    "        reverse_num = reverse_num * 10 + input_num\n",
    "    return reverse_num\n",
    "\n",
    "reverse_num(12580)"
   ]
  },
  {
   "cell_type": "markdown",
   "metadata": {},
   "source": [
    "## 5.3 百钱百鸡问题 - 穷举法,暴力搜索\n",
    "公鸡5元一只，母鸡3元一只，小鸡1元三只，用100块钱买一百只鸡，问公鸡、母鸡、小鸡各有多少只？\n"
   ]
  },
  {
   "cell_type": "code",
   "execution_count": null,
   "metadata": {},
   "outputs": [],
   "source": [
    "\n",
    "for cock in range(0,20):\n",
    "    for hen in range(0,33):\n",
    "        chicken = 100 - cock - hen\n",
    "        if cock * 5 + hen * 3 + chicken/3 == 100:\n",
    "            print(f'the amount of cock is {cock}, the amount of hen is {hen}, the amount of chicken is {chicken}')"
   ]
  },
  {
   "cell_type": "markdown",
   "metadata": {},
   "source": [
    "## 5.4  CRAPS 赌博游戏\n",
    "![算法图](https://github.com/idelphos/note/blob/2fcdc5277c22c94c8b1b799164a14c7a834b4411/draw/craps.drawio.png)"
   ]
  },
  {
   "cell_type": "code",
   "execution_count": 10,
   "metadata": {},
   "outputs": [
    {
     "name": "stdout",
     "output_type": "stream",
     "text": [
      "you lose the money 20, you have 980 now.\n",
      "you lose the money 200, you have 780 now.\n",
      "you lose the money 300, you have 480 now.\n",
      "you win the money 400, you have 880 now.\n",
      "you lose the money 500, you have 380 now.\n",
      "you lose the money 380, you have 0 now.\n",
      "you lose all,it is over.\n"
     ]
    }
   ],
   "source": [
    "import random\n",
    "money = 1000\n",
    "\n",
    "while money > 0:\n",
    "    first_point = 0\n",
    "    debt = int(input('请下注:'))\n",
    "    if debt <= money:\n",
    "        while True:\n",
    "            point = random.randint(2,12)\n",
    "            if point in (7,11):\n",
    "                money += debt\n",
    "                print(f'you win the money {debt}, you have {money} now.')\n",
    "                break\n",
    "            elif point in (2,3,12):\n",
    "                money -= debt\n",
    "                print(f'you lose the money {debt}, you have {money} now.')\n",
    "                if money > 0:\n",
    "                    break\n",
    "                else:\n",
    "                    print('you lose all,it is over.')\n",
    "                    break\n",
    "            elif point == first_point:\n",
    "                money += debt\n",
    "                print(f'you win the money {debt}, you have {money} now.')\n",
    "                break\n",
    "            else:\n",
    "                if first_point == 0:\n",
    "                    first_point = point\n",
    "    else:\n",
    "        print('没有赌注了.')\n",
    "    "
   ]
  },
  {
   "cell_type": "markdown",
   "metadata": {},
   "source": [
    "## 5.4 生成斐波那契数列的前20个数"
   ]
  },
  {
   "cell_type": "code",
   "execution_count": 11,
   "metadata": {},
   "outputs": [
    {
     "name": "stdout",
     "output_type": "stream",
     "text": [
      "[1, 1, 2, 3, 5, 8, 13, 21, 34, 55, 89, 144, 233, 377, 610, 987, 1597, 2584, 4181, 6765]\n"
     ]
    }
   ],
   "source": [
    "# 递归方法\n",
    "\n",
    "fib_list = []\n",
    "\n",
    "def fib(x):\n",
    "    if x == 1:\n",
    "        result = 1\n",
    "    elif x == 2:\n",
    "        result = 1\n",
    "    else:\n",
    "        result = fib(x-1) + fib(x-2)\n",
    "    return result \n",
    "\n",
    "for item in range(1,21):\n",
    "    fib_list.append(fib(item))\n",
    "\n",
    "print(fib_list)"
   ]
  },
  {
   "cell_type": "markdown",
   "metadata": {},
   "source": [
    "## 5.5 找出100以内所有素数"
   ]
  },
  {
   "cell_type": "code",
   "execution_count": 16,
   "metadata": {},
   "outputs": [
    {
     "name": "stdout",
     "output_type": "stream",
     "text": [
      "[1, 2, 3, 5, 7, 11, 13, 17, 19, 23, 29, 31, 37, 41, 43, 47, 53, 59, 61, 67, 71, 73, 79, 83, 89, 97]\n"
     ]
    }
   ],
   "source": [
    "num_list = []\n",
    "for i in range(1,101):\n",
    "    j = 2\n",
    "    while j < i:\n",
    "        if i % j == 0:\n",
    "            break\n",
    "        else: \n",
    "            j += 1\n",
    "    else:\n",
    "        i <= j \n",
    "        num_list.append(i)\n",
    "print(num_list)"
   ]
  }
 ],
 "metadata": {
  "kernelspec": {
   "display_name": "Python 3",
   "language": "python",
   "name": "python3"
  },
  "language_info": {
   "codemirror_mode": {
    "name": "ipython",
    "version": 3
   },
   "file_extension": ".py",
   "mimetype": "text/x-python",
   "name": "python",
   "nbconvert_exporter": "python",
   "pygments_lexer": "ipython3",
   "version": "3.11.5"
  }
 },
 "nbformat": 4,
 "nbformat_minor": 2
}
