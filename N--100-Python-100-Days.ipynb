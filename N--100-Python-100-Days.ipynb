{
 "cells": [
  {
   "cell_type": "markdown",
   "metadata": {},
   "source": [
    "# 1. Intro\n",
    "[Python-100-Days](https://github.com/jackfrued/Python-100-Days)  \n",
    "支持两种主流的编程范式: 面对对象编程和面向函数编程\n",
    "\n",
    "## 1.1 IPython \n",
    "`pip3 install ipython`\n",
    "IPyhon 是基于 Python 的交互式解释器, 它比原生解释器提供了更强大的编辑和交互功能.\n",
    "\n"
   ]
  },
  {
   "cell_type": "markdown",
   "metadata": {},
   "source": [
    "# 2. 语言元素\n"
   ]
  },
  {
   "cell_type": "markdown",
   "metadata": {},
   "source": [
    "# 5. 构造程序逻辑\n",
    "\n",
    "## 5.1 寻找水仙花数\n",
    "它是一个三位数,该数字字个位上的数字的立方之后正好等于它本身.\n"
   ]
  },
  {
   "cell_type": "code",
   "execution_count": 3,
   "metadata": {},
   "outputs": [
    {
     "name": "stdout",
     "output_type": "stream",
     "text": [
      "the daffodil number are [153, 370, 371, 407].\n"
     ]
    }
   ],
   "source": [
    "\n",
    "def search_daff_num(input_num):\n",
    "    '''find the daffodil number for lowner than 3-digit number.'''\n",
    "    daf_num = []\n",
    "    for num in range(100,input_num):\n",
    "        if num == (num // 100) ** 3 + (num % 100 // 10) ** 3 + (num % 10) **3:\n",
    "            daf_num.append(num)\n",
    "    return daf_num\n",
    "\n",
    "if __name__ =='__main__':\n",
    "    check_num = int(input('请输入一个三位整数:'))\n",
    "    result = search_daff_num(check_num)\n",
    "    print(f'the daffodil number are {result}.')\n",
    "    \n",
    "        "
   ]
  },
  {
   "cell_type": "markdown",
   "metadata": {},
   "source": [
    "## 5.2 反转正整数\n"
   ]
  },
  {
   "cell_type": "code",
   "execution_count": 15,
   "metadata": {},
   "outputs": [
    {
     "data": {
      "text/plain": [
       "8521"
      ]
     },
     "execution_count": 15,
     "metadata": {},
     "output_type": "execute_result"
    }
   ],
   "source": [
    "def reverse_num(input_num):\n",
    "    reverse_num = 0\n",
    "    while input_num // 10:\n",
    "        reverse_num =reverse_num * 10 + input_num % 10 \n",
    "        input_num //= 10\n",
    "    else:\n",
    "        reverse_num = reverse_num * 10 + input_num\n",
    "    return reverse_num\n",
    "\n",
    "reverse_num(12580)"
   ]
  },
  {
   "cell_type": "markdown",
   "metadata": {},
   "source": [
    "# 5.3 百钱百鸡问题 - 穷举法,暴力搜索\n",
    "公鸡5元一只，母鸡3元一只，小鸡1元三只，用100块钱买一百只鸡，问公鸡、母鸡、小鸡各有多少只？\n"
   ]
  },
  {
   "cell_type": "code",
   "execution_count": 21,
   "metadata": {},
   "outputs": [
    {
     "name": "stdout",
     "output_type": "stream",
     "text": [
      "the amount of cock is 0, the amount of hen is 25, the amount of chicken is 75\n",
      "the amount of cock is 4, the amount of hen is 18, the amount of chicken is 78\n",
      "the amount of cock is 8, the amount of hen is 11, the amount of chicken is 81\n",
      "the amount of cock is 12, the amount of hen is 4, the amount of chicken is 84\n"
     ]
    }
   ],
   "source": [
    "\n",
    "for cock in range(0,20):\n",
    "    for hen in range(0,33):\n",
    "        chicken = 100 - cock - hen\n",
    "        if cock * 5 + hen * 3 + chicken/3 == 100:\n",
    "            print(f'the amount of cock is {cock}, the amount of hen is {hen}, the amount of chicken is {chicken}')"
   ]
  },
  {
   "cell_type": "markdown",
   "metadata": {},
   "source": [
    "## 5.4  CRAPS 赌博游戏"
   ]
  },
  {
   "cell_type": "code",
   "execution_count": null,
   "metadata": {},
   "outputs": [],
   "source": [
    "import random\n",
    "money = 1000 \n",
    "\n",
    "while money > 0:\n",
    "    debt = 100         # 每次下注100\n",
    "    first_point = 0    # 每次下注后重置成0\n",
    "    "
   ]
  }
 ],
 "metadata": {
  "kernelspec": {
   "display_name": "Python 3",
   "language": "python",
   "name": "python3"
  },
  "language_info": {
   "codemirror_mode": {
    "name": "ipython",
    "version": 3
   },
   "file_extension": ".py",
   "mimetype": "text/x-python",
   "name": "python",
   "nbconvert_exporter": "python",
   "pygments_lexer": "ipython3",
   "version": "3.11.5"
  }
 },
 "nbformat": 4,
 "nbformat_minor": 2
}
