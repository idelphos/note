{
 "cells": [
  {
   "cell_type": "markdown",
   "metadata": {},
   "source": [
    "# 1. Intro\n",
    "[Python-100-Days](https://github.com/jackfrued/Python-100-Days)  \n",
    "支持两种主流的编程范式: 面对对象编程和面向函数编程\n",
    "\n",
    "## 1.1 IPython \n",
    "`pip3 install ipython`\n",
    "IPyhon 是基于 Python 的交互式解释器, 它比原生解释器提供了更强大的编辑和交互功能.\n",
    "\n"
   ]
  },
  {
   "cell_type": "markdown",
   "metadata": {},
   "source": [
    "# 2. 语言元素\n"
   ]
  },
  {
   "cell_type": "markdown",
   "metadata": {},
   "source": [
    "# 5. 构造程序逻辑\n",
    "\n",
    "## 5.1 寻找水仙花数\n",
    "它是一个三位数,该数字字个位上的数字的立方之后正好等于它本身.\n"
   ]
  },
  {
   "cell_type": "code",
   "execution_count": null,
   "metadata": {},
   "outputs": [],
   "source": [
    "\n",
    "def search_daff_num(input_num):\n",
    "    '''find the daffodil number for lowner than 3-digit number.'''\n",
    "    daf_num = []\n",
    "    for num in range(100,input_num):\n",
    "        if num == (num // 100) ** 3 + (num % 100 // 10) ** 3 + (num % 10) **3:\n",
    "            daf_num.append(num)\n",
    "    return daf_num\n",
    "\n",
    "if __name__ =='__main__':\n",
    "    check_num = int(input('请输入一个三位整数:'))\n",
    "    result = search_daff_num(check_num)\n",
    "    print(f'the daffodil number are {result}.')\n",
    "    \n",
    "        "
   ]
  },
  {
   "cell_type": "markdown",
   "metadata": {},
   "source": [
    "## 5.2 反转正整数\n"
   ]
  },
  {
   "cell_type": "code",
   "execution_count": null,
   "metadata": {},
   "outputs": [],
   "source": [
    "def reverse_num(input_num):\n",
    "    reverse_num = 0\n",
    "    while input_num // 10:\n",
    "        reverse_num =reverse_num * 10 + input_num % 10 \n",
    "        input_num //= 10\n",
    "    else:\n",
    "        reverse_num = reverse_num * 10 + input_num\n",
    "    return reverse_num\n",
    "\n",
    "reverse_num(12580)"
   ]
  },
  {
   "cell_type": "markdown",
   "metadata": {},
   "source": [
    "## 5.3 百钱百鸡问题 - 穷举法,暴力搜索\n",
    "公鸡5元一只，母鸡3元一只，小鸡1元三只，用100块钱买一百只鸡，问公鸡、母鸡、小鸡各有多少只？\n"
   ]
  },
  {
   "cell_type": "code",
   "execution_count": null,
   "metadata": {},
   "outputs": [],
   "source": [
    "\n",
    "for cock in range(0,20):\n",
    "    for hen in range(0,33):\n",
    "        chicken = 100 - cock - hen\n",
    "        if cock * 5 + hen * 3 + chicken/3 == 100:\n",
    "            print(f'the amount of cock is {cock}, the amount of hen is {hen}, the amount of chicken is {chicken}')"
   ]
  },
  {
   "cell_type": "markdown",
   "metadata": {},
   "source": [
    "## 5.4  CRAPS 赌博游戏\n",
    "![算法图](https://github.com/idelphos/note/blob/2fcdc5277c22c94c8b1b799164a14c7a834b4411/draw/craps.drawio.png)"
   ]
  },
  {
   "cell_type": "code",
   "execution_count": null,
   "metadata": {},
   "outputs": [],
   "source": [
    "import random\n",
    "money = 1000\n",
    "\n",
    "while money > 0:\n",
    "    first_point = 0\n",
    "    debt = int(input('请下注:'))\n",
    "    if debt <= money:\n",
    "        while True:\n",
    "            point = random.randint(2,12)\n",
    "            if point in (7,11):\n",
    "                money += debt\n",
    "                print(f'you win the money {debt}, you have {money} now.')\n",
    "                break\n",
    "            elif point in (2,3,12):\n",
    "                money -= debt\n",
    "                print(f'you lose the money {debt}, you have {money} now.')\n",
    "                if money > 0:\n",
    "                    break\n",
    "                else:\n",
    "                    print('you lose all,it is over.')\n",
    "                    break\n",
    "            elif point == first_point:\n",
    "                money += debt\n",
    "                print(f'you win the money {debt}, you have {money} now.')\n",
    "                break\n",
    "            else:\n",
    "                if first_point == 0:\n",
    "                    first_point = point\n",
    "    else:\n",
    "        print('没有赌注了.')\n",
    "    "
   ]
  },
  {
   "cell_type": "markdown",
   "metadata": {},
   "source": [
    "## 5.4 生成斐波那契数列的前20个数"
   ]
  },
  {
   "cell_type": "code",
   "execution_count": null,
   "metadata": {},
   "outputs": [],
   "source": [
    "# 递归方法\n",
    "\n",
    "fib_list = []\n",
    "\n",
    "def fib(x):\n",
    "    if x == 1:\n",
    "        result = 1\n",
    "    elif x == 2:\n",
    "        result = 1\n",
    "    else:\n",
    "        result = fib(x-1) + fib(x-2)\n",
    "    return result \n",
    "\n",
    "for item in range(1,21):\n",
    "    fib_list.append(fib(item))\n",
    "\n",
    "print(fib_list)"
   ]
  },
  {
   "cell_type": "markdown",
   "metadata": {},
   "source": [
    "## 5.5 找出100以内所有素数"
   ]
  },
  {
   "cell_type": "code",
   "execution_count": null,
   "metadata": {},
   "outputs": [],
   "source": [
    "num_list = []\n",
    "for i in range(1,101):\n",
    "    j = 2\n",
    "    while j < i:\n",
    "        if i % j == 0:\n",
    "            break\n",
    "        else: \n",
    "            j += 1\n",
    "    else:\n",
    "        i <= j \n",
    "        num_list.append(i)\n",
    "print(num_list)"
   ]
  },
  {
   "cell_type": "markdown",
   "metadata": {},
   "source": [
    "# 6. 函数和模块的使用\n",
    "\n",
    "## 6.1 生成式和生成器"
   ]
  },
  {
   "cell_type": "code",
   "execution_count": null,
   "metadata": {},
   "outputs": [],
   "source": [
    "import sys\n",
    "f = [x for x in range(1,10)]\n",
    "f = [x + y for x in 'ABCED' for y in '1234567']\n",
    "\n",
    "# 列表的生成式语法\n",
    "f = [x ** 2 for x in range(1,1000)]   # 生成列表对象,占用空间\n",
    "print(sys.getsizeof(f))\n",
    "\n",
    "# 下面的代码创建的不是一个列表而是一个生成器 generator\n",
    "# 通常生成器可以猎取到数据,但不用额外的空间\n",
    "# 每次需要数据的时候就通过内部的运算得到数据(需要额外的时间)\n",
    "f = (x ** 2 for x in range(1,1000))\n",
    "print(sys.getsizeof(f))   # 生成器不占用存储数据的空间\n"
   ]
  },
  {
   "cell_type": "markdown",
   "metadata": {},
   "source": [
    "## 6.2 实现计算求最大公约数和最小公位数"
   ]
  },
  {
   "cell_type": "code",
   "execution_count": null,
   "metadata": {},
   "outputs": [],
   "source": [
    "def gcd(x,y):\n",
    "    x,y = y,x if x > y else x,y\n",
    "    for factor in range(x, 0, -1):\n",
    "        if x % factor == 0 and y % factor ==0:\n",
    "            return factor\n",
    "\n",
    "def lcm(x,y):\n",
    "    return x * y // gcd(x,y)\n"
   ]
  },
  {
   "cell_type": "markdown",
   "metadata": {},
   "source": [
    "## 6.3 判断一个数是不是回文数的函数"
   ]
  },
  {
   "cell_type": "code",
   "execution_count": 2,
   "metadata": {},
   "outputs": [
    {
     "name": "stdout",
     "output_type": "stream",
     "text": [
      "123454321 is a pal num.\n",
      "22222 is a pal num.\n"
     ]
    }
   ],
   "source": [
    "def pal_num(num):\n",
    "    x = num\n",
    "    reversed_num = 0\n",
    "    while x // 10:\n",
    "        left_part = x // 10\n",
    "        reversed_num = reversed_num * 10 + x % 10\n",
    "        x = left_part\n",
    "    reversed_num = reversed_num * 10 + x % 10\n",
    "    if reversed_num == num:\n",
    "        print(f'{num} is a pal num.')\n",
    "        return True\n",
    "\n",
    "def main():\n",
    "    pal_num(123454321)\n",
    "    pal_num(34568865)\n",
    "    pal_num(22222)\n",
    "\n",
    "if __name__ == '__main__':\n",
    "    main()"
   ]
  },
  {
   "cell_type": "markdown",
   "metadata": {},
   "source": [
    "# 7. 字符串和常用数据结构\n"
   ]
  },
  {
   "cell_type": "markdown",
   "metadata": {},
   "source": [
    "## 7.1 屏幕上显示跑马灯文字"
   ]
  },
  {
   "cell_type": "code",
   "execution_count": null,
   "metadata": {},
   "outputs": [],
   "source": [
    "import os \n",
    "import time \n",
    "\n",
    "def main():\n",
    "    content = '北京欢迎你为你开天辟地........'\n",
    "    while True:\n",
    "        os.system('clear')\n",
    "        print(content)\n",
    "        time.sleep(0.2)\n",
    "        content = content[1:] + content[0]\n",
    "\n",
    "if __name__ == '__main__':\n",
    "    main()"
   ]
  },
  {
   "cell_type": "markdown",
   "metadata": {},
   "source": [
    "## 7.2 设计一个函数产生指定长度的验证码, 验证码由大小写字母和数字组成"
   ]
  },
  {
   "cell_type": "code",
   "execution_count": 8,
   "metadata": {},
   "outputs": [
    {
     "name": "stdout",
     "output_type": "stream",
     "text": [
      "RNHYeUSjnQ\n"
     ]
    }
   ],
   "source": [
    "import random\n",
    "\n",
    "def generate_vcode(length=4):\n",
    "    all_chars = '0123456789qwertyuiopasdfghjklzxcvbnmQWERTYUIOPASDFGHJKLZXCVBNM'\n",
    "    vcode = ''\n",
    "    for _ in range(length):\n",
    "        index = random.randint(0, len(all_chars)-1)\n",
    "        vcode += all_chars[index]\n",
    "    return vcode\n",
    "\n",
    "if __name__ == '__main__':\n",
    "    print(generate_vcode(10))\n",
    "\n"
   ]
  },
  {
   "cell_type": "markdown",
   "metadata": {},
   "source": [
    "## 7.3 设计一个函数返回指定文件名的后缀名.\n"
   ]
  },
  {
   "cell_type": "code",
   "execution_count": 5,
   "metadata": {},
   "outputs": [
    {
     "name": "stdout",
     "output_type": "stream",
     "text": [
      "file\n",
      ".xlsx\n"
     ]
    }
   ],
   "source": [
    "\n",
    "# 后缀名可以选择是否带点\n",
    "\n",
    "def get_suffix(filename, has_dot=False):\n",
    "    ''' \n",
    "    获取文件后缀名, 并可以选择指后缀名是否带点\n",
    "    \n",
    "    '''\n",
    "    pos = filename.rfind('.')\n",
    "    \n",
    "    if 0 < pos < len(filename)-1:\n",
    "        index = pos if has_dot else pos + 1\n",
    "        return filename[index:]\n",
    "    else:\n",
    "        return ''\n",
    "\n",
    "\n",
    "def main():\n",
    "    print(get_suffix('test.file'))\n",
    "    print(get_suffix('text.xlsx',True))\n",
    "\n",
    "\n",
    "if __name__ =='__main__':\n",
    "    main()\n",
    "    "
   ]
  },
  {
   "cell_type": "markdown",
   "metadata": {},
   "source": [
    "## 7.4 设计一个函数返回传入的列表中最大和第二大的元素的值."
   ]
  },
  {
   "cell_type": "code",
   "execution_count": 9,
   "metadata": {},
   "outputs": [
    {
     "name": "stdout",
     "output_type": "stream",
     "text": [
      "(10, 10)\n",
      "(93, 23)\n"
     ]
    }
   ],
   "source": [
    "def max_two(list_num):\n",
    "    first = max(list_num)\n",
    "    list_num.remove(first)\n",
    "    second = max(list_num)\n",
    "    return (first,second)\n",
    "    \n",
    "def main():\n",
    "    print(max_two([1,2,3,5,10,10,10]))\n",
    "    print(max_two([93,23,11,1,5,19]))\n",
    "\n",
    "if __name__ == '__main__':\n",
    "    main()"
   ]
  },
  {
   "cell_type": "markdown",
   "metadata": {},
   "source": [
    "## 7.5 计算指定的年月日是这一年的第几天\n"
   ]
  },
  {
   "cell_type": "code",
   "execution_count": 62,
   "metadata": {},
   "outputs": [
    {
     "name": "stdout",
     "output_type": "stream",
     "text": [
      "32\n",
      "92\n",
      "60\n"
     ]
    }
   ],
   "source": [
    "def is_leap_year(year):\n",
    "    if year % 400 == 0:\n",
    "        return True\n",
    "    elif year % 400 != 0 and year % 4 == 0:\n",
    "        return True\n",
    "    else:\n",
    "        return False\n",
    "\n",
    "def which_day(year, month, day):\n",
    "    total_days = 0\n",
    "    for m in range(1,month):\n",
    "        if m in (1,3,5,7,8,10,12):\n",
    "            total_days += 31\n",
    "        if m == 2:\n",
    "            feb_days = 29 if is_leap_year(year) else 28\n",
    "            total_days += feb_days\n",
    "        if m in(4,6,9,11):\n",
    "            total_days += 30\n",
    "    \n",
    "    total_days += day\n",
    "    return total_days\n",
    "\n",
    "def main():\n",
    "    print(which_day(2000,2,1))\n",
    "    print(which_day(2004,4,1))\n",
    "    print(which_day(2005,3,1))\n",
    "\n",
    "if __name__ == '__main__':\n",
    "    main()\n",
    "    \n",
    "    \n",
    "\n"
   ]
  },
  {
   "cell_type": "markdown",
   "metadata": {},
   "source": [
    "# 9. 面向对象编程\n",
    "\n",
    "## 9.3 工资结算系统\n",
    "某公司有三种员工:部分经理, 程序员, 销售员. 需要设计一个工资结算系统, 根据提供的员工信息来计算月薪:\n",
    "1. 部门经理月薪: 15000 元/月\n",
    "2. 程序员: 150 元/小时\n",
    "3. 销售: 1200 + 销售额 * 5%\n"
   ]
  },
  {
   "cell_type": "code",
   "execution_count": 74,
   "metadata": {},
   "outputs": [
    {
     "name": "stdout",
     "output_type": "stream",
     "text": [
      "刘备的本月的工资为: 15000\n",
      "诸葛亮的本月的工资为: 30000.0\n",
      "曹操的本月的工资为: 15000\n",
      "荀彧的本月的工资为: 1400.0\n",
      "吕布的本月的工资为: 1450.0\n",
      "张辽的本月的工资为: 45000.0\n",
      "赵云的本月的工资为: 37500.0\n"
     ]
    }
   ],
   "source": [
    "from abc import ABCMeta,abstractmethod\n",
    "\n",
    "class Employee(object, metaclass=ABCMeta):\n",
    "    ''' \n",
    "    员工\n",
    "    '''\n",
    "    def __init__(self, name):\n",
    "        self._name = name\n",
    "    \n",
    "    @property\n",
    "    def name(self):\n",
    "        return self._name\n",
    "    \n",
    "    @abstractmethod\n",
    "    def get_salary(self):\n",
    "        ''' \n",
    "        取得月薪\n",
    "        '''\n",
    "        pass\n",
    "\n",
    "class Manager(Employee):\n",
    "    ''' 部分经理''' \n",
    "    def get_salary(self):\n",
    "        return 15000\n",
    "\n",
    "class Programmer(Employee):\n",
    "    '''程序员'''\n",
    "    def __init__(self, name, working_hour=0):\n",
    "        super().__init__(name)\n",
    "        self._working_hour = working_hour\n",
    "    \n",
    "    @property\n",
    "    def working_hour(self):\n",
    "        return self._working_hour\n",
    "    \n",
    "    @working_hour.setter\n",
    "    def working_hour(self,working_hour):\n",
    "        self._working_hour = working_hour if working_hour > 0 else 0\n",
    "\n",
    "    def get_salary(self):\n",
    "        return 150.0 * self._working_hour\n",
    "\n",
    "\n",
    "class Salesman(Employee):\n",
    "    ''' 销售员''' \n",
    "    def __init__(self,name,sales=0):\n",
    "        super().__init__(name)\n",
    "        self._sales = sales\n",
    "    \n",
    "    @property\n",
    "    def sales(self):\n",
    "        return self._sales\n",
    "\n",
    "    @sales.setter\n",
    "    def sales(self, sales):\n",
    "        self._sales = sales if sales > 0 else 0\n",
    "    \n",
    "    def get_salary(self):\n",
    "        return 1200 + self._sales * 0.05\n",
    "\n",
    "def main():\n",
    "    emps=[\n",
    "        Manager('刘备'),Programmer('诸葛亮'),\n",
    "        Manager('曹操'),Salesman('荀彧'),\n",
    "        Salesman('吕布'), Programmer('张辽'),\n",
    "        Programmer('赵云')\n",
    "    ]\n",
    "\n",
    "    for emp in emps:\n",
    "        if isinstance(emp, Programmer):\n",
    "            emp.working_hour = int(input(f'请输入{emp.name}的工作小时数: '))\n",
    "        elif isinstance(emp,Salesman):\n",
    "            emp.sales = float(input(f'请输入{emp.name}的销售额:'))\n",
    "        print(f'{emp.name}的本月的工资为: {emp.get_salary()}')\n",
    "\n",
    "\n",
    "if __name__ == '__main__':\n",
    "    main()"
   ]
  },
  {
   "cell_type": "markdown",
   "metadata": {},
   "source": [
    "# 11. 文件读写"
   ]
  },
  {
   "cell_type": "code",
   "execution_count": 75,
   "metadata": {},
   "outputs": [
    {
     "name": "stdout",
     "output_type": "stream",
     "text": [
      "无法打开指定的文件!\n"
     ]
    }
   ],
   "source": [
    "def main():\n",
    "    f = None\n",
    "    try:\n",
    "        f = open('test.txt', 'r',encoding='utf-8')\n",
    "        print(f.read())\n",
    "    except FileNotFoundError:\n",
    "        print('无法打开指定的文件!')\n",
    "    except LookupError:\n",
    "        print('指定了未知的编码!')\n",
    "    except UnicodeDecodeError:\n",
    "        print('读取文件时解码错误!')\n",
    "    finally:\n",
    "        if f:\n",
    "            f.close()\n",
    "\n",
    "if __name__ =='__main__':\n",
    "    main()"
   ]
  }
 ],
 "metadata": {
  "kernelspec": {
   "display_name": "Python 3",
   "language": "python",
   "name": "python3"
  },
  "language_info": {
   "codemirror_mode": {
    "name": "ipython",
    "version": 3
   },
   "file_extension": ".py",
   "mimetype": "text/x-python",
   "name": "python",
   "nbconvert_exporter": "python",
   "pygments_lexer": "ipython3",
   "version": "3.11.5"
  }
 },
 "nbformat": 4,
 "nbformat_minor": 2
}
