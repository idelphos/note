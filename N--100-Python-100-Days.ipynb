{
 "cells": [
  {
   "cell_type": "markdown",
   "metadata": {},
   "source": [
    "# 1. Intro\n",
    "[Python-100-Days](https://github.com/jackfrued/Python-100-Days)  \n",
    "支持两种主流的编程范式: 面对对象编程和面向函数编程\n",
    "\n",
    "## 1.1 IPython \n",
    "`pip3 install ipython`\n",
    "IPyhon 是基于 Python 的交互式解释器, 它比原生解释器提供了更强大的编辑和交互功能.\n",
    "\n"
   ]
  },
  {
   "cell_type": "markdown",
   "metadata": {},
   "source": [
    "# 2. 语言元素\n"
   ]
  },
  {
   "cell_type": "markdown",
   "metadata": {},
   "source": [
    "# 5. 构造程序逻辑\n",
    "\n",
    "## 5.1 寻找水仙花数\n",
    "它是一个三位数,该数字字个位上的数字的立方之后正好等于它本身.\n"
   ]
  },
  {
   "cell_type": "code",
   "execution_count": null,
   "metadata": {},
   "outputs": [],
   "source": [
    "\n",
    "def search_daff_num(input_num):\n",
    "    '''find the daffodil number for lowner than 3-digit number.'''\n",
    "    daf_num = []\n",
    "    for num in range(100,input_num):\n",
    "        if num == (num // 100) ** 3 + (num % 100 // 10) ** 3 + (num % 10) **3:\n",
    "            daf_num.append(num)\n",
    "    return daf_num\n",
    "\n",
    "if __name__ =='__main__':\n",
    "    check_num = int(input('请输入一个三位整数:'))\n",
    "    result = search_daff_num(check_num)\n",
    "    print(f'the daffodil number are {result}.')\n",
    "    \n",
    "        "
   ]
  },
  {
   "cell_type": "markdown",
   "metadata": {},
   "source": [
    "## 5.2 反转正整数\n"
   ]
  },
  {
   "cell_type": "code",
   "execution_count": null,
   "metadata": {},
   "outputs": [],
   "source": [
    "def reverse_num(input_num):\n",
    "    reverse_num = 0\n",
    "    while input_num // 10:\n",
    "        reverse_num =reverse_num * 10 + input_num % 10 \n",
    "        input_num //= 10\n",
    "    else:\n",
    "        reverse_num = reverse_num * 10 + input_num\n",
    "    return reverse_num\n",
    "\n",
    "reverse_num(12580)"
   ]
  },
  {
   "cell_type": "markdown",
   "metadata": {},
   "source": [
    "## 5.3 百钱百鸡问题 - 穷举法,暴力搜索\n",
    "公鸡5元一只，母鸡3元一只，小鸡1元三只，用100块钱买一百只鸡，问公鸡、母鸡、小鸡各有多少只？\n"
   ]
  },
  {
   "cell_type": "code",
   "execution_count": null,
   "metadata": {},
   "outputs": [],
   "source": [
    "\n",
    "for cock in range(0,20):\n",
    "    for hen in range(0,33):\n",
    "        chicken = 100 - cock - hen\n",
    "        if cock * 5 + hen * 3 + chicken/3 == 100:\n",
    "            print(f'the amount of cock is {cock}, the amount of hen is {hen}, the amount of chicken is {chicken}')"
   ]
  },
  {
   "cell_type": "markdown",
   "metadata": {},
   "source": [
    "## 5.4  CRAPS 赌博游戏\n",
    "![算法图](https://github.com/idelphos/note/blob/2fcdc5277c22c94c8b1b799164a14c7a834b4411/draw/craps.drawio.png)"
   ]
  },
  {
   "cell_type": "code",
   "execution_count": null,
   "metadata": {},
   "outputs": [],
   "source": [
    "import random\n",
    "money = 1000\n",
    "\n",
    "while money > 0:\n",
    "    first_point = 0\n",
    "    debt = int(input('请下注:'))\n",
    "    if debt <= money:\n",
    "        while True:\n",
    "            point = random.randint(2,12)\n",
    "            if point in (7,11):\n",
    "                money += debt\n",
    "                print(f'you win the money {debt}, you have {money} now.')\n",
    "                break\n",
    "            elif point in (2,3,12):\n",
    "                money -= debt\n",
    "                print(f'you lose the money {debt}, you have {money} now.')\n",
    "                if money > 0:\n",
    "                    break\n",
    "                else:\n",
    "                    print('you lose all,it is over.')\n",
    "                    break\n",
    "            elif point == first_point:\n",
    "                money += debt\n",
    "                print(f'you win the money {debt}, you have {money} now.')\n",
    "                break\n",
    "            else:\n",
    "                if first_point == 0:\n",
    "                    first_point = point\n",
    "    else:\n",
    "        print('没有赌注了.')\n",
    "    "
   ]
  },
  {
   "cell_type": "markdown",
   "metadata": {},
   "source": [
    "## 5.4 生成斐波那契数列的前20个数"
   ]
  },
  {
   "cell_type": "code",
   "execution_count": null,
   "metadata": {},
   "outputs": [],
   "source": [
    "# 递归方法\n",
    "\n",
    "fib_list = []\n",
    "\n",
    "def fib(x):\n",
    "    if x == 1:\n",
    "        result = 1\n",
    "    elif x == 2:\n",
    "        result = 1\n",
    "    else:\n",
    "        result = fib(x-1) + fib(x-2)\n",
    "    return result \n",
    "\n",
    "for item in range(1,21):\n",
    "    fib_list.append(fib(item))\n",
    "\n",
    "print(fib_list)"
   ]
  },
  {
   "cell_type": "markdown",
   "metadata": {},
   "source": [
    "## 5.5 找出100以内所有素数"
   ]
  },
  {
   "cell_type": "code",
   "execution_count": null,
   "metadata": {},
   "outputs": [],
   "source": [
    "num_list = []\n",
    "for i in range(1,101):\n",
    "    j = 2\n",
    "    while j < i:\n",
    "        if i % j == 0:\n",
    "            break\n",
    "        else: \n",
    "            j += 1\n",
    "    else:\n",
    "        i <= j \n",
    "        num_list.append(i)\n",
    "print(num_list)"
   ]
  },
  {
   "cell_type": "markdown",
   "metadata": {},
   "source": [
    "# 6. 函数和模块的使用\n",
    "\n",
    "## 6.1 生成式和生成器"
   ]
  },
  {
   "cell_type": "code",
   "execution_count": null,
   "metadata": {},
   "outputs": [],
   "source": [
    "import sys\n",
    "f = [x for x in range(1,10)]\n",
    "f = [x + y for x in 'ABCED' for y in '1234567']\n",
    "\n",
    "# 列表的生成式语法\n",
    "f = [x ** 2 for x in range(1,1000)]   # 生成列表对象,占用空间\n",
    "print(sys.getsizeof(f))\n",
    "\n",
    "# 下面的代码创建的不是一个列表而是一个生成器 generator\n",
    "# 通常生成器可以猎取到数据,但不用额外的空间\n",
    "# 每次需要数据的时候就通过内部的运算得到数据(需要额外的时间)\n",
    "f = (x ** 2 for x in range(1,1000))\n",
    "print(sys.getsizeof(f))   # 生成器不占用存储数据的空间\n"
   ]
  },
  {
   "cell_type": "markdown",
   "metadata": {},
   "source": [
    "## 6.2 实现计算求最大公约数和最小公位数"
   ]
  },
  {
   "cell_type": "code",
   "execution_count": null,
   "metadata": {},
   "outputs": [],
   "source": [
    "def gcd(x,y):\n",
    "    x,y = y,x if x > y else x,y\n",
    "    for factor in range(x, 0, -1):\n",
    "        if x % factor == 0 and y % factor ==0:\n",
    "            return factor\n",
    "\n",
    "def lcm(x,y):\n",
    "    return x * y // gcd(x,y)\n"
   ]
  },
  {
   "cell_type": "markdown",
   "metadata": {},
   "source": [
    "## 6.3 判断一个数是不是回文数的函数"
   ]
  },
  {
   "cell_type": "code",
   "execution_count": 2,
   "metadata": {},
   "outputs": [
    {
     "name": "stdout",
     "output_type": "stream",
     "text": [
      "123454321 is a pal num.\n",
      "22222 is a pal num.\n"
     ]
    }
   ],
   "source": [
    "def pal_num(num):\n",
    "    x = num\n",
    "    reversed_num = 0\n",
    "    while x // 10:\n",
    "        left_part = x // 10\n",
    "        reversed_num = reversed_num * 10 + x % 10\n",
    "        x = left_part\n",
    "    reversed_num = reversed_num * 10 + x % 10\n",
    "    if reversed_num == num:\n",
    "        print(f'{num} is a pal num.')\n",
    "        return True\n",
    "\n",
    "def main():\n",
    "    pal_num(123454321)\n",
    "    pal_num(34568865)\n",
    "    pal_num(22222)\n",
    "\n",
    "if __name__ == '__main__':\n",
    "    main()"
   ]
  },
  {
   "cell_type": "markdown",
   "metadata": {},
   "source": [
    "# 7. 字符串和常用数据结构\n"
   ]
  },
  {
   "cell_type": "markdown",
   "metadata": {},
   "source": [
    "## 7.1 屏幕上显示跑马灯文字"
   ]
  },
  {
   "cell_type": "code",
   "execution_count": null,
   "metadata": {},
   "outputs": [],
   "source": [
    "import os \n",
    "import time \n",
    "\n",
    "def main():\n",
    "    content = '北京欢迎你为你开天辟地........'\n",
    "    while True:\n",
    "        os.system('clear')\n",
    "        print(content)\n",
    "        time.sleep(0.2)\n",
    "        content = content[1:] + content[0]\n",
    "\n",
    "if __name__ == '__main__':\n",
    "    main()"
   ]
  },
  {
   "cell_type": "markdown",
   "metadata": {},
   "source": [
    "## 7.2 设计一个函数产生指定长度的验证码, 验证码由大小写字母和数字组成"
   ]
  },
  {
   "cell_type": "code",
   "execution_count": 8,
   "metadata": {},
   "outputs": [
    {
     "name": "stdout",
     "output_type": "stream",
     "text": [
      "RNHYeUSjnQ\n"
     ]
    }
   ],
   "source": [
    "import random\n",
    "\n",
    "def generate_vcode(length=4):\n",
    "    all_chars = '0123456789qwertyuiopasdfghjklzxcvbnmQWERTYUIOPASDFGHJKLZXCVBNM'\n",
    "    vcode = ''\n",
    "    for _ in range(length):\n",
    "        index = random.randint(0, len(all_chars)-1)\n",
    "        vcode += all_chars[index]\n",
    "    return vcode\n",
    "\n",
    "if __name__ == '__main__':\n",
    "    print(generate_vcode(10))\n",
    "\n"
   ]
  }
 ],
 "metadata": {
  "kernelspec": {
   "display_name": "Python 3",
   "language": "python",
   "name": "python3"
  },
  "language_info": {
   "codemirror_mode": {
    "name": "ipython",
    "version": 3
   },
   "file_extension": ".py",
   "mimetype": "text/x-python",
   "name": "python",
   "nbconvert_exporter": "python",
   "pygments_lexer": "ipython3",
   "version": "3.11.5"
  }
 },
 "nbformat": 4,
 "nbformat_minor": 2
}
