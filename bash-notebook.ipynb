{
 "cells": [
  {
   "cell_type": "markdown",
   "metadata": {},
   "source": [
    "# bash notebook"
   ]
  },
  {
   "cell_type": "code",
   "execution_count": 3,
   "metadata": {},
   "outputs": [
    {
     "name": "stdout",
     "output_type": "stream",
     "text": [
      "$RECYCLE.BIN\t\t\tgit2.md\n",
      "LFS.md\t\t\t\tmarkdown-fast.md\n",
      "bash-notebook.ipynb\t\tmarkdown-quickstart.md\n",
      "desktop.ini\t\t\tpython-idiot.md\n",
      "git-command.drawio\t\tpython3 实例.ipynb\n",
      "git.md\t\t\t\tpython标准库概览.ipynb\n",
      "/Users/yadelph/Documents\n"
     ]
    }
   ],
   "source": [
    "ls\n",
    "pwd"
   ]
  },
  {
   "cell_type": "code",
   "execution_count": null,
   "metadata": {},
   "outputs": [],
   "source": []
  }
 ],
 "metadata": {
  "kernelspec": {
   "display_name": "Bash",
   "language": "bash",
   "name": "bash"
  },
  "language_info": {
   "codemirror_mode": "shell",
   "file_extension": ".sh",
   "mimetype": "text/x-sh",
   "name": "bash"
  }
 },
 "nbformat": 4,
 "nbformat_minor": 4
}
