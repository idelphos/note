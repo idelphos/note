{
 "cells": [
  {
   "cell_type": "markdown",
   "metadata": {},
   "source": [
    "# 1. list"
   ]
  },
  {
   "cell_type": "markdown",
   "metadata": {},
   "source": [
    "## 1.1 list定义"
   ]
  },
  {
   "cell_type": "code",
   "execution_count": null,
   "metadata": {},
   "outputs": [],
   "source": [
    "\n",
    "# 其它类型元素定义\n",
    "tup1 = (3,'tuple', 5)\n",
    "dict1 = {'name':'Ade', 'xin':'yuan'}\n",
    "set1 = {2, 'Yuan'}\n",
    "\n",
    "\n",
    "li1 = []                                        #定义空列表 \n",
    "li2 = ['mem1', 'mem2','mem3']\n",
    "li3 = ['string', 1, 200, 19.5, False, li2, tup1, dict1, set1 ]      # list中元素可以是Python中的任何对象\n",
    "\n",
    "print('1.', li1)\n",
    "print('2.', li2)\n",
    "print('3.', li3)\n",
    "\n",
    "\n",
    "#索引访问列表\n",
    "print('4.', li3[5])\n",
    "print('5.', li3[0])            #0 起始编号\n",
    "print('6.', li3[-1])           #负数索引\n",
    "print('7.', li3[1:-1])         #截取元素, 左闭右开原则\n",
    "print('8.', li3[0:3])\n",
    "\n",
    "\n",
    "#增加元素\n",
    "print('9.',li2)\n",
    "li2.append('mem4')\n",
    "print('10.',li2)\n",
    "\n",
    "li2.extend(li3)\n",
    "print('11.',li2)\n",
    "\n",
    "li2.insert(1,'insertmem')\n",
    "print('12.', li2)\n",
    "\n",
    "print('13.', li2.index('mem2'))\n",
    "\n",
    "li2.append('mem3')\n",
    "print('14.',li2.count('mem3'))\n",
    "\n",
    "#深copy方法\n",
    "li2_copy = li2.copy()     \n",
    "print('15.',li2_copy)\n",
    "\n",
    "#赋值是浅copy, 即创建一个对象的引用.\n",
    "\n",
    "li2_copy.clear()\n",
    "print('16.',li2_copy)\n",
    "print('17.',li2)\n",
    "\n",
    "li2.pop()\n",
    "print('18.',li2)\n",
    "\n",
    "li2.remove('mem2')\n",
    "print('19.', li2)\n",
    "\n",
    "li2.reverse()\n",
    "print('20.', li2)\n",
    "\n",
    "li2.reverse()\n",
    "\n",
    "li2 = ['mem3', 'mem2','mem1','mem4']\n",
    "\n",
    "li2.sort()\n",
    "print('21.', li2)\n",
    "\n",
    "\n",
    "\n"
   ]
  },
  {
   "cell_type": "markdown",
   "metadata": {},
   "source": [
    "# 2. dict"
   ]
  },
  {
   "cell_type": "markdown",
   "metadata": {},
   "source": [
    "## 移除字典key-value对"
   ]
  },
  {
   "cell_type": "code",
   "execution_count": null,
   "metadata": {},
   "outputs": [],
   "source": [
    "test_dict = {'a':'name', 'b':'age', 'c':'weight','d':'country'}\n",
    "\n",
    "print('1.', test_dict)\n",
    "# 使用 del 移除\n",
    "del test_dict['a']\n",
    "print('1.after del:', test_dict)\n",
    "\n",
    "\n",
    "# pop() 方法移除\n",
    "val = test_dict.pop('c')\n",
    "print('2. after pop():',test_dict)\n",
    "print('2. the value after pop:', val)\n",
    "\n",
    "\n",
    "# items() 方法移除\n",
    "test_dict = {'a':'name', 'b':'age', 'c':'weight','d':'country'}\n",
    "\n",
    "new_dict = { key:value for key,value in test_dict.items() if key != 'a'}\n",
    "\n",
    "print(new_dict)\n"
   ]
  },
  {
   "cell_type": "markdown",
   "metadata": {},
   "source": [
    "## 合并字典"
   ]
  },
  {
   "cell_type": "code",
   "execution_count": 26,
   "metadata": {},
   "outputs": [
    {
     "name": "stdout",
     "output_type": "stream",
     "text": [
      "{1: 'first', 2: 'second', 3: 'third', 6: 'six', 7: 'seven', 5: 'five'}\n",
      "{1: 'first', 2: 'second', 3: 'third', 6: 'six', 7: 'seven', 5: 'five'}\n"
     ]
    }
   ],
   "source": [
    "# dict.update()方法\n",
    "\n",
    "dict1 = {1:'first', 2:'second', 3:'third'}\n",
    "dict2 = {6:'six', 7:'seven', 5:'five'}\n",
    "\n",
    "dict1.update(dict2)\n",
    "print(dict1)\n",
    "\n",
    "# 使用**将参数以字典形式导入\n",
    "dict1 = {1:'first', 2:'second', 3:'third'}\n",
    "dict2 = {6:'six', 7:'seven', 5:'five'}\n",
    "\n",
    "def merge_dict(dict1, dict2):\n",
    "    new_dict = {**dict1, **dict2}\n",
    "    return new_dict\n",
    "\n",
    "print(merge_dict(dict1, dict2))\n",
    "\n"
   ]
  },
  {
   "cell_type": "markdown",
   "metadata": {},
   "source": [
    "# for"
   ]
  },
  {
   "cell_type": "markdown",
   "metadata": {},
   "source": [
    "for循环可以遍历任何序列的项目，如一个列表或者一个字符串. for 用于针对集合中的每个元素都一个代码块，而[while](onenote:#while&section-id={02F21E22-A0D2-4DA1-9CCF-F7FE45B5AA0F}&page-id={EBC5B56A-7B53-894C-82AB-C45CA7C9F10C}&end&base-path=https://d.docs.live.net/1fcf2202bbc2a600/onenote/Linux/Python.one)不断地运行，直到指定的条件不满足为止。\n",
    "\n",
    "**break** 用于跳出当前循环(for / while ) , 任何对应的循环else块将不执行，即终止循环。\n",
    "\n",
    "**continue**  跳过当前循环中的剩余语句，然后执行下一轮循环\n",
    "\n",
    "**else**:  for 和while loop 均有一个可选的else分支，它是在**循环迭代正常完成后执行**。即循环体内没有break, return 或者其它异常 退出循环后会执行\n",
    "\n",
    "循环语句可以有else子句，它在for穷尽列表或while条件变为false导致循环终止时被执行，但循环被break终止时不执行。"
   ]
  },
  {
   "cell_type": "code",
   "execution_count": null,
   "metadata": {},
   "outputs": [],
   "source": [
    "# ＜sequence> 对应的是具有可迭代的（iterable）或者像列表那样的集合形态的对象\n",
    "for <variable> in <sequence>:\n",
    "    <statements>\n",
    "else:\n",
    "    <statements>"
   ]
  },
  {
   "cell_type": "code",
   "execution_count": null,
   "metadata": {},
   "outputs": [],
   "source": [
    "\n",
    "languages = [\"C\", \"C++\", \"Perl\", \"Python\"]\n",
    "for x in languages:\n",
    "    print(x)\n",
    "\n",
    "for i in range(5):\n",
    "    print(\"output of range(5):\",i)\n",
    "\n",
    "print (\"-------------------------------\")\n",
    "\n",
    "for i in range(5,9):\n",
    "    print(\"output of range(5,9):\",i)\n",
    "\n",
    "print (\"-------------------------------\")\n",
    "\n",
    "for i in range(0, 10, 3):\n",
    "    print(i)\n",
    "\n",
    "print (\"-------------------------------\")\n",
    "for i in range(-10, -100, -30):\n",
    "    print(i)\n",
    "print (\"-------------------------------\")\n",
    "\n",
    "\n",
    "\n",
    "a = ['Google', 'Baidu', 'Runoob', 'Taobao', 'QQ']\n",
    "for i in range(len(a)):                                    # 按索引遍历一个列表\n",
    "    print(i, a[i])\n",
    " \n",
    "\n",
    "list1 = list(range(5))                                      # 创建列表\n",
    "print(list1)\n"
   ]
  },
  {
   "cell_type": "markdown",
   "metadata": {},
   "source": [
    "# while"
   ]
  },
  {
   "cell_type": "markdown",
   "metadata": {},
   "source": [
    "Python中一般只有在循环永不停止时使用while, 其它循环都会用for , 尤其在循环的对象数量固定或者有限的情况下。\n",
    "使用while循环停止，\n",
    "一是循环过程中制造某种可以使循环停下来的条件\n",
    "二是改变使循环成立的条件"
   ]
  },
  {
   "cell_type": "code",
   "execution_count": null,
   "metadata": {},
   "outputs": [],
   "source": [
    "while <condition>:\n",
    "    <statements>\n",
    "else:\n",
    "    <additional_statements>         #可选子句, 表达式为 False 时,要执行语句"
   ]
  },
  {
   "cell_type": "code",
   "execution_count": null,
   "metadata": {},
   "outputs": [],
   "source": [
    "\n",
    "n = 100\n",
    "sum = 0\n",
    "counter = 1\n",
    "while counter <= n:                              # while 循环\n",
    "    sum += counter\n",
    "    print(\"从1到{}之和为:{}\".format(counter,sum))\n",
    "    counter += 1\n",
    "    \n",
    "'''\n",
    "var = 1\n",
    "while  var == 1:                            #表达式永远为True时，无限循环 CTRL+C退出\n",
    "    pass        \n",
    "'''\n",
    "\n",
    "\n",
    "count = 0\n",
    "while count < 5:                               #循环条件\n",
    "    print (count, \" 小于 5\")\n",
    "    count += 1\n",
    "else:\n",
    "    print (count, \"大于或等于 5\")\n",
    "\n",
    "\n",
    "    \n",
    "# 改变标志使用循环停止\n",
    "flag = 1\n",
    "while (flag):\n",
    "    print ('欢迎访问菜鸟教程!')           # while循环中只有一条语句，可以与while写在同一行\n",
    "    print (\"Good bye!\")\n",
    "\n",
    "\n"
   ]
  },
  {
   "cell_type": "markdown",
   "metadata": {},
   "source": [
    "##　"
   ]
  },
  {
   "cell_type": "markdown",
   "metadata": {},
   "source": [
    "# bool"
   ]
  },
  {
   "cell_type": "code",
   "execution_count": null,
   "metadata": {},
   "outputs": [],
   "source": [
    "# 以下值为 False ,其它都为True.\n",
    "bool(0)\n",
    "bool('')\n",
    "bool(False)\n",
    "bool([])\n",
    "bool(())  \n",
    "bool({}) \n",
    "bool(None)\n",
    "bool(set()) \n",
    "\n",
    "# 以下值为True \n",
    "bool(True == 1)\n",
    "bool(False == 0)\n",
    "bool(True > False)                    #  equal to bool(1 > 0)\n",
    "bool(True + False > False + False )   # equal to bool( 1 + 0 > 0 + 0) "
   ]
  },
  {
   "cell_type": "code",
   "execution_count": null,
   "metadata": {},
   "outputs": [],
   "source": []
  }
 ],
 "metadata": {
  "kernelspec": {
   "display_name": "Python 3",
   "language": "python",
   "name": "python3"
  },
  "language_info": {
   "codemirror_mode": {
    "name": "ipython",
    "version": 3
   },
   "file_extension": ".py",
   "mimetype": "text/x-python",
   "name": "python",
   "nbconvert_exporter": "python",
   "pygments_lexer": "ipython3",
   "version": "3.7.3"
  },
  "toc-autonumbering": false
 },
 "nbformat": 4,
 "nbformat_minor": 4
}
