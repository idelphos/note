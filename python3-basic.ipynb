{
 "cells": [
  {
   "cell_type": "markdown",
   "metadata": {},
   "source": [
    "# 1. list"
   ]
  },
  {
   "cell_type": "markdown",
   "metadata": {},
   "source": [
    "## 1.1 list定义"
   ]
  },
  {
   "cell_type": "code",
   "execution_count": 10,
   "metadata": {},
   "outputs": [
    {
     "name": "stdout",
     "output_type": "stream",
     "text": [
      "1. []\n",
      "2. ['mem1', 'mem2', 'mem3']\n",
      "3. ['string', 1, 200, 19.5, False, ['mem1', 'mem2', 'mem3'], (3, 'tuple', 5), {'name': 'Ade', 'xin': 'yuan'}, {2, 'Yuan'}]\n",
      "4. ['mem1', 'mem2', 'mem3']\n",
      "5. string\n",
      "6. {2, 'Yuan'}\n",
      "7. [1, 200, 19.5, False, ['mem1', 'mem2', 'mem3'], (3, 'tuple', 5), {'name': 'Ade', 'xin': 'yuan'}]\n",
      "8. ['string', 1, 200]\n"
     ]
    }
   ],
   "source": [
    "# 其它类型元素定义\n",
    "tup1 = (3,'tuple', 5)\n",
    "dict1 = {'name':'Ade', 'xin':'yuan'}\n",
    "set1 = {2, 'Yuan'}\n",
    "\n",
    "\n",
    "li1 = []                                        #定义空列表 \n",
    "li2 = ['mem1', 'mem2','mem3']\n",
    "li3 = ['string', 1, 200, 19.5, False, li2, tup1, dict1, set1 ]      # list中元素可以是Python中的任何对象\n",
    "\n",
    "print('1.', li1)\n",
    "print('2.', li2)\n",
    "print('3.', li3)\n",
    "\n",
    "\n",
    "#索引访问列表\n",
    "print('4.', li3[5])\n",
    "print('5.', li3[0])            #0 起始编号\n",
    "print('6.', li3[-1])           #负数索引\n",
    "print('7.', li3[1:-1])         #截取元素, 左闭右开原则\n",
    "print('8.', li3[0:3])\n"
   ]
  },
  {
   "cell_type": "code",
   "execution_count": null,
   "metadata": {},
   "outputs": [],
   "source": []
  }
 ],
 "metadata": {
  "kernelspec": {
   "display_name": "Python 3",
   "language": "python",
   "name": "python3"
  },
  "language_info": {
   "codemirror_mode": {
    "name": "ipython",
    "version": 3
   },
   "file_extension": ".py",
   "mimetype": "text/x-python",
   "name": "python",
   "nbconvert_exporter": "python",
   "pygments_lexer": "ipython3",
   "version": "3.7.3"
  },
  "toc-autonumbering": false
 },
 "nbformat": 4,
 "nbformat_minor": 4
}
