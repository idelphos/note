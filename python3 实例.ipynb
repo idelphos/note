{
 "cells": [
  {
   "cell_type": "markdown",
   "metadata": {},
   "source": [
    "# 1.Hello world"
   ]
  },
  {
   "cell_type": "code",
   "execution_count": null,
   "metadata": {},
   "outputs": [],
   "source": [
    "print('hello world.')"
   ]
  },
  {
   "cell_type": "markdown",
   "metadata": {},
   "source": [
    "# 2. 数字求和"
   ]
  },
  {
   "cell_type": "code",
   "execution_count": null,
   "metadata": {},
   "outputs": [],
   "source": [
    "def collect_data():\n",
    "    '''\n",
    "    获取用户多次输入的数字,返回用户所有输入的数字的列表\n",
    "    '''\n",
    "    input_list = []\n",
    "    \n",
    "    while True:\n",
    "        input_num = input(r'input the number(Q or q to quit): ')\n",
    "        if input_num.lower() == 'q':\n",
    "            break\n",
    "        elif input_num.isdigit():\n",
    "            input_list.append(float(input_num))\n",
    "        else:\n",
    "            print('your input is inlegal')\n",
    "            continue\n",
    "    \n",
    "    return input_list\n",
    "    \n",
    "    \n",
    "def sumt(inlist):\n",
    "    '''get the sum of all the numbers in the list.'''\n",
    "    \n",
    "    num = 0\n",
    "   \n",
    "    for i in inlist:\n",
    "        num += i\n",
    "    \n",
    "    return num\n",
    "\n",
    "\n",
    "if __name__ == '__main__':\n",
    "    collections = collect_data()\n",
    "    total = sumt(collections)\n",
    "    print('your numbers you input: {}'.format(collections))\n",
    "    print('The sum that you input is: {} '.format(total))\n",
    "        "
   ]
  },
  {
   "cell_type": "markdown",
   "metadata": {},
   "source": [
    "## 3. 求平方根"
   ]
  },
  {
   "cell_type": "code",
   "execution_count": null,
   "metadata": {},
   "outputs": [],
   "source": [
    "input_num = input(\"please input a number:\")\n",
    "if input_num.isdigit():\n",
    "    ex_num = float(input_num)\n",
    "    print('extraction of the number is: {:.3f}'.format(ex_num ** 0.5))\n",
    "else:\n",
    "    print('your input is illegal.')\n",
    "    sys.exit(1)\n",
    "\n",
    "\n",
    "#refer to \n",
    "#dir(str)   \n",
    "#help(str.isdecimal)\n",
    "\n",
    "    "
   ]
  },
  {
   "cell_type": "markdown",
   "metadata": {},
   "source": [
    "## 4. 求二次方根"
   ]
  },
  {
   "cell_type": "code",
   "execution_count": null,
   "metadata": {},
   "outputs": [],
   "source": [
    "\n",
    "'''\n",
    "# 二次方程式 ax**2 + bx + c = 0\n",
    "# a、b、c 用户提供，为实数，a ≠ 0\n",
    "若 b**2-4a*c < 0 无用\n",
    "解1 (-b+cmath.sqrt(b**2-4*a*c))/2*a\n",
    "解2 (-b-cmath.sqrt(b**2-4*a*c))/2*a\n",
    "'''\n",
    "\n",
    "import cmath\n",
    "import sys\n",
    "\n",
    "def get_num():\n",
    "    while True:\n",
    "        num = input(\"input the number: \")\n",
    "        if num.isdigit():\n",
    "            return float(num)\n",
    "        else:\n",
    "            print('your input is illegal, input again.')\n",
    "\n",
    "a = get_num()\n",
    "b = get_num()\n",
    "c = get_num()\n",
    "\n",
    "equation = r'{}X**2 + {}X + {} = 0'.format(a,b,c)\n",
    "\n",
    "if (b**2 - 4*a*c) < 0:\n",
    "    print('no solution for the equation :{}'.format(equation))\n",
    "    sys.exit(1)\n",
    "\n",
    "sol1 = (-b+(b**2-4*a*c) ** 0.5)/2*a\n",
    "sol2 = (-b-(b**2-4*a*c) ** 0.5)/2*a\n",
    "\n",
    "print('The solution of {} is :'.format(equation))\n",
    "print('sol1 = {:.2f}, sol2 = {:.2f}'.format(sol1,sol2))\n",
    "\n"
   ]
  },
  {
   "cell_type": "markdown",
   "metadata": {},
   "source": [
    "## 5.已知三边长,求三角形面积"
   ]
  },
  {
   "cell_type": "code",
   "execution_count": null,
   "metadata": {},
   "outputs": [],
   "source": [
    "'''\n",
    "半周长 p = (a + b + c)/2\n",
    "面积 area = cmath.sqrt(p * (p - a) * (p - b) * (p - c))\n",
    "'''\n",
    "import cmath\n",
    "\n",
    "def get_num():\n",
    "    while True:\n",
    "        num = input(\"input the number: \")\n",
    "        if num.isdigit():\n",
    "            return float(num)\n",
    "        else:\n",
    "            print('your input is illegal, input again.')\n",
    "\n",
    "a = get_num()\n",
    "b = get_num()\n",
    "c = get_num()\n",
    "\n",
    "#计算半周长                 \n",
    "p = (a + b + c)/2\n",
    "\n",
    "area = (p * (p - a) * (p - b) * (p - c)) ** 0.5\n",
    "\n",
    "print('the three sides of the triangle is: {a},{b},{c}, the area is {area:.2f}'.format(a=a,b=b,c=c,area=area))\n",
    "                    \n",
    "                    "
   ]
  },
  {
   "cell_type": "markdown",
   "metadata": {},
   "source": [
    "## 6. 计算圆面积\n",
    "\n",
    "S = PI * r * r"
   ]
  },
  {
   "cell_type": "code",
   "execution_count": null,
   "metadata": {},
   "outputs": [],
   "source": [
    "\n",
    "from math import pi\n",
    "PI = round(pi,3)\n",
    "\n",
    "def get_num(tips):\n",
    "    while True:\n",
    "        num = input(tips)\n",
    "        if num.replace('.','').isdigit() and num.count('.') <= 1:\n",
    "            return float(num)\n",
    "        else:\n",
    "            print('your input is illegal, input again.')\n",
    "            \n",
    "r = get_num(\"please input the R of the circle:\")\n",
    "\n",
    "print('R = {}, the area of the circle is {:.3f}'.format(r,PI * r * r))\n"
   ]
  },
  {
   "cell_type": "markdown",
   "metadata": {},
   "source": [
    "## 7. 生成随机数"
   ]
  },
  {
   "cell_type": "code",
   "execution_count": null,
   "metadata": {},
   "outputs": [],
   "source": [
    "import random\n",
    "\n",
    "#help(random)\n",
    "\n",
    "print(\"seq: random-num\")\n",
    "for i in range(100):\n",
    "    print(\"{}:     {}\".format(i,random.randint(1,100)))\n",
    "    \n"
   ]
  },
  {
   "cell_type": "markdown",
   "metadata": {},
   "source": [
    "## 8. 交换变量"
   ]
  },
  {
   "cell_type": "code",
   "execution_count": null,
   "metadata": {},
   "outputs": [],
   "source": [
    "def get_num(tips):\n",
    "    while True:\n",
    "        num = input(tips)\n",
    "        if num.replace('.','').isdigit() and num.count('.') <= 1:\n",
    "            return float(num)\n",
    "        else:\n",
    "            print('your input is illegal, input again.')\n",
    "            \n",
    "            \n",
    "\n",
    "x = get_num(\"x = \")\n",
    "y = get_num(\"y = \")\n",
    "print(\"x = {}, y = {}\".format(x,y))\n",
    "      \n",
    "x, y = y, x\n",
    "print(\"x = {}, y = {}\".format(x,y))"
   ]
  },
  {
   "cell_type": "markdown",
   "metadata": {},
   "source": [
    "## 9. 判断奇偶数\n",
    "\n",
    "isinstance(jud_num,int)  \n",
    "type(object)"
   ]
  },
  {
   "cell_type": "code",
   "execution_count": null,
   "metadata": {},
   "outputs": [],
   "source": [
    "def get_num(tips):\n",
    "    '''got a int or float from input'''\n",
    "    while True:\n",
    "        num = input(tips)\n",
    "        if num.replace('.','').isdigit():\n",
    "            if num.count('.') == 0:\n",
    "                return int(num)\n",
    "            elif num.count('.') == 1:\n",
    "                return float(num)\n",
    "            else:\n",
    "                print('your input is illegal, input again.')\n",
    "                continue\n",
    "        else:\n",
    "            print('your input is illegal, input again.')\n",
    "\n",
    "jud_num = get_num(\"please input a number \")\n",
    "\n",
    "if isinstance(jud_num,int):\n",
    "    if jud_num % 2 == 0:\n",
    "        print('{} is a even number.'.format(jud_num))\n",
    "    else:\n",
    "        print('{} is a odd number.'.format(jud_num))\n",
    "else:\n",
    "    print('{} is a float number,please input a int number'.format(jud_num))\n",
    "\n"
   ]
  },
  {
   "cell_type": "markdown",
   "metadata": {},
   "source": [
    "## 10. 判断闰年"
   ]
  },
  {
   "cell_type": "code",
   "execution_count": null,
   "metadata": {},
   "outputs": [],
   "source": [
    "def get_year():\n",
    "    \"got a year\"\n",
    "    while True:\n",
    "        year_num = input(\"input the year: \")\n",
    "        if year_num.replace('.','').isdigit() and year_num.count('.') == 0 and int(year_num) >= 0:\n",
    "            return int(year_num)\n",
    "        else:\n",
    "            print('your input is illegal, please input a valid year.')\n",
    "\n",
    "year = get_year()\n",
    "\n",
    "if year % 4 == 0:\n",
    "    if year % 100 == 0:\n",
    "        if year % 400 == 0:\n",
    "            print('{} is  a leap year.'.format(year))\n",
    "        else:\n",
    "            print('{} is not a leap year.'.format(year))\n",
    "    else:\n",
    "        print('{} is a leap year.'.format(year))\n",
    "    \n",
    "else:\n",
    "    print('{} is not a leap year.'.format(year))\n",
    "\n"
   ]
  },
  {
   "cell_type": "markdown",
   "metadata": {},
   "source": [
    "## 11.九九乘法表"
   ]
  },
  {
   "cell_type": "code",
   "execution_count": null,
   "metadata": {},
   "outputs": [],
   "source": [
    "for i in range(1,10):\n",
    "    for j in range(1, i+1):\n",
    "        print('{}x{} = {}'.format(j,i, i * j)+ ' ' , end = '')\n",
    "    print()\n",
    "       \n"
   ]
  },
  {
   "cell_type": "markdown",
   "metadata": {},
   "source": [
    "## 12.Fibonacci 数列\n",
    "第0项是0，第1项是第一个1。从第三项开始，每一项都等于前两项之和"
   ]
  },
  {
   "cell_type": "code",
   "execution_count": null,
   "metadata": {},
   "outputs": [],
   "source": [
    "def get_num(tips):\n",
    "    '''got a int or float from input'''\n",
    "    while True:\n",
    "        num = input(tips)\n",
    "        if num.replace('.','').isdigit():\n",
    "            if num.count('.') == 0:\n",
    "                return int(num)\n",
    "            elif num.count('.') == 1:\n",
    "                return float(num)\n",
    "            else:\n",
    "                print('your input is illegal, input again.')\n",
    "                continue\n",
    "        else:\n",
    "            print('your input is illegal, input again.')\n",
    "\n",
    "fab_num = int(get_num(\"input the numeric items of Fabonacci： \"))\n",
    "\n",
    "num1 = 0\n",
    "num2 = 1\n",
    "count = 2\n",
    "\n",
    "if fab_num <= 0:\n",
    "    print(\"the number less then 0, please input a positive int number: \")\n",
    "    fab_num = int(get_num(\"input the numeric items of Fabonacci： \"))\n",
    "elif fab_num == 1:\n",
    "    print(num1)\n",
    "else:\n",
    "    print(num1, ',', num2, ',',end = '')\n",
    "    while count < fab_num:\n",
    "        nth = num1 + num2\n",
    "        num1 = num2\n",
    "        num2 = nth\n",
    "        count += 1\n",
    "        print(nth,',',end = '')\n",
    "     \n",
    "            \n",
    "    \n"
   ]
  },
  {
   "cell_type": "markdown",
   "metadata": {},
   "source": [
    "## 13. 阿姆斯特朗数"
   ]
  },
  {
   "cell_type": "markdown",
   "metadata": {},
   "source": [
    "## 14. 最大公约数"
   ]
  },
  {
   "cell_type": "markdown",
   "metadata": {},
   "source": [
    "## 15. 最小公倍数"
   ]
  },
  {
   "cell_type": "markdown",
   "metadata": {},
   "source": [
    "## 16. 简单计算器"
   ]
  },
  {
   "cell_type": "markdown",
   "metadata": {},
   "source": [
    "## 17. 生成日历"
   ]
  },
  {
   "cell_type": "markdown",
   "metadata": {},
   "source": [
    "## 18. 递归实现斐波那契数列\n",
    "fab(0) = 0   \n",
    "fab(1) = 1   \n",
    "\n",
    "if n >= 2:    \n",
    "    fab(n) = fab(n-1) + fab(n-2)\n"
   ]
  },
  {
   "cell_type": "code",
   "execution_count": null,
   "metadata": {},
   "outputs": [],
   "source": [
    "def fab(n):\n",
    "    if n <= 1:\n",
    "        return n\n",
    "    else:\n",
    "        return fab(n-1) + fab(n-2)\n",
    "\n",
    "fab_num = int(input(\"fabonacci 数列元素个数: \"))\n",
    "\n",
    "for i in range(fab_num):\n",
    "    print(fab(i),',',end = '')\n",
    "\n",
    "\n",
    "        "
   ]
  },
  {
   "cell_type": "markdown",
   "metadata": {},
   "source": []
  },
  {
   "cell_type": "code",
   "execution_count": null,
   "metadata": {},
   "outputs": [],
   "source": []
  },
  {
   "cell_type": "markdown",
   "metadata": {},
   "source": [
    "## 列表\n",
    "Python 计算 n 个自然数的立方和  \n",
    "Python 计算数组元素之和  \n",
    "Python 数组翻转指定个数的元素  \n",
    "Python 将列表中的头尾两个元素对调  \n",
    "Python 将列表中的指定位置的两个元素对调  \n",
    "Python 翻转列表  \n",
    "Python 判断元素是否在列表中存在  \n",
    "Python 清空列表  \n",
    "Python 复制列表  \n",
    "Python 计算元素在列表中出现的次数  \n",
    "Python 计算列表元素之和  \n",
    "Python 计算列表元素之积  \n",
    "Python 查找列表中最小元素  \n",
    "Python 查找列表中最大元素  "
   ]
  },
  {
   "cell_type": "code",
   "execution_count": null,
   "metadata": {},
   "outputs": [],
   "source": []
  }
 ],
 "metadata": {
  "kernelspec": {
   "display_name": "Python 3",
   "language": "python",
   "name": "python3"
  },
  "language_info": {
   "codemirror_mode": {
    "name": "ipython",
    "version": 3
   },
   "file_extension": ".py",
   "mimetype": "text/x-python",
   "name": "python",
   "nbconvert_exporter": "python",
   "pygments_lexer": "ipython3",
   "version": "3.7.3"
  }
 },
 "nbformat": 4,
 "nbformat_minor": 4
}
