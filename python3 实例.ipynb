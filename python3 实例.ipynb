{
 "cells": [
  {
   "cell_type": "markdown",
   "metadata": {},
   "source": [
    "# 1.Hello world"
   ]
  },
  {
   "cell_type": "code",
   "execution_count": null,
   "metadata": {},
   "outputs": [],
   "source": [
    "print('hello world.')"
   ]
  },
  {
   "cell_type": "markdown",
   "metadata": {},
   "source": [
    "# 2. 数字求和"
   ]
  },
  {
   "cell_type": "code",
   "execution_count": null,
   "metadata": {},
   "outputs": [],
   "source": [
    "def collect_data():\n",
    "    '''\n",
    "    获取用户多次输入的数字,返回用户所有输入的数字的列表\n",
    "    '''\n",
    "    input_list = []\n",
    "    \n",
    "    while True:\n",
    "        input_num = input(r'input the number(Q or q to quit): ')\n",
    "        if input_num.lower() == 'q':\n",
    "            break\n",
    "        elif input_num.isdigit():\n",
    "            input_list.append(float(input_num))\n",
    "        else:\n",
    "            print('your input is inlegal')\n",
    "            continue\n",
    "    \n",
    "    return input_list\n",
    "    \n",
    "    \n",
    "def sumt(inlist):\n",
    "    '''get the sum of all the numbers in the list.'''\n",
    "    \n",
    "    num = 0\n",
    "   \n",
    "    for i in inlist:\n",
    "        num += i\n",
    "    \n",
    "    return num\n",
    "\n",
    "\n",
    "if __name__ == '__main__':\n",
    "    collections = collect_data()\n",
    "    total = sumt(collections)\n",
    "    print('your numbers you input: {}'.format(collections))\n",
    "    print('The sum that you input is: {} '.format(total))\n",
    "        "
   ]
  },
  {
   "cell_type": "markdown",
   "metadata": {},
   "source": [
    "## 3. 求平方根"
   ]
  },
  {
   "cell_type": "code",
   "execution_count": null,
   "metadata": {},
   "outputs": [],
   "source": [
    "input_num = input(\"please input a number:\")\n",
    "if input_num.isdigit():\n",
    "    ex_num = float(input_num)\n",
    "    print('extraction of the number is: {:.3f}'.format(ex_num ** 0.5))\n",
    "else:\n",
    "    print('your input is illegal.')\n",
    "    sys.exit(1)\n",
    "\n",
    "\n",
    "#refer to \n",
    "#dir(str)   \n",
    "#help(str.isdecimal)\n",
    "\n",
    "    "
   ]
  },
  {
   "cell_type": "markdown",
   "metadata": {},
   "source": [
    "## 4. 求二次方根"
   ]
  },
  {
   "cell_type": "code",
   "execution_count": null,
   "metadata": {},
   "outputs": [],
   "source": [
    "\n",
    "'''\n",
    "# 二次方程式 ax**2 + bx + c = 0\n",
    "# a、b、c 用户提供，为实数，a ≠ 0\n",
    "若 b**2-4a*c < 0 无用\n",
    "解1 (-b+cmath.sqrt(b**2-4*a*c))/2*a\n",
    "解2 (-b-cmath.sqrt(b**2-4*a*c))/2*a\n",
    "'''\n",
    "\n",
    "import cmath\n",
    "import sys\n",
    "\n",
    "def get_num():\n",
    "    while True:\n",
    "        num = input(\"input the number: \")\n",
    "        if num.isdigit():\n",
    "            return float(num)\n",
    "        else:\n",
    "            print('your input is illegal, input again.')\n",
    "\n",
    "a = get_num()\n",
    "b = get_num()\n",
    "c = get_num()\n",
    "\n",
    "equation = r'{}X**2 + {}X + {} = 0'.format(a,b,c)\n",
    "\n",
    "if (b**2 - 4*a*c) < 0:\n",
    "    print('no solution for the equation :{}'.format(equation))\n",
    "    sys.exit(1)\n",
    "\n",
    "sol1 = (-b+(b**2-4*a*c) ** 0.5)/2*a\n",
    "sol2 = (-b-(b**2-4*a*c) ** 0.5)/2*a\n",
    "\n",
    "print('The solution of {} is :'.format(equation))\n",
    "print('sol1 = {:.2f}, sol2 = {:.2f}'.format(sol1,sol2))\n",
    "\n"
   ]
  },
  {
   "cell_type": "markdown",
   "metadata": {},
   "source": [
    "## 5.已知三边长,求三角形面积"
   ]
  },
  {
   "cell_type": "code",
   "execution_count": null,
   "metadata": {},
   "outputs": [],
   "source": [
    "'''\n",
    "半周长 p = (a + b + c)/2\n",
    "面积 area = cmath.sqrt(p * (p - a) * (p - b) * (p - c))\n",
    "'''\n",
    "import cmath\n",
    "\n",
    "def get_num():\n",
    "    while True:\n",
    "        num = input(\"input the number: \")\n",
    "        if num.isdigit():\n",
    "            return float(num)\n",
    "        else:\n",
    "            print('your input is illegal, input again.')\n",
    "\n",
    "a = get_num()\n",
    "b = get_num()\n",
    "c = get_num()\n",
    "\n",
    "#计算半周长                 \n",
    "p = (a + b + c)/2\n",
    "\n",
    "area = (p * (p - a) * (p - b) * (p - c)) ** 0.5\n",
    "\n",
    "print('the three sides of the triangle is: {a},{b},{c}, the area is {area:.2f}'.format(a=a,b=b,c=c,area=area))\n",
    "                    \n",
    "                    "
   ]
  },
  {
   "cell_type": "markdown",
   "metadata": {},
   "source": [
    "## 6. 计算圆面积\n",
    "\n",
    "S = PI * r * r"
   ]
  },
  {
   "cell_type": "code",
   "execution_count": null,
   "metadata": {},
   "outputs": [],
   "source": [
    "\n",
    "from math import pi\n",
    "PI = round(pi,3)\n",
    "\n",
    "def get_num(tips):\n",
    "    while True:\n",
    "        num = input(tips)\n",
    "        if num.replace('.','').isdigit() and num.count('.') <= 1:\n",
    "            return float(num)\n",
    "        else:\n",
    "            print('your input is illegal, input again.')\n",
    "            \n",
    "r = get_num(\"please input the R of the circle:\")\n",
    "\n",
    "print('R = {}, the area of the circle is {:.3f}'.format(r,PI * r * r))\n"
   ]
  },
  {
   "cell_type": "markdown",
   "metadata": {},
   "source": [
    "## 7. 生成随机数"
   ]
  },
  {
   "cell_type": "code",
   "execution_count": null,
   "metadata": {},
   "outputs": [],
   "source": [
    "import random\n",
    "\n",
    "#help(random)\n",
    "\n",
    "print(\"seq: random-num\")\n",
    "for i in range(100):\n",
    "    print(\"{}:     {}\".format(i,random.randint(1,100)))\n",
    "    \n"
   ]
  },
  {
   "cell_type": "markdown",
   "metadata": {},
   "source": [
    "## 8. 交换变量"
   ]
  },
  {
   "cell_type": "code",
   "execution_count": null,
   "metadata": {},
   "outputs": [],
   "source": [
    "def get_num(tips):\n",
    "    while True:\n",
    "        num = input(tips)\n",
    "        if num.replace('.','').isdigit() and num.count('.') <= 1:\n",
    "            return float(num)\n",
    "        else:\n",
    "            print('your input is illegal, input again.')\n",
    "            \n",
    "            \n",
    "\n",
    "x = get_num(\"x = \")\n",
    "y = get_num(\"y = \")\n",
    "print(\"x = {}, y = {}\".format(x,y))\n",
    "      \n",
    "x, y = y, x\n",
    "print(\"x = {}, y = {}\".format(x,y))"
   ]
  },
  {
   "cell_type": "markdown",
   "metadata": {},
   "source": [
    "## 9. 判断奇偶数\n",
    "\n",
    "isinstance(jud_num,int)  \n",
    "type(object)"
   ]
  },
  {
   "cell_type": "code",
   "execution_count": null,
   "metadata": {},
   "outputs": [],
   "source": [
    "def get_num(tips):\n",
    "    '''got a int or float from input'''\n",
    "    while True:\n",
    "        num = input(tips)\n",
    "        if num.replace('.','').isdigit():\n",
    "            if num.count('.') == 0:\n",
    "                return int(num)\n",
    "            elif num.count('.') == 1:\n",
    "                return float(num)\n",
    "            else:\n",
    "                print('your input is illegal, input again.')\n",
    "                continue\n",
    "        else:\n",
    "            print('your input is illegal, input again.')\n",
    "\n",
    "jud_num = get_num(\"please input a number \")\n",
    "\n",
    "if isinstance(jud_num,int):\n",
    "    if jud_num % 2 == 0:\n",
    "        print('{} is a even number.'.format(jud_num))\n",
    "    else:\n",
    "        print('{} is a odd number.'.format(jud_num))\n",
    "else:\n",
    "    print('{} is a float number,please input a int number'.format(jud_num))\n",
    "\n"
   ]
  },
  {
   "cell_type": "markdown",
   "metadata": {},
   "source": [
    "## 10. 判断闰年"
   ]
  },
  {
   "cell_type": "code",
   "execution_count": null,
   "metadata": {},
   "outputs": [],
   "source": [
    "def get_year():\n",
    "    \"got a year\"\n",
    "    while True:\n",
    "        year_num = input(\"input the year: \")\n",
    "        if year_num.replace('.','').isdigit() and year_num.count('.') == 0 and int(year_num) >= 0:\n",
    "            return int(year_num)\n",
    "        else:\n",
    "            print('your input is illegal, please input a valid year.')\n",
    "\n",
    "year = get_year()\n",
    "\n",
    "if year % 4 == 0:\n",
    "    if year % 100 == 0:\n",
    "        if year % 400 == 0:\n",
    "            print('{} is  a leap year.'.format(year))\n",
    "        else:\n",
    "            print('{} is not a leap year.'.format(year))\n",
    "    else:\n",
    "        print('{} is a leap year.'.format(year))\n",
    "    \n",
    "else:\n",
    "    print('{} is not a leap year.'.format(year))\n",
    "\n"
   ]
  },
  {
   "cell_type": "markdown",
   "metadata": {},
   "source": [
    "## 11.九九乘法表"
   ]
  },
  {
   "cell_type": "code",
   "execution_count": null,
   "metadata": {},
   "outputs": [],
   "source": [
    "for i in range(1,10):\n",
    "    for j in range(1, i+1):\n",
    "        print('{}x{} = {}'.format(j,i, i * j)+ ' ' , end = '')\n",
    "    print()\n",
    "       \n"
   ]
  },
  {
   "cell_type": "markdown",
   "metadata": {},
   "source": [
    "## 12.Fibonacci 数列\n",
    "第0项是0，第1项是第一个1。从第三项开始，每一项都等于前两项之和"
   ]
  },
  {
   "cell_type": "code",
   "execution_count": null,
   "metadata": {},
   "outputs": [],
   "source": [
    "def get_num(tips):\n",
    "    '''got a int or float from input'''\n",
    "    while True:\n",
    "        num = input(tips)\n",
    "        if num.replace('.','').isdigit():\n",
    "            if num.count('.') == 0:\n",
    "                return int(num)\n",
    "            elif num.count('.') == 1:\n",
    "                return float(num)\n",
    "            else:\n",
    "                print('your input is illegal.')\n",
    "                continue\n",
    "        else:\n",
    "            print('your input is illegal.')\n",
    "\n",
    "fab_num = int(get_num(\"input the numeric items of Fabonacci： \"))\n",
    "\n",
    "num1 = 0\n",
    "num2 = 1\n",
    "count = 2\n",
    "\n",
    "if fab_num <= 0:\n",
    "    print(\"the number less then 0, please input a positive int number: \")\n",
    "    fab_num = int(get_num(\"input the numeric items of Fabonacci： \"))\n",
    "elif fab_num == 1:\n",
    "    print(num1)\n",
    "else:\n",
    "    print(num1, ',', num2, ',',end = '')\n",
    "    while count < fab_num:\n",
    "        nth = num1 + num2\n",
    "        num1 = num2\n",
    "        num2 = nth\n",
    "        count += 1\n",
    "        print(nth,',',end = '')\n",
    "     \n",
    "            \n",
    "    \n"
   ]
  },
  {
   "cell_type": "markdown",
   "metadata": {},
   "source": [
    "## 13. 阿姆斯特朗数"
   ]
  },
  {
   "cell_type": "code",
   "execution_count": null,
   "metadata": {},
   "outputs": [],
   "source": [
    "\n",
    "def get_int(tips):\n",
    "    '''got an int number'''\n",
    "    while True:\n",
    "        user_type = input(tips)\n",
    "        if user_type.replace(',','').isdigit() and user_type.count('.') == 0:\n",
    "            return int(user_type)\n",
    "        else:\n",
    "            print(\"your input is illegal.\")\n",
    "    \n",
    "num = get_int()\n",
    "\n",
    "#位数\n",
    "n = len(str(num))\n",
    "\n",
    "# 求和\n",
    "sum = 0 \n",
    "\n",
    "temp = num\n",
    "while temp > 0:\n",
    "    digit = temp % 10\n",
    "    sum += digit ** n\n",
    "    temp //= 10\n",
    "\n",
    "if num == sum:\n",
    "    print('your input is {}, 是阿姆斯特朗数'.format(num))\n",
    "else:\n",
    "    print('your input is {}, 不是阿姆斯特朗数'.format(num))\n"
   ]
  },
  {
   "cell_type": "markdown",
   "metadata": {},
   "source": [
    "## 14. 文件IO"
   ]
  },
  {
   "cell_type": "code",
   "execution_count": null,
   "metadata": {},
   "outputs": [],
   "source": [
    "# write a file\n",
    "with open('/tmp/test.txt','w') as out_file:\n",
    "    out_file.write('current line was writed into file test.txt. \\nsecond line.')\n",
    "    \n",
    "# read a file\n",
    "with open('/tmp/test.txt','r') as read_file:\n",
    "    text = read_file.read()\n",
    "\n",
    "print(text)\n",
    "\n",
    "# refer to \n",
    "help(open)"
   ]
  },
  {
   "cell_type": "markdown",
   "metadata": {},
   "source": [
    "## 15. 最小公倍数"
   ]
  },
  {
   "cell_type": "markdown",
   "metadata": {},
   "source": [
    "## 16. 简单计算器"
   ]
  },
  {
   "cell_type": "code",
   "execution_count": null,
   "metadata": {},
   "outputs": [],
   "source": [
    "def get_num(tips):\n",
    "    '''got a int or float from input'''\n",
    "    while True:\n",
    "        num = input(tips)\n",
    "        if num.replace('.','').isdigit():\n",
    "            if num.count('.') == 0:\n",
    "                return int(num)\n",
    "            elif num.count('.') == 1:\n",
    "                return float(num)\n",
    "            else:\n",
    "                print('your input is illegal.')\n",
    "                continue\n",
    "        else:\n",
    "            print('your input is illegal.')\n",
    "\n",
    "def add(x, y):\n",
    "    return x + y\n",
    "\n",
    "def substract(x, y):\n",
    "    return x - y\n",
    "\n",
    "def multiple(x, y):\n",
    "    return x * y\n",
    "\n",
    "def divide(x, y):\n",
    "    return x/y\n",
    "\n",
    "x = get_num('输入第一个数:')\n",
    "y = get_num('输入第二个数:')\n",
    "\n",
    "\n",
    "print('选择计算方法:')\n",
    "print('1. 相加')\n",
    "print('2. 相减')\n",
    "print('3. 相乘')\n",
    "print('4. 相除')\n",
    "\n",
    "choice = input()\n",
    "\n",
    "if choice == '1':\n",
    "    print('{} + {} = {}'.format(x,y,add(x,y)))\n",
    "elif choice == '2':\n",
    "    print('{} - {} = {}'.format(x,y, substract(x,y)))\n",
    "elif choice == '3':\n",
    "    print('{} X {} = {}'.format(x,y, multiple(x,y)))\n",
    "elif choice == '4':\n",
    "    print('{} / {} = {}'.format(x,y, divide(x,y)))\n",
    "else:\n",
    "    print(\"please type 1,2,3,4 to choose the way to compute.\")\n"
   ]
  },
  {
   "cell_type": "markdown",
   "metadata": {},
   "source": [
    "# 17. 生成日历 计算每月天数"
   ]
  },
  {
   "cell_type": "code",
   "execution_count": null,
   "metadata": {},
   "outputs": [],
   "source": [
    "import calendar\n",
    "\n",
    "def get_int(tips):\n",
    "    '''got an int number'''\n",
    "    while True:\n",
    "        user_type = input(tips)\n",
    "        if user_type.replace(',','').isdigit() and user_type.count('.') == 0:\n",
    "            return int(user_type)\n",
    "        else:\n",
    "            print(\"your input is illegal.\")\n",
    "\n",
    "yy = get_int(\"输入年号:\")\n",
    "mm = get_int(\"输入月份:\")\n",
    "\n",
    "print(calendar.month(yy, mm))\n",
    "\n",
    "monthRange = calendar.monthrange(2020,3)\n",
    "\n",
    "print(monthRange)    # output (6,31) 当月首日为星期天, 这个月31天. 元组第一个值取值0-6\n"
   ]
  },
  {
   "cell_type": "markdown",
   "metadata": {},
   "source": [
    "# 18.获取昨天日期"
   ]
  },
  {
   "cell_type": "code",
   "execution_count": null,
   "metadata": {},
   "outputs": [],
   "source": [
    "import datetime\n",
    "\n",
    "def getYesterday():\n",
    "    today = datetime.date.today()\n",
    "    oneday = datetime.timedelta(days=1)\n",
    "    yesterday = today - oneday\n",
    "    return yesterday\n",
    "\n",
    "print(getYesterday())"
   ]
  },
  {
   "cell_type": "markdown",
   "metadata": {},
   "source": [
    "# 19. 递归实现斐波那契数列"
   ]
  },
  {
   "cell_type": "markdown",
   "metadata": {},
   "source": [
    "fab(0) = 0   \n",
    "fab(1) = 1   \n",
    "\n",
    "if n >= 2:    \n",
    "    fab(n) = fab(n-1) + fab(n-2)"
   ]
  },
  {
   "cell_type": "code",
   "execution_count": null,
   "metadata": {},
   "outputs": [],
   "source": [
    "def fab(n):\n",
    "    if n <= 1:\n",
    "        return n\n",
    "    else:\n",
    "        return fab(n-1) + fab(n-2)\n",
    "\n",
    "fab_num = int(input(\"fabonacci 数列元素个数: \"))\n",
    "\n",
    "for i in range(fab_num):\n",
    "    print(fab(i),',',end = '')\n",
    "    "
   ]
  },
  {
   "cell_type": "code",
   "execution_count": null,
   "metadata": {},
   "outputs": [],
   "source": [
    "#求前20项的斐波那契数\n",
    "a = 0\n",
    "b = 1\n",
    "\n",
    "# _ 是一个循环标记, 下面的循环中不会用到.\n",
    "for _ in range(20):\n",
    "    (a, b) = (b, a + b)\n",
    "    print(a, end=' ')"
   ]
  },
  {
   "cell_type": "code",
   "execution_count": null,
   "metadata": {},
   "outputs": [],
   "source": [
    "help(list)"
   ]
  },
  {
   "cell_type": "markdown",
   "metadata": {},
   "source": [
    "## 列表\n",
    "Python 计算 n 个自然数的立方和  \n",
    "Python 计算数组元素之和  \n",
    "Python 数组翻转指定个数的元素  \n",
    "Python 将列表中的头尾两个元素对调  \n",
    "Python 将列表中的指定位置的两个元素对调  \n",
    "Python 翻转列表  \n",
    "Python 判断元素是否在列表中存在  \n",
    "Python 清空列表  \n",
    "Python 复制列表  \n",
    "Python 计算元素在列表中出现的次数  \n",
    "Python 计算列表元素之和  \n",
    "Python 计算列表元素之积  \n",
    "Python 查找列表中最小元素  \n",
    "Python 查找列表中最大元素  "
   ]
  },
  {
   "cell_type": "markdown",
   "metadata": {},
   "source": [
    "# 20.五人分鱼\n",
    "A、B、C、D、E 五人在某天夜里合伙去捕鱼，到第二天凌晨时都疲惫不堪，于是各自找地方睡觉。\n",
    "日上三杆，A 第一个醒来，他将鱼分为五份，把多余的一条鱼扔掉，拿走自己的一份。\n",
    "B 第二个醒来，也将鱼分为五份，把多余的一条鱼扔掉拿走自己的一份。 。\n",
    "C、D、E依次醒来，也按同样的方法拿鱼\n",
    "问他们台伙至少捕了多少条鱼?"
   ]
  },
  {
   "cell_type": "code",
   "execution_count": null,
   "metadata": {},
   "outputs": [],
   "source": [
    "def main():\n",
    "    fish = 1\n",
    "    \n",
    "    while True: \n",
    "        total = fish\n",
    "        enough = True\n",
    "    \n",
    "        for _ in range(5):\n",
    "            if (total - 1) % 5 == 0:\n",
    "                total = (total - 1) // 5 * 4\n",
    "            else:\n",
    "                enough = False\n",
    "                break\n",
    "        if enough:\n",
    "            print(f'总共有{fish}条鱼.')\n",
    "            break\n",
    "            \n",
    "        fish += 1\n",
    "        \n",
    "\n",
    "if __name__ == '__main__':\n",
    "    main()\n",
    "    \n",
    "        "
   ]
  },
  {
   "cell_type": "markdown",
   "metadata": {},
   "source": [
    "#  21. n个自然数的立方和"
   ]
  },
  {
   "cell_type": "code",
   "execution_count": null,
   "metadata": {},
   "outputs": [],
   "source": [
    "def main():\n",
    "    \n",
    "    total = 0\n",
    "    n = int(input(\"input a natural number:\"))\n",
    "    for n in range(1,n+1):\n",
    "        total += n ** 3\n",
    "    print(f'{n} 个自然数的立方和是:{total}')\n",
    "\n",
    "if __name__ == '__main__':\n",
    "    main()"
   ]
  },
  {
   "cell_type": "markdown",
   "metadata": {},
   "source": [
    "# 22. 将列表头尾两个元素对调"
   ]
  },
  {
   "cell_type": "code",
   "execution_count": null,
   "metadata": {},
   "outputs": [],
   "source": [
    "def swaplist(in_list):\n",
    "    size = len(in_list)\n",
    "    temp = in_list[0]\n",
    "    in_list[0] = in_list[size-1]\n",
    "    in_list[size -1] = temp\n",
    "    return in_list\n",
    "\n",
    "li1 = [2, 5, 8, 12]\n",
    "\n",
    "print(f'The original list is {li1}')\n",
    "print(f'The swapped list is {swaplist(li1)}')\n",
    "print(f'the original list is changed to {li1}')\n",
    "    "
   ]
  },
  {
   "cell_type": "markdown",
   "metadata": {},
   "source": [
    "# 23. 将列表指定的两个元素对调"
   ]
  },
  {
   "cell_type": "code",
   "execution_count": null,
   "metadata": {},
   "outputs": [],
   "source": [
    "def swaplist(in_list,p1,p2):\n",
    "    temp = in_list[p1 - 1]\n",
    "    in_list[p1 - 1] = in_list[p2 - 1]\n",
    "    in_list[p2 -1 ] = temp\n",
    "    return in_list\n",
    "\n",
    "li1 = [2, 4, 6, 9, 23, 21, 24, 25]\n",
    "print(swaplist(li1, 2,3))"
   ]
  },
  {
   "cell_type": "markdown",
   "metadata": {},
   "source": [
    "# 24. 判断元素是否在列表中"
   ]
  },
  {
   "cell_type": "code",
   "execution_count": null,
   "metadata": {},
   "outputs": [],
   "source": [
    "def mem_in_list(mem,in_list):\n",
    "    if (mem in in_list):\n",
    "        print(f'The value {mem} is  existent.')\n",
    "    else:\n",
    "        print(f'The value {mem} is not existent.')\n",
    "\n",
    "li1 = [2, 3, 4, 5, 6, 7]\n",
    "\n",
    "mem_in_list(9, li1)\n",
    "\n",
    "        "
   ]
  },
  {
   "cell_type": "markdown",
   "metadata": {},
   "source": [
    "# 25. 其它列表操作示例"
   ]
  },
  {
   "cell_type": "code",
   "execution_count": null,
   "metadata": {},
   "outputs": [],
   "source": [
    "def mix(in_list):\n",
    "    min = max = prod = in_list[0]\n",
    "\n",
    "    for i in in_list:\n",
    "        if i > max:\n",
    "            max = i\n",
    "        if i < min:\n",
    "            min = i\n",
    "        prod *= i\n",
    "\n",
    "    print(f'The minimum is {min} of list {in_list}')\n",
    "    print(f'The maximum is {max} of list {in_list}')\n",
    "    print(f'The product is {prod} of list {in_list}')\n",
    "\n",
    "li1 = [2, 3, 5, 8, 23, 54, 62,0]\n",
    "mix(li1)\n",
    "        "
   ]
  },
  {
   "cell_type": "markdown",
   "metadata": {},
   "source": [
    "# 26. 删除字符串中指定位置字符"
   ]
  },
  {
   "cell_type": "code",
   "execution_count": null,
   "metadata": {},
   "outputs": [],
   "source": [
    "def str_pdel(string,p):\n",
    "    return string[0:p-1] + string[p:]\n",
    "\n",
    "print(str_pdel(\"test_line\",10))\n",
    "    \n"
   ]
  },
  {
   "cell_type": "code",
   "execution_count": null,
   "metadata": {},
   "outputs": [],
   "source": [
    "help(str)"
   ]
  },
  {
   "cell_type": "markdown",
   "metadata": {},
   "source": [
    "# 27. 判断字符串中是否存在子字符串"
   ]
  },
  {
   "cell_type": "code",
   "execution_count": null,
   "metadata": {},
   "outputs": [],
   "source": [
    "test_string = \"it's a test sentence for sub-strings.\"\n",
    "\n",
    "def sub_string(in_string,sub):\n",
    "    if in_string.find(sub) != -1:\n",
    "        print(f'{sub} is existent in {in_string}')\n",
    "    else:\n",
    "        print(f'{sub} is not existent in {in_string}')\n",
    "        \n",
    "\n",
    "sub_string(test_string, 'sent')\n",
    "sub_string(test_string, 'hello')\n",
    "        \n",
    "    "
   ]
  },
  {
   "cell_type": "markdown",
   "metadata": {},
   "source": [
    "# 28. 将字符串作为代码执行"
   ]
  },
  {
   "cell_type": "code",
   "execution_count": null,
   "metadata": {},
   "outputs": [],
   "source": [
    "# exec() 用来执行字符串代码\n",
    "\n",
    "def exec_code():\n",
    "    LOC = '''\n",
    "def fun():\n",
    "    print('print from function fun.')\n",
    "\n",
    "fun()\n",
    "'''\n",
    "    exec(LOC)\n",
    "    \n",
    "exec_code()\n"
   ]
  },
  {
   "cell_type": "markdown",
   "metadata": {},
   "source": [
    "# 29. 翻转字符串"
   ]
  },
  {
   "cell_type": "code",
   "execution_count": null,
   "metadata": {},
   "outputs": [],
   "source": [
    "test_str = 'I love Python.'\n",
    "print(test_str[::-1])\n",
    "\n",
    "print(''.join(reversed(test_str)))"
   ]
  },
  {
   "cell_type": "markdown",
   "metadata": {},
   "source": [
    "# ? 30. 按key or value排序字典"
   ]
  },
  {
   "cell_type": "code",
   "execution_count": null,
   "metadata": {},
   "outputs": [],
   "source": [
    "test_dict = {4:'name', 2:'age', 3:'country', 1:'height', 5:'weight'}\n",
    "\n",
    "# 按key 排序字典\n",
    "for i in sorted(test_dict):\n",
    "    print((i,test_dict[i]), end = ' ')\n",
    "\n",
    "\n",
    "test_dict = {4:'name', 2:'age', 3:'country', 1:'height', 5:'weight'}\n",
    "\n",
    "# 按value 排序字典\n",
    "print('\\n\\n')\n",
    "\n",
    "test_dict.items()\n",
    "\n",
    "print(sorted(test_dict.items(), key = lambda kv:(kv[1], kv[0])))     \n",
    "\n",
    "\n",
    "\n",
    "\n",
    "\n",
    "\n",
    "\n"
   ]
  },
  {
   "cell_type": "code",
   "execution_count": null,
   "metadata": {},
   "outputs": [],
   "source": [
    "pairs = [(1, 'one'), (2, 'two'), (3, 'three'), (4, 'four')]\n",
    "pairs.sort(key=lambda pair: pair[1])\n",
    "pairs"
   ]
  },
  {
   "cell_type": "markdown",
   "metadata": {},
   "source": [
    "# 31.计算字典值之和"
   ]
  },
  {
   "cell_type": "code",
   "execution_count": 103,
   "metadata": {},
   "outputs": [
    {
     "name": "stdout",
     "output_type": "stream",
     "text": [
      "the sum value of all dict value is 60\n"
     ]
    }
   ],
   "source": [
    "test_dict = {'a':12, 'b':23, 'c':25}\n",
    "\n",
    "sum_dict = 0\n",
    "\n",
    "for k in test_dict:\n",
    "    sum_dict += test_dict[k]\n",
    "\n",
    "print(f'the sum value of all dict value is {sum_dict}')\n",
    "    \n"
   ]
  },
  {
   "cell_type": "code",
   "execution_count": null,
   "metadata": {},
   "outputs": [],
   "source": []
  }
 ],
 "metadata": {
  "kernelspec": {
   "display_name": "Python 3",
   "language": "python",
   "name": "python3"
  },
  "language_info": {
   "codemirror_mode": {
    "name": "ipython",
    "version": 3
   },
   "file_extension": ".py",
   "mimetype": "text/x-python",
   "name": "python",
   "nbconvert_exporter": "python",
   "pygments_lexer": "ipython3",
   "version": "3.7.3"
  }
 },
 "nbformat": 4,
 "nbformat_minor": 4
}
