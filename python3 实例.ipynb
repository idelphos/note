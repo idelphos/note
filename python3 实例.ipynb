{
 "cells": [
  {
   "cell_type": "markdown",
   "metadata": {},
   "source": [
    "# 1.Hello world"
   ]
  },
  {
   "cell_type": "code",
   "execution_count": null,
   "metadata": {},
   "outputs": [],
   "source": [
    "print('hello world.')"
   ]
  },
  {
   "cell_type": "markdown",
   "metadata": {},
   "source": [
    "# 2. 数字求和"
   ]
  },
  {
   "cell_type": "code",
   "execution_count": null,
   "metadata": {},
   "outputs": [],
   "source": [
    "def collect_data():\n",
    "    '''\n",
    "    获取用户多次输入的数字,返回用户所有输入的数字的列表\n",
    "    '''\n",
    "    input_list = []\n",
    "    \n",
    "    while True:\n",
    "        input_num = input(r'input the number(Q or q to quit): ')\n",
    "        if input_num.lower() == 'q':\n",
    "            break\n",
    "        elif input_num.isdigit():\n",
    "            input_list.append(float(input_num))\n",
    "        else:\n",
    "            print('your input is inlegal')\n",
    "            continue\n",
    "    \n",
    "    return input_list\n",
    "    \n",
    "    \n",
    "def sumt(inlist):\n",
    "    '''get the sum of all the numbers in the list.'''\n",
    "    \n",
    "    num = 0\n",
    "   \n",
    "    for i in inlist:\n",
    "        num += i\n",
    "    \n",
    "    return num\n",
    "\n",
    "\n",
    "if __name__ == '__main__':\n",
    "    collections = collect_data()\n",
    "    total = sumt(collections)\n",
    "    print('your numbers you input: {}'.format(collections))\n",
    "    print('The sum that you input is: {} '.format(total))\n",
    "        "
   ]
  },
  {
   "cell_type": "markdown",
   "metadata": {},
   "source": [
    "## 3. 求平方根"
   ]
  },
  {
   "cell_type": "code",
   "execution_count": null,
   "metadata": {},
   "outputs": [],
   "source": [
    "input_num = input(\"please input a number:\")\n",
    "if input_num.isdigit():\n",
    "    ex_num = float(input_num)\n",
    "    print('extraction of the number is: {:.3f}'.format(ex_num ** 0.5))\n",
    "else:\n",
    "    print('your input is illegal.')\n",
    "    sys.exit(1)\n",
    "\n",
    "\n",
    "#refer to \n",
    "#dir(str)   \n",
    "#help(str.isdecimal)\n",
    "\n",
    "    "
   ]
  },
  {
   "cell_type": "markdown",
   "metadata": {},
   "source": [
    "## 4. 求二次方根"
   ]
  },
  {
   "cell_type": "code",
   "execution_count": null,
   "metadata": {},
   "outputs": [],
   "source": [
    "\n",
    "'''\n",
    "# 二次方程式 ax**2 + bx + c = 0\n",
    "# a、b、c 用户提供，为实数，a ≠ 0\n",
    "若 b**2-4a*c < 0 无用\n",
    "解1 (-b+cmath.sqrt(b**2-4*a*c))/2*a\n",
    "解2 (-b-cmath.sqrt(b**2-4*a*c))/2*a\n",
    "'''\n",
    "\n",
    "import cmath\n",
    "import sys\n",
    "\n",
    "def get_num():\n",
    "    while True:\n",
    "        num = input(\"input the number: \")\n",
    "        if num.isdigit():\n",
    "            return float(num)\n",
    "        else:\n",
    "            print('your input is illegal, input again.')\n",
    "\n",
    "a = get_num()\n",
    "b = get_num()\n",
    "c = get_num()\n",
    "\n",
    "equation = r'{}X**2 + {}X + {} = 0'.format(a,b,c)\n",
    "\n",
    "if (b**2 - 4*a*c) < 0:\n",
    "    print('no solution for the equation :{}'.format(equation))\n",
    "    sys.exit(1)\n",
    "\n",
    "sol1 = (-b+(b**2-4*a*c) ** 0.5)/2*a\n",
    "sol2 = (-b-(b**2-4*a*c) ** 0.5)/2*a\n",
    "\n",
    "print('The solution of {} is :'.format(equation))\n",
    "print('sol1 = {:.2f}, sol2 = {:.2f}'.format(sol1,sol2))\n",
    "\n"
   ]
  },
  {
   "cell_type": "markdown",
   "metadata": {},
   "source": [
    "## 5.已知三边长,求三角形面积"
   ]
  },
  {
   "cell_type": "code",
   "execution_count": null,
   "metadata": {},
   "outputs": [],
   "source": [
    "'''\n",
    "半周长 p = (a + b + c)/2\n",
    "面积 area = cmath.sqrt(p * (p - a) * (p - b) * (p - c))\n",
    "'''\n",
    "import cmath\n",
    "\n",
    "def get_num():\n",
    "    while True:\n",
    "        num = input(\"input the number: \")\n",
    "        if num.isdigit():\n",
    "            return float(num)\n",
    "        else:\n",
    "            print('your input is illegal, input again.')\n",
    "\n",
    "a = get_num()\n",
    "b = get_num()\n",
    "c = get_num()\n",
    "\n",
    "#计算半周长                 \n",
    "p = (a + b + c)/2\n",
    "\n",
    "area = (p * (p - a) * (p - b) * (p - c)) ** 0.5\n",
    "\n",
    "print('the three sides of the triangle is: {a},{b},{c}, the area is {area:.2f}'.format(a=a,b=b,c=c,area=area))\n",
    "                    \n",
    "                    "
   ]
  },
  {
   "cell_type": "markdown",
   "metadata": {},
   "source": [
    "## 6. 计算圆面积\n",
    "\n",
    "S = PI * r * r"
   ]
  },
  {
   "cell_type": "code",
   "execution_count": null,
   "metadata": {},
   "outputs": [],
   "source": [
    "\n",
    "from math import pi\n",
    "PI = round(pi,3)\n",
    "\n",
    "def get_num(tips):\n",
    "    while True:\n",
    "        num = input(tips)\n",
    "        if num.replace('.','').isdigit() and num.count('.') <= 1:\n",
    "            return float(num)\n",
    "        else:\n",
    "            print('your input is illegal, input again.')\n",
    "            \n",
    "r = get_num(\"please input the R of the circle:\")\n",
    "\n",
    "print('R = {}, the area of the circle is {:.3f}'.format(r,PI * r * r))\n"
   ]
  },
  {
   "cell_type": "markdown",
   "metadata": {},
   "source": [
    "## 7. 生成随机数"
   ]
  },
  {
   "cell_type": "code",
   "execution_count": null,
   "metadata": {},
   "outputs": [],
   "source": [
    "import random\n",
    "\n",
    "#help(random)\n",
    "\n",
    "print(\"seq: random-num\")\n",
    "for i in range(100):\n",
    "    print(\"{}:     {}\".format(i,random.randint(1,100)))\n",
    "    \n"
   ]
  },
  {
   "cell_type": "markdown",
   "metadata": {},
   "source": [
    "## 8. 交换变量"
   ]
  },
  {
   "cell_type": "code",
   "execution_count": null,
   "metadata": {},
   "outputs": [],
   "source": [
    "def get_num(tips):\n",
    "    while True:\n",
    "        num = input(tips)\n",
    "        if num.replace('.','').isdigit() and num.count('.') <= 1:\n",
    "            return float(num)\n",
    "        else:\n",
    "            print('your input is illegal, input again.')\n",
    "            \n",
    "            \n",
    "\n",
    "x = get_num(\"x = \")\n",
    "y = get_num(\"y = \")\n",
    "print(\"x = {}, y = {}\".format(x,y))\n",
    "      \n",
    "x, y = y, x\n",
    "print(\"x = {}, y = {}\".format(x,y))"
   ]
  },
  {
   "cell_type": "markdown",
   "metadata": {},
   "source": [
    "## 9. 判断奇偶数\n",
    "\n",
    "isinstance(jud_num,int)  \n",
    "type(object)"
   ]
  },
  {
   "cell_type": "code",
   "execution_count": null,
   "metadata": {},
   "outputs": [],
   "source": [
    "def get_num(tips):\n",
    "    '''got a int or float from input'''\n",
    "    while True:\n",
    "        num = input(tips)\n",
    "        if num.replace('.','').isdigit():\n",
    "            if num.count('.') == 0:\n",
    "                return int(num)\n",
    "            elif num.count('.') == 1:\n",
    "                return float(num)\n",
    "            else:\n",
    "                print('your input is illegal, input again.')\n",
    "                continue\n",
    "        else:\n",
    "            print('your input is illegal, input again.')\n",
    "\n",
    "jud_num = get_num(\"please input a number \")\n",
    "\n",
    "if isinstance(jud_num,int):\n",
    "    if jud_num % 2 == 0:\n",
    "        print('{} is a even number.'.format(jud_num))\n",
    "    else:\n",
    "        print('{} is a odd number.'.format(jud_num))\n",
    "else:\n",
    "    print('{} is a float number,please input a int number'.format(jud_num))\n",
    "\n"
   ]
  },
  {
   "cell_type": "markdown",
   "metadata": {},
   "source": [
    "## 10. 判断闰年"
   ]
  },
  {
   "cell_type": "code",
   "execution_count": null,
   "metadata": {},
   "outputs": [],
   "source": [
    "def get_year():\n",
    "    \"got a year\"\n",
    "    while True:\n",
    "        year_num = input(\"input the year: \")\n",
    "        if year_num.replace('.','').isdigit() and year_num.count('.') == 0 and int(year_num) >= 0:\n",
    "            return int(year_num)\n",
    "        else:\n",
    "            print('your input is illegal, please input a valid year.')\n",
    "\n",
    "year = get_year()\n",
    "\n",
    "if year % 4 == 0:\n",
    "    if year % 100 == 0:\n",
    "        if year % 400 == 0:\n",
    "            print('{} is  a leap year.'.format(year))\n",
    "        else:\n",
    "            print('{} is not a leap year.'.format(year))\n",
    "    else:\n",
    "        print('{} is a leap year.'.format(year))\n",
    "    \n",
    "else:\n",
    "    print('{} is not a leap year.'.format(year))\n",
    "\n"
   ]
  },
  {
   "cell_type": "markdown",
   "metadata": {},
   "source": [
    "## 11.九九乘法表"
   ]
  },
  {
   "cell_type": "code",
   "execution_count": null,
   "metadata": {},
   "outputs": [],
   "source": [
    "for i in range(1,10):\n",
    "    for j in range(1, i+1):\n",
    "        print('{}x{} = {}'.format(j,i, i * j)+ ' ' , end = '')\n",
    "    print()\n",
    "       \n"
   ]
  },
  {
   "cell_type": "markdown",
   "metadata": {},
   "source": [
    "## 12.Fibonacci 数列\n",
    "第0项是0，第1项是第一个1。从第三项开始，每一项都等于前两项之和"
   ]
  },
  {
   "cell_type": "code",
   "execution_count": null,
   "metadata": {},
   "outputs": [],
   "source": [
    "def get_num(tips):\n",
    "    '''got a int or float from input'''\n",
    "    while True:\n",
    "        num = input(tips)\n",
    "        if num.replace('.','').isdigit():\n",
    "            if num.count('.') == 0:\n",
    "                return int(num)\n",
    "            elif num.count('.') == 1:\n",
    "                return float(num)\n",
    "            else:\n",
    "                print('your input is illegal.')\n",
    "                continue\n",
    "        else:\n",
    "            print('your input is illegal.')\n",
    "\n",
    "fab_num = int(get_num(\"input the numeric items of Fabonacci： \"))\n",
    "\n",
    "num1 = 0\n",
    "num2 = 1\n",
    "count = 2\n",
    "\n",
    "if fab_num <= 0:\n",
    "    print(\"the number less then 0, please input a positive int number: \")\n",
    "    fab_num = int(get_num(\"input the numeric items of Fabonacci： \"))\n",
    "elif fab_num == 1:\n",
    "    print(num1)\n",
    "else:\n",
    "    print(num1, ',', num2, ',',end = '')\n",
    "    while count < fab_num:\n",
    "        nth = num1 + num2\n",
    "        num1 = num2\n",
    "        num2 = nth\n",
    "        count += 1\n",
    "        print(nth,',',end = '')\n",
    "     \n",
    "            \n",
    "    \n"
   ]
  },
  {
   "cell_type": "markdown",
   "metadata": {},
   "source": [
    "## 13. 阿姆斯特朗数"
   ]
  },
  {
   "cell_type": "code",
   "execution_count": null,
   "metadata": {},
   "outputs": [],
   "source": [
    "\n",
    "def get_int(tips):\n",
    "    '''got an int number'''\n",
    "    while True:\n",
    "        user_type = input(tips)\n",
    "        if user_type.replace(',','').isdigit() and user_type.count('.') == 0:\n",
    "            return int(user_type)\n",
    "        else:\n",
    "            print(\"your input is illegal.\")\n",
    "    \n",
    "num = get_int()\n",
    "\n",
    "#位数\n",
    "n = len(str(num))\n",
    "\n",
    "# 求和\n",
    "sum = 0 \n",
    "\n",
    "temp = num\n",
    "while temp > 0:\n",
    "    digit = temp % 10\n",
    "    sum += digit ** n\n",
    "    temp //= 10\n",
    "\n",
    "if num == sum:\n",
    "    print('your input is {}, 是阿姆斯特朗数'.format(num))\n",
    "else:\n",
    "    print('your input is {}, 不是阿姆斯特朗数'.format(num))\n"
   ]
  },
  {
   "cell_type": "markdown",
   "metadata": {},
   "source": [
    "## 14. 文件IO"
   ]
  },
  {
   "cell_type": "code",
   "execution_count": 24,
   "metadata": {},
   "outputs": [
    {
     "data": {
      "text/plain": [
       "57"
      ]
     },
     "execution_count": 24,
     "metadata": {},
     "output_type": "execute_result"
    },
    {
     "name": "stdout",
     "output_type": "stream",
     "text": [
      "current line was writed into file test.txt. \n",
      "second line.\n",
      "Help on built-in function open in module io:\n",
      "\n",
      "open(file, mode='r', buffering=-1, encoding=None, errors=None, newline=None, closefd=True, opener=None)\n",
      "    Open file and return a stream.  Raise OSError upon failure.\n",
      "    \n",
      "    file is either a text or byte string giving the name (and the path\n",
      "    if the file isn't in the current working directory) of the file to\n",
      "    be opened or an integer file descriptor of the file to be\n",
      "    wrapped. (If a file descriptor is given, it is closed when the\n",
      "    returned I/O object is closed, unless closefd is set to False.)\n",
      "    \n",
      "    mode is an optional string that specifies the mode in which the file\n",
      "    is opened. It defaults to 'r' which means open for reading in text\n",
      "    mode.  Other common values are 'w' for writing (truncating the file if\n",
      "    it already exists), 'x' for creating and writing to a new file, and\n",
      "    'a' for appending (which on some Unix systems, means that all writes\n",
      "    append to the end of the file regardless of the current seek position).\n",
      "    In text mode, if encoding is not specified the encoding used is platform\n",
      "    dependent: locale.getpreferredencoding(False) is called to get the\n",
      "    current locale encoding. (For reading and writing raw bytes use binary\n",
      "    mode and leave encoding unspecified.) The available modes are:\n",
      "    \n",
      "    ========= ===============================================================\n",
      "    Character Meaning\n",
      "    --------- ---------------------------------------------------------------\n",
      "    'r'       open for reading (default)\n",
      "    'w'       open for writing, truncating the file first\n",
      "    'x'       create a new file and open it for writing\n",
      "    'a'       open for writing, appending to the end of the file if it exists\n",
      "    'b'       binary mode\n",
      "    't'       text mode (default)\n",
      "    '+'       open a disk file for updating (reading and writing)\n",
      "    'U'       universal newline mode (deprecated)\n",
      "    ========= ===============================================================\n",
      "    \n",
      "    The default mode is 'rt' (open for reading text). For binary random\n",
      "    access, the mode 'w+b' opens and truncates the file to 0 bytes, while\n",
      "    'r+b' opens the file without truncation. The 'x' mode implies 'w' and\n",
      "    raises an `FileExistsError` if the file already exists.\n",
      "    \n",
      "    Python distinguishes between files opened in binary and text modes,\n",
      "    even when the underlying operating system doesn't. Files opened in\n",
      "    binary mode (appending 'b' to the mode argument) return contents as\n",
      "    bytes objects without any decoding. In text mode (the default, or when\n",
      "    't' is appended to the mode argument), the contents of the file are\n",
      "    returned as strings, the bytes having been first decoded using a\n",
      "    platform-dependent encoding or using the specified encoding if given.\n",
      "    \n",
      "    'U' mode is deprecated and will raise an exception in future versions\n",
      "    of Python.  It has no effect in Python 3.  Use newline to control\n",
      "    universal newlines mode.\n",
      "    \n",
      "    buffering is an optional integer used to set the buffering policy.\n",
      "    Pass 0 to switch buffering off (only allowed in binary mode), 1 to select\n",
      "    line buffering (only usable in text mode), and an integer > 1 to indicate\n",
      "    the size of a fixed-size chunk buffer.  When no buffering argument is\n",
      "    given, the default buffering policy works as follows:\n",
      "    \n",
      "    * Binary files are buffered in fixed-size chunks; the size of the buffer\n",
      "      is chosen using a heuristic trying to determine the underlying device's\n",
      "      \"block size\" and falling back on `io.DEFAULT_BUFFER_SIZE`.\n",
      "      On many systems, the buffer will typically be 4096 or 8192 bytes long.\n",
      "    \n",
      "    * \"Interactive\" text files (files for which isatty() returns True)\n",
      "      use line buffering.  Other text files use the policy described above\n",
      "      for binary files.\n",
      "    \n",
      "    encoding is the name of the encoding used to decode or encode the\n",
      "    file. This should only be used in text mode. The default encoding is\n",
      "    platform dependent, but any encoding supported by Python can be\n",
      "    passed.  See the codecs module for the list of supported encodings.\n",
      "    \n",
      "    errors is an optional string that specifies how encoding errors are to\n",
      "    be handled---this argument should not be used in binary mode. Pass\n",
      "    'strict' to raise a ValueError exception if there is an encoding error\n",
      "    (the default of None has the same effect), or pass 'ignore' to ignore\n",
      "    errors. (Note that ignoring encoding errors can lead to data loss.)\n",
      "    See the documentation for codecs.register or run 'help(codecs.Codec)'\n",
      "    for a list of the permitted encoding error strings.\n",
      "    \n",
      "    newline controls how universal newlines works (it only applies to text\n",
      "    mode). It can be None, '', '\\n', '\\r', and '\\r\\n'.  It works as\n",
      "    follows:\n",
      "    \n",
      "    * On input, if newline is None, universal newlines mode is\n",
      "      enabled. Lines in the input can end in '\\n', '\\r', or '\\r\\n', and\n",
      "      these are translated into '\\n' before being returned to the\n",
      "      caller. If it is '', universal newline mode is enabled, but line\n",
      "      endings are returned to the caller untranslated. If it has any of\n",
      "      the other legal values, input lines are only terminated by the given\n",
      "      string, and the line ending is returned to the caller untranslated.\n",
      "    \n",
      "    * On output, if newline is None, any '\\n' characters written are\n",
      "      translated to the system default line separator, os.linesep. If\n",
      "      newline is '' or '\\n', no translation takes place. If newline is any\n",
      "      of the other legal values, any '\\n' characters written are translated\n",
      "      to the given string.\n",
      "    \n",
      "    If closefd is False, the underlying file descriptor will be kept open\n",
      "    when the file is closed. This does not work when a file name is given\n",
      "    and must be True in that case.\n",
      "    \n",
      "    A custom opener can be used by passing a callable as *opener*. The\n",
      "    underlying file descriptor for the file object is then obtained by\n",
      "    calling *opener* with (*file*, *flags*). *opener* must return an open\n",
      "    file descriptor (passing os.open as *opener* results in functionality\n",
      "    similar to passing None).\n",
      "    \n",
      "    open() returns a file object whose type depends on the mode, and\n",
      "    through which the standard file operations such as reading and writing\n",
      "    are performed. When open() is used to open a file in a text mode ('w',\n",
      "    'r', 'wt', 'rt', etc.), it returns a TextIOWrapper. When used to open\n",
      "    a file in a binary mode, the returned class varies: in read binary\n",
      "    mode, it returns a BufferedReader; in write binary and append binary\n",
      "    modes, it returns a BufferedWriter, and in read/write mode, it returns\n",
      "    a BufferedRandom.\n",
      "    \n",
      "    It is also possible to use a string or bytearray as a file for both\n",
      "    reading and writing. For strings StringIO can be used like a file\n",
      "    opened in a text mode, and for bytes a BytesIO can be used like a file\n",
      "    opened in a binary mode.\n",
      "\n"
     ]
    }
   ],
   "source": [
    "# write a file\n",
    "with open('/tmp/test.txt','w') as out_file:\n",
    "    out_file.write('current line was writed into file test.txt. \\nsecond line.')\n",
    "    \n",
    "# read a file\n",
    "with open('/tmp/test.txt','r') as read_file:\n",
    "    text = read_file.read()\n",
    "\n",
    "print(text)\n",
    "\n",
    "# refer to \n",
    "help(open)"
   ]
  },
  {
   "cell_type": "markdown",
   "metadata": {},
   "source": [
    "## 15. 最小公倍数"
   ]
  },
  {
   "cell_type": "markdown",
   "metadata": {},
   "source": [
    "## 16. 简单计算器"
   ]
  },
  {
   "cell_type": "code",
   "execution_count": null,
   "metadata": {},
   "outputs": [],
   "source": [
    "def get_num(tips):\n",
    "    '''got a int or float from input'''\n",
    "    while True:\n",
    "        num = input(tips)\n",
    "        if num.replace('.','').isdigit():\n",
    "            if num.count('.') == 0:\n",
    "                return int(num)\n",
    "            elif num.count('.') == 1:\n",
    "                return float(num)\n",
    "            else:\n",
    "                print('your input is illegal.')\n",
    "                continue\n",
    "        else:\n",
    "            print('your input is illegal.')\n",
    "\n",
    "def add(x, y):\n",
    "    return x + y\n",
    "\n",
    "def substract(x, y):\n",
    "    return x - y\n",
    "\n",
    "def multiple(x, y):\n",
    "    return x * y\n",
    "\n",
    "def divide(x, y):\n",
    "    return x/y\n",
    "\n",
    "x = get_num('输入第一个数:')\n",
    "y = get_num('输入第二个数:')\n",
    "\n",
    "\n",
    "print('选择计算方法:')\n",
    "print('1. 相加')\n",
    "print('2. 相减')\n",
    "print('3. 相乘')\n",
    "print('4. 相除')\n",
    "\n",
    "choice = input()\n",
    "\n",
    "if choice == '1':\n",
    "    print('{} + {} = {}'.format(x,y,add(x,y)))\n",
    "elif choice == '2':\n",
    "    print('{} - {} = {}'.format(x,y, substract(x,y)))\n",
    "elif choice == '3':\n",
    "    print('{} X {} = {}'.format(x,y, multiple(x,y)))\n",
    "elif choice == '4':\n",
    "    print('{} / {} = {}'.format(x,y, divide(x,y)))\n",
    "else:\n",
    "    print(\"please type 1,2,3,4 to choose the way to compute.\")\n"
   ]
  },
  {
   "cell_type": "markdown",
   "metadata": {},
   "source": [
    "# 17. 生成日历 计算每月天数"
   ]
  },
  {
   "cell_type": "code",
   "execution_count": 25,
   "metadata": {},
   "outputs": [
    {
     "name": "stdin",
     "output_type": "stream",
     "text": [
      "输入年号: 2020\n",
      "输入月份: 3\n"
     ]
    },
    {
     "name": "stdout",
     "output_type": "stream",
     "text": [
      "     March 2020\n",
      "Mo Tu We Th Fr Sa Su\n",
      "                   1\n",
      " 2  3  4  5  6  7  8\n",
      " 9 10 11 12 13 14 15\n",
      "16 17 18 19 20 21 22\n",
      "23 24 25 26 27 28 29\n",
      "30 31\n",
      "\n",
      "(6, 31)\n"
     ]
    }
   ],
   "source": [
    "import calendar\n",
    "\n",
    "def get_int(tips):\n",
    "    '''got an int number'''\n",
    "    while True:\n",
    "        user_type = input(tips)\n",
    "        if user_type.replace(',','').isdigit() and user_type.count('.') == 0:\n",
    "            return int(user_type)\n",
    "        else:\n",
    "            print(\"your input is illegal.\")\n",
    "\n",
    "yy = get_int(\"输入年号:\")\n",
    "mm = get_int(\"输入月份:\")\n",
    "\n",
    "print(calendar.month(yy, mm))\n",
    "\n",
    "monthRange = calendar.monthrange(2020,3)\n",
    "\n",
    "print(monthRange)    # output (6,31) 当月首日为星期天, 这个月31天. 元组第一个值取值0-6\n"
   ]
  },
  {
   "cell_type": "markdown",
   "metadata": {},
   "source": [
    "# 18.获取昨天日期"
   ]
  },
  {
   "cell_type": "code",
   "execution_count": 29,
   "metadata": {},
   "outputs": [
    {
     "name": "stdout",
     "output_type": "stream",
     "text": [
      "2020-07-17\n"
     ]
    }
   ],
   "source": [
    "import datetime\n",
    "\n",
    "def getYesterday():\n",
    "    today = datetime.date.today()\n",
    "    oneday = datetime.timedelta(days=1)\n",
    "    yesterday = today - oneday\n",
    "    return yesterday\n",
    "\n",
    "print(getYesterday())"
   ]
  },
  {
   "cell_type": "markdown",
   "metadata": {},
   "source": [
    "# 19. 递归实现斐波那契数列"
   ]
  },
  {
   "cell_type": "markdown",
   "metadata": {},
   "source": [
    "fab(0) = 0   \n",
    "fab(1) = 1   \n",
    "\n",
    "if n >= 2:    \n",
    "    fab(n) = fab(n-1) + fab(n-2)"
   ]
  },
  {
   "cell_type": "code",
   "execution_count": null,
   "metadata": {},
   "outputs": [],
   "source": [
    "def fab(n):\n",
    "    if n <= 1:\n",
    "        return n\n",
    "    else:\n",
    "        return fab(n-1) + fab(n-2)\n",
    "\n",
    "fab_num = int(input(\"fabonacci 数列元素个数: \"))\n",
    "\n",
    "for i in range(fab_num):\n",
    "    print(fab(i),',',end = '')\n",
    "\n",
    "\n",
    "        "
   ]
  },
  {
   "cell_type": "markdown",
   "metadata": {},
   "source": []
  },
  {
   "cell_type": "code",
   "execution_count": null,
   "metadata": {},
   "outputs": [],
   "source": []
  },
  {
   "cell_type": "markdown",
   "metadata": {},
   "source": [
    "## 列表\n",
    "Python 计算 n 个自然数的立方和  \n",
    "Python 计算数组元素之和  \n",
    "Python 数组翻转指定个数的元素  \n",
    "Python 将列表中的头尾两个元素对调  \n",
    "Python 将列表中的指定位置的两个元素对调  \n",
    "Python 翻转列表  \n",
    "Python 判断元素是否在列表中存在  \n",
    "Python 清空列表  \n",
    "Python 复制列表  \n",
    "Python 计算元素在列表中出现的次数  \n",
    "Python 计算列表元素之和  \n",
    "Python 计算列表元素之积  \n",
    "Python 查找列表中最小元素  \n",
    "Python 查找列表中最大元素  "
   ]
  },
  {
   "cell_type": "code",
   "execution_count": 30,
   "metadata": {},
   "outputs": [
    {
     "ename": "NameError",
     "evalue": "name 'Python' is not defined",
     "output_type": "error",
     "traceback": [
      "\u001b[0;31m---------------------------------------------------------------------------\u001b[0m",
      "\u001b[0;31mNameError\u001b[0m                                 Traceback (most recent call last)",
      "\u001b[0;32m<ipython-input-30-bfbd2dfdf1e8>\u001b[0m in \u001b[0;36m<module>\u001b[0;34m\u001b[0m\n\u001b[0;32m----> 1\u001b[0;31m \u001b[0mPython\u001b[0m \u001b[0;34m-\u001b[0m\u001b[0mV\u001b[0m\u001b[0;34m\u001b[0m\u001b[0;34m\u001b[0m\u001b[0m\n\u001b[0m",
      "\u001b[0;31mNameError\u001b[0m: name 'Python' is not defined"
     ]
    }
   ],
   "source": []
  },
  {
   "cell_type": "code",
   "execution_count": null,
   "metadata": {},
   "outputs": [],
   "source": []
  }
 ],
 "metadata": {
  "kernelspec": {
   "display_name": "Python 3",
   "language": "python",
   "name": "python3"
  },
  "language_info": {
   "codemirror_mode": {
    "name": "ipython",
    "version": 3
   },
   "file_extension": ".py",
   "mimetype": "text/x-python",
   "name": "python",
   "nbconvert_exporter": "python",
   "pygments_lexer": "ipython3",
   "version": "3.7.3"
  }
 },
 "nbformat": 4,
 "nbformat_minor": 4
}
