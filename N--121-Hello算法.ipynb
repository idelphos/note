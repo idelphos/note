{
 "cells": [
  {
   "cell_type": "markdown",
   "metadata": {},
   "source": [
    "### 1.2.1 算法定义\n",
    "\n",
    "算法是在有限时间内解决特定总理的一组指令或操作步骤, 它具有如下特征:\n",
    "\n",
    "- 问题是明确的: 包含清晰的输出和输出定义\n",
    "- 具有可行性: 能够在有限的步骤,时间和内存空间下完成\n",
    "- 各步骤都有确定的含义: 在相同的输入和运行条件下, 输出始终相同.\n",
    "\n",
    "### 1.2.2 数据结构定义\n",
    "数据结构是组织和存储数据的方式, 涵盖数据内容,数据之间的关系和数据操作方法. 它具有以下设计目标:\n",
    "- 空间占用尽量少,以节省内存\n",
    "- 数据操作尽可以快速\n",
    "- 提供简洁的数据表示和逻辑信息, 以便算法高效运行\n",
    "\n",
    "### 1.2.3 数据结构与算法的关系\n",
    "数据结构与算法联系紧密\n",
    "- 数据结构是算法的基础\n",
    "- 算法通常可以基于不同的数据结构实现, 但执行效率可能差别很大, 选择合适的数据结构是关键.\n"
   ]
  },
  {
   "cell_type": "code",
   "execution_count": null,
   "metadata": {},
   "outputs": [],
   "source": [
    "def for_loop(n:int) -> int:\n",
    "    pass\n",
    "\n"
   ]
  },
  {
   "cell_type": "markdown",
   "metadata": {},
   "source": [
    "# 3. 数据结构\n"
   ]
  },
  {
   "cell_type": "markdown",
   "metadata": {},
   "source": [
    "## 4.1 数组\n",
    "数组是一种线性表数据结构。它用一组连续的内存空间，来存储一组具有相同类型的数据。\n",
    "我们将元素在数据中的位置称为该元素的索引."
   ]
  }
 ],
 "metadata": {
  "kernelspec": {
   "display_name": "Python 3",
   "language": "python",
   "name": "python3"
  },
  "language_info": {
   "codemirror_mode": {
    "name": "ipython",
    "version": 3
   },
   "file_extension": ".py",
   "mimetype": "text/x-python",
   "name": "python",
   "nbconvert_exporter": "python",
   "pygments_lexer": "ipython3",
   "version": "3.11.5"
  }
 },
 "nbformat": 4,
 "nbformat_minor": 2
}
