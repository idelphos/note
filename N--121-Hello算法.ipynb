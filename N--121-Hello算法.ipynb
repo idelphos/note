{
 "cells": [
  {
   "cell_type": "markdown",
   "metadata": {},
   "source": [
    "### 1.2.1 算法定义\n",
    "\n",
    "算法是在有限时间内解决特定总理的一组指令或操作步骤, 它具有如下特征:\n",
    "\n",
    "- 问题是明确的: 包含清晰的输出和输出定义\n",
    "- 具有可行性: 能够在有限的步骤,时间和内存空间下完成\n",
    "- 各步骤都有确定的含义: 在相同的输入和运行条件下, 输出始终相同.\n",
    "\n",
    "### 1.2.2 数据结构定义\n",
    "数据结构是组织和存储数据的方式, 涵盖数据内容,数据之间的关系和数据操作方法. 它具有以下设计目标:\n",
    "- 空间占用尽量少,以节省内存\n",
    "- 数据操作尽可以快速\n",
    "- 提供简洁的数据表示和逻辑信息, 以便算法高效运行\n",
    "\n",
    "### 1.2.3 数据结构与算法的关系\n",
    "数据结构与算法联系紧密\n",
    "- 数据结构是算法的基础\n",
    "- 算法通常可以基于不同的数据结构实现, 但执行效率可能差别很大, 选择合适的数据结构是关键.\n"
   ]
  },
  {
   "cell_type": "markdown",
   "metadata": {},
   "source": [
    "## 2.2 迭代与递归\n",
    "迭代和递归是两种很常见的重复执行代码的结构\n",
    "\n",
    "### 2.2.1 迭代\n",
    "迭代是重复执行某个任务的控制结构. 在迭代中,程序会在满足一定条件下重复执行某段代码, 直到条件不再满足\n"
   ]
  },
  {
   "cell_type": "code",
   "execution_count": null,
   "metadata": {},
   "outputs": [],
   "source": [
    "def for_loop(n: int) -> int:\n",
    "    ''' for 循环'''\n",
    "    res = 0\n",
    "    '''求 1+2+3+...+n 的和'''\n",
    "    for i in range(1,n+1):\n",
    "        res += i\n",
    "    return res\n",
    "\n",
    "for_loop(10)"
   ]
  }
 ],
 "metadata": {
  "kernelspec": {
   "display_name": "Python 3",
   "language": "python",
   "name": "python3"
  },
  "language_info": {
   "codemirror_mode": {
    "name": "ipython",
    "version": 3
   },
   "file_extension": ".py",
   "mimetype": "text/x-python",
   "name": "python",
   "nbconvert_exporter": "python",
   "pygments_lexer": "ipython3",
   "version": "3.12.3"
  }
 },
 "nbformat": 4,
 "nbformat_minor": 2
}
