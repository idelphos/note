{
 "cells": [
  {
   "cell_type": "markdown",
   "metadata": {},
   "source": [
    "# 3. 打造Linux命令行工具\n",
    "\n",
    "### 3.1.1 使用sys.argv 获取命令行参数\n",
    "sys.argv 是一个保存命令行参数的普通列表. sys.argv[0] 是Python程序名, 后面是传递的参数\n"
   ]
  },
  {
   "cell_type": "code",
   "execution_count": null,
   "metadata": {
    "vscode": {
     "languageId": "plaintext"
    }
   },
   "outputs": [],
   "source": [
    "cat /etc/passwd"
   ]
  }
 ],
 "metadata": {
  "language_info": {
   "name": "python"
  }
 },
 "nbformat": 4,
 "nbformat_minor": 2
}
