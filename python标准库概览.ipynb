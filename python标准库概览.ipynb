{
 "cells": [
  {
   "cell_type": "markdown",
   "metadata": {},
   "source": [
    "[python标准库参考](https://docs.python.org/zh-cn/3/library/index.html)"
   ]
  },
  {
   "cell_type": "markdown",
   "metadata": {},
   "source": [
    "## 1.OS"
   ]
  },
  {
   "cell_type": "code",
   "execution_count": null,
   "metadata": {
    "slideshow": {
     "slide_type": "slide"
    }
   },
   "outputs": [],
   "source": [
    "import os\n",
    "#dir(os)                             #returns a list of all module functions>\n",
    "#help(os)                            #returns an extensive manual page created from the module's docstrings\n",
    "os.chdir('/Users/yadelph/OneDrive')\n",
    "os.getcwd()                             #pwd\n",
    "os.chdir('/Users/yadelph/Documents')    #cd\n",
    "os.getcwd()\n",
    "os.system('rmdir today')                #run system command\n",
    "os.system('mkdir today')   \n"
   ]
  },
  {
   "cell_type": "markdown",
   "metadata": {},
   "source": [
    "## 2.shutil"
   ]
  },
  {
   "cell_type": "code",
   "execution_count": null,
   "metadata": {
    "slideshow": {
     "slide_type": "subslide"
    }
   },
   "outputs": [],
   "source": [
    "import shutil\n",
    "import os\n",
    "os.getcwd()\n",
    "os.system('touch test.file')\n",
    "shutil.copyfile('test.file','test.file.bak')                 #cp \n",
    "! ls\n",
    "\n",
    "shutil.move('test.file.bak','test.file.mv')                 # mv\n",
    "! ls"
   ]
  },
  {
   "cell_type": "markdown",
   "metadata": {
    "tags": [
     "python"
    ]
   },
   "source": [
    "## 3.glob 文件通配符"
   ]
  },
  {
   "cell_type": "code",
   "execution_count": null,
   "metadata": {},
   "outputs": [],
   "source": [
    "import glob\n",
    "import os\n",
    "glob.glob('*.md')"
   ]
  },
  {
   "cell_type": "markdown",
   "metadata": {},
   "source": [
    "## 4. sys\n",
    "\n",
    "sys.argv 命令行参数  \n",
    "sys.stdin  \n",
    "sys.stderr  \n",
    "sys.stdout  \n",
    "sys.exit()    #退出当前程序\n"
   ]
  },
  {
   "cell_type": "markdown",
   "metadata": {},
   "source": [
    "## 5. re 字符串正则匹配"
   ]
  },
  {
   "cell_type": "markdown",
   "metadata": {},
   "source": [
    "# 6. str"
   ]
  },
  {
   "cell_type": "code",
   "execution_count": null,
   "metadata": {},
   "outputs": [],
   "source": [
    "help(str)"
   ]
  },
  {
   "cell_type": "markdown",
   "metadata": {},
   "source": [
    "## 6.1判断类方法  "
   ]
  },
  {
   "cell_type": "code",
   "execution_count": null,
   "metadata": {},
   "outputs": [],
   "source": [
    "\n",
    "\n",
    "print('first instance for class str')\n",
    "ss = \"its my first line\"\n",
    "\n",
    "print('1.', ss.isalnum())   #  所有字符都是数字或者字母  \n",
    "print('2.', ss.isalpha())   # 所有字符都是字母 \n",
    "print('3.', ss.isdigit())   # 所有字符都是数字 \n",
    "print('4.', ss.islower())   # 所有字符都是小写 \n",
    "print('5.', ss.isupper())   # 所有字符都是大写 \n",
    "print('6.', ss.istitle())   # 所有单词都是首字母大写，像标题  \n",
    "print('7.', ss.isspace())   # 所有字符都是空白字符、\\t、\\n、\\r\n",
    "print('8.', ss.)"
   ]
  },
  {
   "cell_type": "code",
   "execution_count": null,
   "metadata": {},
   "outputs": [],
   "source": []
  },
  {
   "cell_type": "markdown",
   "metadata": {},
   "source": [
    "## 6.2 大小写相关的方法"
   ]
  },
  {
   "cell_type": "code",
   "execution_count": null,
   "metadata": {},
   "outputs": [],
   "source": [
    "ss = \"this line IS for text test.\"\n",
    "print('1.',ss.upper())\n",
    "print('2.',ss.lower())\n",
    "print('3.',ss.isupper())\n",
    "print('4.',ss.islower())\n",
    "print('5.',ss.swapcase())    # 字符串大小写转换\n",
    "print('6.',ss.capitalize())  # 句子首字母大写"
   ]
  },
  {
   "cell_type": "code",
   "execution_count": null,
   "metadata": {},
   "outputs": [],
   "source": [
    "help(format)"
   ]
  },
  {
   "cell_type": "code",
   "execution_count": null,
   "metadata": {},
   "outputs": [],
   "source": [
    "'tea for too'.replace('too', 'two') "
   ]
  },
  {
   "cell_type": "markdown",
   "metadata": {},
   "source": [
    "# 7. builtins"
   ]
  },
  {
   "cell_type": "code",
   "execution_count": null,
   "metadata": {},
   "outputs": [],
   "source": [
    "help('FORMATTING')"
   ]
  },
  {
   "cell_type": "markdown",
   "metadata": {},
   "source": [
    "#### format()  "
   ]
  },
  {
   "cell_type": "code",
   "execution_count": null,
   "metadata": {},
   "outputs": [],
   "source": [
    "class Father:\n",
    "    def __init__(self,weight):\n",
    "        self.weight = weight\n",
    "\n",
    "inst1 = Father(30)\n",
    "\n",
    "a = 'string1'\n",
    "b = 'string2'\n",
    "players = ['how', 'are', 'you']\n",
    "\n",
    "\n",
    "\n",
    "print('{} {}'.format(a, b)) \n",
    "print('{0} {1}'.format(a, b))\n",
    "print('{1} {0}'.format(a, b))\n",
    "\n",
    "\"First, thou shalt count to {0}\"  # References first positional argument\n",
    "\"Bring me a {}\"                   # Implicitly references the first positional argument\n",
    "\"From {} to {}\".format(a,b)                   # Same as \"From {0} to {1}\"\n",
    "print(\"My quest is {name}\".format(name='world'))             # References keyword argument 'name'\n",
    "\"Weight in tons {0.weight}\".format(inst1)                 # 'weight' attribute of first positional arg\n",
    "\"Units destroyed: {players[0]}\".format(players=['how','are','you'])   # First element of keyword argument 'players'.\n",
    "\n",
    "\"{:.3f}\".format(3.14159)\n",
    "\n",
    "print('\\n'*4)\n",
    "\n",
    "help('FORMATTING')"
   ]
  },
  {
   "cell_type": "code",
   "execution_count": null,
   "metadata": {},
   "outputs": [],
   "source": []
  },
  {
   "cell_type": "markdown",
   "metadata": {},
   "source": [
    "# 7. IO"
   ]
  },
  {
   "cell_type": "markdown",
   "metadata": {},
   "source": [
    "## 7.1 file io"
   ]
  },
  {
   "cell_type": "markdown",
   "metadata": {},
   "source": [
    "### 7.1.1 open()"
   ]
  },
  {
   "cell_type": "code",
   "execution_count": null,
   "metadata": {},
   "outputs": [],
   "source": [
    "help(open)\n",
    "# built-in function "
   ]
  },
  {
   "cell_type": "code",
   "execution_count": null,
   "metadata": {},
   "outputs": [],
   "source": [
    "# write a file\n",
    "with open('/tmp/test.txt','w') as out_file:\n",
    "    out_file.write('current line was writed into file test.txt. \\nsecond line.')\n",
    "    \n",
    "# read a file\n",
    "with open('/tmp/test.txt','r') as read_file:\n",
    "    text = read_file.read()\n",
    "\n",
    "print(text)\n"
   ]
  },
  {
   "cell_type": "markdown",
   "metadata": {},
   "source": [
    "min()\n",
    "max()\n",
    "range()\n",
    "len()\n",
    "\n"
   ]
  },
  {
   "cell_type": "markdown",
   "metadata": {},
   "source": [
    "# time"
   ]
  },
  {
   "cell_type": "code",
   "execution_count": null,
   "metadata": {},
   "outputs": [],
   "source": [
    "# 将字符串的时间转换为时间戳\n",
    "\n",
    "import time\n",
    "\n",
    "a_time = \"2019-5-10 23:40:00\""
   ]
  }
 ],
 "metadata": {
  "kernelspec": {
   "display_name": "Python 3",
   "language": "python",
   "name": "python3"
  },
  "language_info": {
   "codemirror_mode": {
    "name": "ipython",
    "version": 3
   },
   "file_extension": ".py",
   "mimetype": "text/x-python",
   "name": "python",
   "nbconvert_exporter": "python",
   "pygments_lexer": "ipython3",
   "version": "3.7.3"
  },
  "toc-autonumbering": false,
  "toc-showmarkdowntxt": false,
  "toc-showtags": true
 },
 "nbformat": 4,
 "nbformat_minor": 4
}
