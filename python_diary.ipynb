{
 "cells": [
  {
   "cell_type": "markdown",
   "metadata": {},
   "source": [
    "# 2025-01-02.1\n",
    "## mysql-connector-python"
   ]
  },
  {
   "cell_type": "code",
   "execution_count": null,
   "metadata": {},
   "outputs": [
    {
     "name": "stdout",
     "output_type": "stream",
     "text": [
      "(10001, 'Senior Engineer', datetime.date(1986, 6, 26), datetime.date(9999, 1, 1))\n"
     ]
    }
   ],
   "source": [
    "import mysql.connector\n",
    "cnx = mysql.connector.connect(user='root', password='yuanjun861213',host='127.0.0.1',database='employees')\n",
    "\n",
    "cur = cnx.cursor()\n",
    "cur.execute(\"select * from titles\")\n",
    "\n",
    "row = cur.fetchone()\n",
    "print(row)\n",
    "cnx.close()"
   ]
  },
  {
   "cell_type": "code",
   "execution_count": null,
   "metadata": {},
   "outputs": [
    {
     "name": "stdout",
     "output_type": "stream",
     "text": [
      "(10001, 'Senior Engineer', datetime.date(1986, 6, 26), datetime.date(9999, 1, 1))\n"
     ]
    }
   ],
   "source": [
    "import mysql.connector\n",
    "\n",
    "config = {\n",
    "    'user': 'root',\n",
    "    'password':'yuanjun861213',\n",
    "    'host':'127.0.0.1',\n",
    "    'database':'employees',\n",
    "    'raise_on_warnings':True\n",
    "}\n",
    "\n",
    "cnx = mysql.connector.connect(**config)\n",
    "cur = cnx.cursor()\n",
    "\n",
    "cur.execute(\"select * from titles\")\n",
    "row = cur.fetchone()\n",
    "print(row)\n",
    "cnx.close()\n"
   ]
  }
 ],
 "metadata": {
  "kernelspec": {
   "display_name": "Python 3",
   "language": "python",
   "name": "python3"
  },
  "language_info": {
   "name": "python",
   "version": "3.11.5"
  }
 },
 "nbformat": 4,
 "nbformat_minor": 2
}
